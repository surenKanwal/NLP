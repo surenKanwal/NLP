{
  "nbformat": 4,
  "nbformat_minor": 0,
  "metadata": {
    "colab": {
      "name": "ner_MITMovieCorpus.ipynb",
      "provenance": [],
      "collapsed_sections": [],
      "authorship_tag": "ABX9TyNtQxvWy+swQCozQcmpjilS",
      "include_colab_link": true
    },
    "kernelspec": {
      "name": "python3",
      "display_name": "Python 3"
    },
    "language_info": {
      "name": "python"
    }
  },
  "cells": [
    {
      "cell_type": "markdown",
      "metadata": {
        "id": "view-in-github",
        "colab_type": "text"
      },
      "source": [
        "<a href=\"https://colab.research.google.com/github/skmisht/NLP/blob/main/ner_MITMovieCorpus.ipynb\" target=\"_parent\"><img src=\"https://colab.research.google.com/assets/colab-badge.svg\" alt=\"Open In Colab\"/></a>"
      ]
    },
    {
      "cell_type": "markdown",
      "metadata": {
        "id": "j88BXNT2_uff"
      },
      "source": [
        "# Named Entity Recognition \n",
        "  - MIT Movie Corpus"
      ]
    },
    {
      "cell_type": "code",
      "metadata": {
        "colab": {
          "base_uri": "https://localhost:8080/"
        },
        "id": "W2gl-wUP_2jb",
        "outputId": "e4496909-f7dc-417b-add2-f8956e3f927c"
      },
      "source": [
        "# interacting with Operating System\n",
        "import os\n",
        "# dataframe module\n",
        "import pandas as pd\n",
        "# array processing module\n",
        "import numpy as np\n",
        "\n",
        "# matplot plots\n",
        "import matplotlib.pyplot as plt \n",
        "# another plotting module\n",
        "import seaborn as sns \n",
        "# parrameter for visuals\n",
        "sns.set(color_codes=True)\n",
        "# parameter for visuals\n",
        "sns.set(font_scale=1)\n",
        "%matplotlib inline\n",
        "# set default image format after ploting\n",
        "%config InlineBackend.figure_format = 'svg' \n",
        "\n",
        "# sklearn\n",
        "import sklearn\n",
        "# install sklearn_crfsuite\n",
        "!pip install sklearn-crfsuite\n",
        "# sklearn and sklearn_crfsuite\n",
        "from sklearn_crfsuite import CRF, scorers, metrics\n",
        "# packeages in crfsuite for the performance rates\n",
        "from sklearn_crfsuite.metrics import flat_classification_report, flat_accuracy_score\n",
        "# sklearn package for performance rate\n",
        "from sklearn.metrics import classification_report, make_scorer\n",
        "# package for randomized search on hyper parameter\n",
        "from sklearn.model_selection import RandomizedSearchCV\n",
        "# package to split the data into train/test\n",
        "from sklearn.model_selection import train_test_split\n",
        "\n",
        "# scipy - mathematically use\n",
        "import scipy.stats\n",
        "\n",
        "# # eli5 - module to debug machine learning classifiers and to explain thier prediction\n",
        "# !pip install eli5\n",
        "# import eli5\n",
        "\n",
        "# nltk - natural language processing\n",
        "import nltk\n",
        "# nltk version\n",
        "print(\"nltk {0}\".format(nltk.__version__))\n",
        "# to represent the hierarchical grouping of leaves and subtress\n",
        "from nltk.tree import Tree\n",
        "# to convert the CoNll IOB format to a tree\n",
        "from nltk.chunk import conlltags2tree\n",
        "# nlltk - to create part of speech tags, \n",
        "from nltk import word_tokenize, pos_tag\n",
        "# nltk executors\n",
        "# tagger for tagging words with their parts of speech (PoS) tags\n",
        "nltk.download('averaged_perceptron_tagger')\n",
        "# package to auto downloads nltk stopwords \n",
        "nltk.download('maxent_ne_chunker')\n",
        "# executor package to work with human language data\n",
        "nltk.download('words')\n",
        "# executor package for tokenized sentence that are divided as a texts into a list of sequence\n",
        "nltk.download('punkt')"
      ],
      "execution_count": 1,
      "outputs": [
        {
          "output_type": "stream",
          "text": [
            "Collecting sklearn-crfsuite\n",
            "  Downloading https://files.pythonhosted.org/packages/25/74/5b7befa513482e6dee1f3dd68171a6c9dfc14c0eaa00f885ffeba54fe9b0/sklearn_crfsuite-0.3.6-py2.py3-none-any.whl\n",
            "Requirement already satisfied: tqdm>=2.0 in /usr/local/lib/python3.7/dist-packages (from sklearn-crfsuite) (4.41.1)\n",
            "Requirement already satisfied: tabulate in /usr/local/lib/python3.7/dist-packages (from sklearn-crfsuite) (0.8.9)\n",
            "Collecting python-crfsuite>=0.8.3\n",
            "\u001b[?25l  Downloading https://files.pythonhosted.org/packages/79/47/58f16c46506139f17de4630dbcfb877ce41a6355a1bbf3c443edb9708429/python_crfsuite-0.9.7-cp37-cp37m-manylinux1_x86_64.whl (743kB)\n",
            "\u001b[K     |████████████████████████████████| 747kB 3.9MB/s \n",
            "\u001b[?25hRequirement already satisfied: six in /usr/local/lib/python3.7/dist-packages (from sklearn-crfsuite) (1.15.0)\n",
            "Installing collected packages: python-crfsuite, sklearn-crfsuite\n",
            "Successfully installed python-crfsuite-0.9.7 sklearn-crfsuite-0.3.6\n",
            "nltk 3.2.5\n",
            "[nltk_data] Downloading package averaged_perceptron_tagger to\n",
            "[nltk_data]     /root/nltk_data...\n",
            "[nltk_data]   Unzipping taggers/averaged_perceptron_tagger.zip.\n",
            "[nltk_data] Downloading package maxent_ne_chunker to\n",
            "[nltk_data]     /root/nltk_data...\n",
            "[nltk_data]   Unzipping chunkers/maxent_ne_chunker.zip.\n",
            "[nltk_data] Downloading package words to /root/nltk_data...\n",
            "[nltk_data]   Unzipping corpora/words.zip.\n",
            "[nltk_data] Downloading package punkt to /root/nltk_data...\n",
            "[nltk_data]   Unzipping tokenizers/punkt.zip.\n"
          ],
          "name": "stdout"
        },
        {
          "output_type": "execute_result",
          "data": {
            "text/plain": [
              "True"
            ]
          },
          "metadata": {
            "tags": []
          },
          "execution_count": 1
        }
      ]
    },
    {
      "cell_type": "markdown",
      "metadata": {
        "id": "j0kBZLWQAhnG"
      },
      "source": [
        "# Load MIT Movie Corpus\n",
        "  - manualy created Sentence index for movie data\n",
        "  - Used the one combined file to avoid the overlap and similar data in train & test file. I would have concatenate these file using panda/other package in python but created while I did the sentence indexing."
      ]
    },
    {
      "cell_type": "code",
      "metadata": {
        "colab": {
          "base_uri": "https://localhost:8080/"
        },
        "id": "IgC8bPVOA1W9",
        "outputId": "6ee1d4c5-5bba-4030-c022-b17c1c8cec5e"
      },
      "source": [
        "# declare varaible to store file_path\n",
        "_mitMovie = '/content/MovieData.txt'\n",
        "\n",
        "# load data into movieData variable\n",
        "movieData = pd.read_csv(_mitMovie,\n",
        "                        names = ['sentences', 'entity_tags', 'words'],\n",
        "                        sep='\\t',\n",
        "                        header=None, \n",
        "                        encoding='latin1')\n",
        "# display first 5 rows\n",
        "print(\"---------- MITMovie Corpus Data --------------\")\n",
        "print(movieData.head())\n",
        "\n",
        "print() # blank line\n",
        "print(\"Data shape {0}\".format(movieData.shape))"
      ],
      "execution_count": 3,
      "outputs": [
        {
          "output_type": "stream",
          "text": [
            "---------- MITMovie Corpus Data --------------\n",
            "     sentences entity_tags     words\n",
            "0  sentence: 1           O       are\n",
            "1  sentence: 1           O     there\n",
            "2  sentence: 1           O       any\n",
            "3  sentence: 1           O      good\n",
            "4  sentence: 1     B-GENRE  romantic\n",
            "\n",
            "Data shape (43408, 3)\n"
          ],
          "name": "stdout"
        }
      ]
    },
    {
      "cell_type": "markdown",
      "metadata": {
        "id": "z-iZf9G8BfdV"
      },
      "source": [
        "# Data Exploration\n",
        "  - Checking if there is any nulls in data\n",
        "  - Entity tags frequency\n",
        "  - Histogram: texts distribution by each entity_tags"
      ]
    },
    {
      "cell_type": "code",
      "metadata": {
        "colab": {
          "base_uri": "https://localhost:8080/"
        },
        "id": "g-Grp9LpBfAc",
        "outputId": "617fc159-9527-4151-d60a-6baff45682e1"
      },
      "source": [
        "\n",
        "# check if there is any nulls\n",
        "print(\"Nulls seen in the Corpus:\\n\", movieData.isnull().sum() / movieData.shape[0]*100)"
      ],
      "execution_count": 4,
      "outputs": [
        {
          "output_type": "stream",
          "text": [
            "Nulls seen in the Corpus:\n",
            " sentences      0.0\n",
            "entity_tags    0.0\n",
            "words          0.0\n",
            "dtype: float64\n"
          ],
          "name": "stdout"
        }
      ]
    },
    {
      "cell_type": "markdown",
      "metadata": {
        "id": "-Bk5ahiHBvO3"
      },
      "source": [
        "Note: Based on above output, there has not been detected any missing (NaN/Nulls) into data."
      ]
    },
    {
      "cell_type": "code",
      "metadata": {
        "colab": {
          "base_uri": "https://localhost:8080/"
        },
        "id": "LVopeNZ3BcVT",
        "outputId": "416e51f7-b2b2-4c14-e58f-92dec07ffec2"
      },
      "source": [
        "# function to create a table of Frequency count by Named entity tags\n",
        "def CountFrequency(data):\n",
        "  \"\"\"\n",
        "  Function to count the frequency by named entity tags in corpus.\n",
        "  Args:\n",
        "    Data (named entity tags) - a list containing entity tags.\n",
        "  Returns:\n",
        "    Frequency by named entity tags in Sentence Corpus.\n",
        "  \"\"\"\n",
        "  # create an empty dict to store the count by entity tags\n",
        "  tags_freq = {}\n",
        "  # iterate over each item in list\n",
        "  for items in data:\n",
        "    # if item is in dict then increment item esle start as 1\n",
        "    if items in tags_freq:\n",
        "      tags_freq[items] += 1\n",
        "    else:\n",
        "      tags_freq[items] = 1\n",
        "  # define column names in table\n",
        "  print(f\"{'Tags':20} Frequency\")\n",
        "  # create divider between column names and the output\n",
        "  print(\"---\"*10)\n",
        "  # iterate over items in dict\n",
        "  for key, value in tags_freq.items():\n",
        "    print(f\"{key:20} {value}\")\n",
        "\n",
        "# call the function - function expects the \n",
        "print(\"----- Frequency by named entity tags ------\")\n",
        "CountFrequency(movieData['entity_tags'])"
      ],
      "execution_count": 5,
      "outputs": [
        {
          "output_type": "stream",
          "text": [
            "----- Frequency by named entity tags ------\n",
            "Tags                 Frequency\n",
            "------------------------------\n",
            "O                    26360\n",
            "B-GENRE              1772\n",
            "I-GENRE              386\n",
            "B-YEAR               1132\n",
            "I-YEAR               808\n",
            "B-PLOT               798\n",
            "I-PLOT               745\n",
            "B-RATINGS_AVERAGE    660\n",
            "I-RATINGS_AVERAGE    613\n",
            "B-ACTOR              1337\n",
            "I-ACTOR              1415\n",
            "B-TITLE              1448\n",
            "I-TITLE              2242\n",
            "B-SONG               144\n",
            "B-CHARACTER          228\n",
            "B-RATING             712\n",
            "I-RATING             318\n",
            "B-REVIEW             171\n",
            "B-DIRECTOR           717\n",
            "I-DIRECTOR           755\n",
            "I-REVIEW             94\n",
            "I-SONG               270\n",
            "I-CHARACTER          189\n",
            "B-TRAILER            82\n",
            "I-TRAILER            12\n"
          ],
          "name": "stdout"
        }
      ]
    },
    {
      "cell_type": "markdown",
      "metadata": {
        "id": "x4RMzawsEPY6"
      },
      "source": [
        "The above frequency table indecates that there is a maximum count for named entity tagged aas \"O\" which means \"Outside of the chunk means that token does not belongs to the chunk. Let's see how the distribution without \"O\" looks in graph below."
      ]
    },
    {
      "cell_type": "code",
      "metadata": {
        "colab": {
          "base_uri": "https://localhost:8080/",
          "height": 715
        },
        "id": "qQYZKz6_BcSE",
        "outputId": "3eae80f8-776f-467c-e248-73d0d7724a24"
      },
      "source": [
        "# plotting Frequency: Histogram - tags Distribution\n",
        "def entityHistogram(data, num_bins=None):\n",
        "    \"\"\"\n",
        "    Function to plot the histogram of named entity tags distribution.\n",
        "    Args:\n",
        "        Data (named entity tags) - a list containing entity tags.\n",
        "    Returns:\n",
        "        Histogram - Named Entity tags distribution.\n",
        "    \"\"\"\n",
        "    # tags as labels\n",
        "    labels = data.unique()\n",
        "    # figure size\n",
        "    plt.figure(figsize=(36, 8))\n",
        "    # if the bins value is not None\n",
        "    if num_bins is not None:\n",
        "        n, bins, patches = plt.hist(x = data, bins = num_bins, color='#0504aa', alpha = 00.75, rwidth = 0.9)\n",
        "    # else no bins value is provided\n",
        "    else:\n",
        "        print(\"Number of bins required is not defined!\")\n",
        "    # set title\n",
        "    plt.title(\"Histogram: Distribution by Entity tags\", fontsize = 16)\n",
        "    # set grids\n",
        "    plt.grid(axis='y', alpha=0.75)\n",
        "    # set y position\n",
        "    y_pos = np.arange(len(labels))\n",
        "    # set current tick location\n",
        "    plt.xticks(y_pos , labels)\n",
        "    # set x & y axis labels \n",
        "    plt.ylabel('Frequency' , fontsize = 15)\n",
        "    plt.xlabel('Named Entity Tags', fontsize=15)\n",
        "    # compute frequency\n",
        "    maxfreq = n.max()\n",
        "    # Set a clean upper y-axis limit.\n",
        "    plt.ylim(ymax=np.ceil(maxfreq / 10) * 10 if maxfreq % 10 else maxfreq + 10)\n",
        "    \n",
        "# call entityHistogram() on training data\n",
        "movieData_withoutO = movieData[movieData['entity_tags'] != 'O']\n",
        "entityHistogram(movieData_withoutO['entity_tags'], num_bins=24)"
      ],
      "execution_count": 6,
      "outputs": [
        {
          "output_type": "display_data",
          "data": {
            "text/plain": [
              "<Figure size 2592x576 with 1 Axes>"
            ],
            "image/svg+xml": "<?xml version=\"1.0\" encoding=\"utf-8\" standalone=\"no\"?>\n<!DOCTYPE svg PUBLIC \"-//W3C//DTD SVG 1.1//EN\"\n  \"http://www.w3.org/Graphics/SVG/1.1/DTD/svg11.dtd\">\n<!-- Created with matplotlib (https://matplotlib.org/) -->\n<svg height=\"506.212344pt\" version=\"1.1\" viewBox=\"0 0 2079.212188 506.212344\" width=\"2079.212188pt\" xmlns=\"http://www.w3.org/2000/svg\" xmlns:xlink=\"http://www.w3.org/1999/xlink\">\n <defs>\n  <style type=\"text/css\">\n*{stroke-linecap:butt;stroke-linejoin:round;}\n  </style>\n </defs>\n <g id=\"figure_1\">\n  <g id=\"patch_1\">\n   <path d=\"M 0 506.212344 \nL 2079.212188 506.212344 \nL 2079.212188 0 \nL 0 0 \nz\n\" style=\"fill:none;\"/>\n  </g>\n  <g id=\"axes_1\">\n   <g id=\"patch_2\">\n    <path d=\"M 63.212187 460.2375 \nL 2072.012187 460.2375 \nL 2072.012187 25.3575 \nL 63.212187 25.3575 \nz\n\" style=\"fill:#eaeaf2;\"/>\n   </g>\n   <g id=\"matplotlib.axis_1\">\n    <g id=\"xtick_1\">\n     <g id=\"line2d_1\">\n      <path clip-path=\"url(#p04d673e66c)\" d=\"M 150.700814 460.2375 \nL 150.700814 25.3575 \n\" style=\"fill:none;stroke:#ffffff;stroke-linecap:round;\"/>\n     </g>\n     <g id=\"text_1\">\n      <!-- B-GENRE -->\n      <defs>\n       <path d=\"M 19.671875 34.8125 \nL 19.671875 8.109375 \nL 35.5 8.109375 \nQ 43.453125 8.109375 47.28125 11.40625 \nQ 51.125 14.703125 51.125 21.484375 \nQ 51.125 28.328125 47.28125 31.5625 \nQ 43.453125 34.8125 35.5 34.8125 \nz\nM 19.671875 64.796875 \nL 19.671875 42.828125 \nL 34.28125 42.828125 \nQ 41.5 42.828125 45.03125 45.53125 \nQ 48.578125 48.25 48.578125 53.8125 \nQ 48.578125 59.328125 45.03125 62.0625 \nQ 41.5 64.796875 34.28125 64.796875 \nz\nM 9.8125 72.90625 \nL 35.015625 72.90625 \nQ 46.296875 72.90625 52.390625 68.21875 \nQ 58.5 63.53125 58.5 54.890625 \nQ 58.5 48.1875 55.375 44.234375 \nQ 52.25 40.28125 46.1875 39.3125 \nQ 53.46875 37.75 57.5 32.78125 \nQ 61.53125 27.828125 61.53125 20.40625 \nQ 61.53125 10.640625 54.890625 5.3125 \nQ 48.25 0 35.984375 0 \nL 9.8125 0 \nz\n\" id=\"DejaVuSans-66\"/>\n       <path d=\"M 4.890625 31.390625 \nL 31.203125 31.390625 \nL 31.203125 23.390625 \nL 4.890625 23.390625 \nz\n\" id=\"DejaVuSans-45\"/>\n       <path d=\"M 59.515625 10.40625 \nL 59.515625 29.984375 \nL 43.40625 29.984375 \nL 43.40625 38.09375 \nL 69.28125 38.09375 \nL 69.28125 6.78125 \nQ 63.578125 2.734375 56.6875 0.65625 \nQ 49.8125 -1.421875 42 -1.421875 \nQ 24.90625 -1.421875 15.25 8.5625 \nQ 5.609375 18.5625 5.609375 36.375 \nQ 5.609375 54.25 15.25 64.234375 \nQ 24.90625 74.21875 42 74.21875 \nQ 49.125 74.21875 55.546875 72.453125 \nQ 61.96875 70.703125 67.390625 67.28125 \nL 67.390625 56.78125 \nQ 61.921875 61.421875 55.765625 63.765625 \nQ 49.609375 66.109375 42.828125 66.109375 \nQ 29.4375 66.109375 22.71875 58.640625 \nQ 16.015625 51.171875 16.015625 36.375 \nQ 16.015625 21.625 22.71875 14.15625 \nQ 29.4375 6.6875 42.828125 6.6875 \nQ 48.046875 6.6875 52.140625 7.59375 \nQ 56.25 8.5 59.515625 10.40625 \nz\n\" id=\"DejaVuSans-71\"/>\n       <path d=\"M 9.8125 72.90625 \nL 55.90625 72.90625 \nL 55.90625 64.59375 \nL 19.671875 64.59375 \nL 19.671875 43.015625 \nL 54.390625 43.015625 \nL 54.390625 34.71875 \nL 19.671875 34.71875 \nL 19.671875 8.296875 \nL 56.78125 8.296875 \nL 56.78125 0 \nL 9.8125 0 \nz\n\" id=\"DejaVuSans-69\"/>\n       <path d=\"M 9.8125 72.90625 \nL 23.09375 72.90625 \nL 55.421875 11.921875 \nL 55.421875 72.90625 \nL 64.984375 72.90625 \nL 64.984375 0 \nL 51.703125 0 \nL 19.390625 60.984375 \nL 19.390625 0 \nL 9.8125 0 \nz\n\" id=\"DejaVuSans-78\"/>\n       <path d=\"M 44.390625 34.1875 \nQ 47.5625 33.109375 50.5625 29.59375 \nQ 53.5625 26.078125 56.59375 19.921875 \nL 66.609375 0 \nL 56 0 \nL 46.6875 18.703125 \nQ 43.0625 26.03125 39.671875 28.421875 \nQ 36.28125 30.8125 30.421875 30.8125 \nL 19.671875 30.8125 \nL 19.671875 0 \nL 9.8125 0 \nL 9.8125 72.90625 \nL 32.078125 72.90625 \nQ 44.578125 72.90625 50.734375 67.671875 \nQ 56.890625 62.453125 56.890625 51.90625 \nQ 56.890625 45.015625 53.6875 40.46875 \nQ 50.484375 35.9375 44.390625 34.1875 \nz\nM 19.671875 64.796875 \nL 19.671875 38.921875 \nL 32.078125 38.921875 \nQ 39.203125 38.921875 42.84375 42.21875 \nQ 46.484375 45.515625 46.484375 51.90625 \nQ 46.484375 58.296875 42.84375 61.546875 \nQ 39.203125 64.796875 32.078125 64.796875 \nz\n\" id=\"DejaVuSans-82\"/>\n      </defs>\n      <g style=\"fill:#262626;\" transform=\"translate(125.595033 478.095781)scale(0.11 -0.11)\">\n       <use xlink:href=\"#DejaVuSans-66\"/>\n       <use x=\"68.603516\" xlink:href=\"#DejaVuSans-45\"/>\n       <use x=\"108.3125\" xlink:href=\"#DejaVuSans-71\"/>\n       <use x=\"185.802734\" xlink:href=\"#DejaVuSans-69\"/>\n       <use x=\"248.986328\" xlink:href=\"#DejaVuSans-78\"/>\n       <use x=\"323.791016\" xlink:href=\"#DejaVuSans-82\"/>\n       <use x=\"393.273438\" xlink:href=\"#DejaVuSans-69\"/>\n      </g>\n     </g>\n    </g>\n    <g id=\"xtick_2\">\n     <g id=\"line2d_2\">\n      <path clip-path=\"url(#p04d673e66c)\" d=\"M 230.432238 460.2375 \nL 230.432238 25.3575 \n\" style=\"fill:none;stroke:#ffffff;stroke-linecap:round;\"/>\n     </g>\n     <g id=\"text_2\">\n      <!-- I-GENRE -->\n      <defs>\n       <path d=\"M 9.8125 72.90625 \nL 19.671875 72.90625 \nL 19.671875 0 \nL 9.8125 0 \nz\n\" id=\"DejaVuSans-73\"/>\n      </defs>\n      <g style=\"fill:#262626;\" transform=\"translate(207.477472 478.095781)scale(0.11 -0.11)\">\n       <use xlink:href=\"#DejaVuSans-73\"/>\n       <use x=\"29.492188\" xlink:href=\"#DejaVuSans-45\"/>\n       <use x=\"69.201172\" xlink:href=\"#DejaVuSans-71\"/>\n       <use x=\"146.691406\" xlink:href=\"#DejaVuSans-69\"/>\n       <use x=\"209.875\" xlink:href=\"#DejaVuSans-78\"/>\n       <use x=\"284.679688\" xlink:href=\"#DejaVuSans-82\"/>\n       <use x=\"354.162109\" xlink:href=\"#DejaVuSans-69\"/>\n      </g>\n     </g>\n    </g>\n    <g id=\"xtick_3\">\n     <g id=\"line2d_3\">\n      <path clip-path=\"url(#p04d673e66c)\" d=\"M 310.163662 460.2375 \nL 310.163662 25.3575 \n\" style=\"fill:none;stroke:#ffffff;stroke-linecap:round;\"/>\n     </g>\n     <g id=\"text_3\">\n      <!-- B-YEAR -->\n      <defs>\n       <path d=\"M -0.203125 72.90625 \nL 10.40625 72.90625 \nL 30.609375 42.921875 \nL 50.6875 72.90625 \nL 61.28125 72.90625 \nL 35.5 34.71875 \nL 35.5 0 \nL 25.59375 0 \nL 25.59375 34.71875 \nz\n\" id=\"DejaVuSans-89\"/>\n       <path d=\"M 34.1875 63.1875 \nL 20.796875 26.90625 \nL 47.609375 26.90625 \nz\nM 28.609375 72.90625 \nL 39.796875 72.90625 \nL 67.578125 0 \nL 57.328125 0 \nL 50.6875 18.703125 \nL 17.828125 18.703125 \nL 11.1875 0 \nL 0.78125 0 \nz\n\" id=\"DejaVuSans-65\"/>\n      </defs>\n      <g style=\"fill:#262626;\" transform=\"translate(290.640381 478.095781)scale(0.11 -0.11)\">\n       <use xlink:href=\"#DejaVuSans-66\"/>\n       <use x=\"68.603516\" xlink:href=\"#DejaVuSans-45\"/>\n       <use x=\"92.8125\" xlink:href=\"#DejaVuSans-89\"/>\n       <use x=\"153.896484\" xlink:href=\"#DejaVuSans-69\"/>\n       <use x=\"217.080078\" xlink:href=\"#DejaVuSans-65\"/>\n       <use x=\"285.488281\" xlink:href=\"#DejaVuSans-82\"/>\n      </g>\n     </g>\n    </g>\n    <g id=\"xtick_4\">\n     <g id=\"line2d_4\">\n      <path clip-path=\"url(#p04d673e66c)\" d=\"M 389.895086 460.2375 \nL 389.895086 25.3575 \n\" style=\"fill:none;stroke:#ffffff;stroke-linecap:round;\"/>\n     </g>\n     <g id=\"text_4\">\n      <!-- I-YEAR -->\n      <g style=\"fill:#262626;\" transform=\"translate(372.52282 478.095781)scale(0.11 -0.11)\">\n       <use xlink:href=\"#DejaVuSans-73\"/>\n       <use x=\"29.492188\" xlink:href=\"#DejaVuSans-45\"/>\n       <use x=\"53.701172\" xlink:href=\"#DejaVuSans-89\"/>\n       <use x=\"114.785156\" xlink:href=\"#DejaVuSans-69\"/>\n       <use x=\"177.96875\" xlink:href=\"#DejaVuSans-65\"/>\n       <use x=\"246.376953\" xlink:href=\"#DejaVuSans-82\"/>\n      </g>\n     </g>\n    </g>\n    <g id=\"xtick_5\">\n     <g id=\"line2d_5\">\n      <path clip-path=\"url(#p04d673e66c)\" d=\"M 469.626509 460.2375 \nL 469.626509 25.3575 \n\" style=\"fill:none;stroke:#ffffff;stroke-linecap:round;\"/>\n     </g>\n     <g id=\"text_5\">\n      <!-- B-PLOT -->\n      <defs>\n       <path d=\"M 19.671875 64.796875 \nL 19.671875 37.40625 \nL 32.078125 37.40625 \nQ 38.96875 37.40625 42.71875 40.96875 \nQ 46.484375 44.53125 46.484375 51.125 \nQ 46.484375 57.671875 42.71875 61.234375 \nQ 38.96875 64.796875 32.078125 64.796875 \nz\nM 9.8125 72.90625 \nL 32.078125 72.90625 \nQ 44.34375 72.90625 50.609375 67.359375 \nQ 56.890625 61.8125 56.890625 51.125 \nQ 56.890625 40.328125 50.609375 34.8125 \nQ 44.34375 29.296875 32.078125 29.296875 \nL 19.671875 29.296875 \nL 19.671875 0 \nL 9.8125 0 \nz\n\" id=\"DejaVuSans-80\"/>\n       <path d=\"M 9.8125 72.90625 \nL 19.671875 72.90625 \nL 19.671875 8.296875 \nL 55.171875 8.296875 \nL 55.171875 0 \nL 9.8125 0 \nz\n\" id=\"DejaVuSans-76\"/>\n       <path d=\"M 39.40625 66.21875 \nQ 28.65625 66.21875 22.328125 58.203125 \nQ 16.015625 50.203125 16.015625 36.375 \nQ 16.015625 22.609375 22.328125 14.59375 \nQ 28.65625 6.59375 39.40625 6.59375 \nQ 50.140625 6.59375 56.421875 14.59375 \nQ 62.703125 22.609375 62.703125 36.375 \nQ 62.703125 50.203125 56.421875 58.203125 \nQ 50.140625 66.21875 39.40625 66.21875 \nz\nM 39.40625 74.21875 \nQ 54.734375 74.21875 63.90625 63.9375 \nQ 73.09375 53.65625 73.09375 36.375 \nQ 73.09375 19.140625 63.90625 8.859375 \nQ 54.734375 -1.421875 39.40625 -1.421875 \nQ 24.03125 -1.421875 14.8125 8.828125 \nQ 5.609375 19.09375 5.609375 36.375 \nQ 5.609375 53.65625 14.8125 63.9375 \nQ 24.03125 74.21875 39.40625 74.21875 \nz\n\" id=\"DejaVuSans-79\"/>\n       <path d=\"M -0.296875 72.90625 \nL 61.375 72.90625 \nL 61.375 64.59375 \nL 35.5 64.59375 \nL 35.5 0 \nL 25.59375 0 \nL 25.59375 64.59375 \nL -0.296875 64.59375 \nz\n\" id=\"DejaVuSans-84\"/>\n      </defs>\n      <g style=\"fill:#262626;\" transform=\"translate(449.998384 478.095781)scale(0.11 -0.11)\">\n       <use xlink:href=\"#DejaVuSans-66\"/>\n       <use x=\"68.603516\" xlink:href=\"#DejaVuSans-45\"/>\n       <use x=\"104.6875\" xlink:href=\"#DejaVuSans-80\"/>\n       <use x=\"164.990234\" xlink:href=\"#DejaVuSans-76\"/>\n       <use x=\"217.078125\" xlink:href=\"#DejaVuSans-79\"/>\n       <use x=\"295.789062\" xlink:href=\"#DejaVuSans-84\"/>\n      </g>\n     </g>\n    </g>\n    <g id=\"xtick_6\">\n     <g id=\"line2d_6\">\n      <path clip-path=\"url(#p04d673e66c)\" d=\"M 549.357933 460.2375 \nL 549.357933 25.3575 \n\" style=\"fill:none;stroke:#ffffff;stroke-linecap:round;\"/>\n     </g>\n     <g id=\"text_6\">\n      <!-- I-PLOT -->\n      <g style=\"fill:#262626;\" transform=\"translate(531.880824 478.095781)scale(0.11 -0.11)\">\n       <use xlink:href=\"#DejaVuSans-73\"/>\n       <use x=\"29.492188\" xlink:href=\"#DejaVuSans-45\"/>\n       <use x=\"65.576172\" xlink:href=\"#DejaVuSans-80\"/>\n       <use x=\"125.878906\" xlink:href=\"#DejaVuSans-76\"/>\n       <use x=\"177.966797\" xlink:href=\"#DejaVuSans-79\"/>\n       <use x=\"256.677734\" xlink:href=\"#DejaVuSans-84\"/>\n      </g>\n     </g>\n    </g>\n    <g id=\"xtick_7\">\n     <g id=\"line2d_7\">\n      <path clip-path=\"url(#p04d673e66c)\" d=\"M 629.089357 460.2375 \nL 629.089357 25.3575 \n\" style=\"fill:none;stroke:#ffffff;stroke-linecap:round;\"/>\n     </g>\n     <g id=\"text_7\">\n      <!-- B-RATINGS_AVERAGE -->\n      <defs>\n       <path d=\"M 53.515625 70.515625 \nL 53.515625 60.890625 \nQ 47.90625 63.578125 42.921875 64.890625 \nQ 37.9375 66.21875 33.296875 66.21875 \nQ 25.25 66.21875 20.875 63.09375 \nQ 16.5 59.96875 16.5 54.203125 \nQ 16.5 49.359375 19.40625 46.890625 \nQ 22.3125 44.4375 30.421875 42.921875 \nL 36.375 41.703125 \nQ 47.40625 39.59375 52.65625 34.296875 \nQ 57.90625 29 57.90625 20.125 \nQ 57.90625 9.515625 50.796875 4.046875 \nQ 43.703125 -1.421875 29.984375 -1.421875 \nQ 24.8125 -1.421875 18.96875 -0.25 \nQ 13.140625 0.921875 6.890625 3.21875 \nL 6.890625 13.375 \nQ 12.890625 10.015625 18.65625 8.296875 \nQ 24.421875 6.59375 29.984375 6.59375 \nQ 38.421875 6.59375 43.015625 9.90625 \nQ 47.609375 13.234375 47.609375 19.390625 \nQ 47.609375 24.75 44.3125 27.78125 \nQ 41.015625 30.8125 33.5 32.328125 \nL 27.484375 33.5 \nQ 16.453125 35.6875 11.515625 40.375 \nQ 6.59375 45.0625 6.59375 53.421875 \nQ 6.59375 63.09375 13.40625 68.65625 \nQ 20.21875 74.21875 32.171875 74.21875 \nQ 37.3125 74.21875 42.625 73.28125 \nQ 47.953125 72.359375 53.515625 70.515625 \nz\n\" id=\"DejaVuSans-83\"/>\n       <path d=\"M 50.984375 -16.609375 \nL 50.984375 -23.578125 \nL -0.984375 -23.578125 \nL -0.984375 -16.609375 \nz\n\" id=\"DejaVuSans-95\"/>\n       <path d=\"M 28.609375 0 \nL 0.78125 72.90625 \nL 11.078125 72.90625 \nL 34.1875 11.53125 \nL 57.328125 72.90625 \nL 67.578125 72.90625 \nL 39.796875 0 \nz\n\" id=\"DejaVuSans-86\"/>\n      </defs>\n      <g style=\"fill:#262626;\" transform=\"translate(571.139982 477.901562)scale(0.11 -0.11)\">\n       <use xlink:href=\"#DejaVuSans-66\"/>\n       <use x=\"68.603516\" xlink:href=\"#DejaVuSans-45\"/>\n       <use x=\"104.6875\" xlink:href=\"#DejaVuSans-82\"/>\n       <use x=\"170.169922\" xlink:href=\"#DejaVuSans-65\"/>\n       <use x=\"230.828125\" xlink:href=\"#DejaVuSans-84\"/>\n       <use x=\"291.912109\" xlink:href=\"#DejaVuSans-73\"/>\n       <use x=\"321.404297\" xlink:href=\"#DejaVuSans-78\"/>\n       <use x=\"396.208984\" xlink:href=\"#DejaVuSans-71\"/>\n       <use x=\"473.699219\" xlink:href=\"#DejaVuSans-83\"/>\n       <use x=\"537.175781\" xlink:href=\"#DejaVuSans-95\"/>\n       <use x=\"587.175781\" xlink:href=\"#DejaVuSans-65\"/>\n       <use x=\"649.208984\" xlink:href=\"#DejaVuSans-86\"/>\n       <use x=\"717.617188\" xlink:href=\"#DejaVuSans-69\"/>\n       <use x=\"780.800781\" xlink:href=\"#DejaVuSans-82\"/>\n       <use x=\"846.283203\" xlink:href=\"#DejaVuSans-65\"/>\n       <use x=\"912.941406\" xlink:href=\"#DejaVuSans-71\"/>\n       <use x=\"990.431641\" xlink:href=\"#DejaVuSans-69\"/>\n      </g>\n     </g>\n    </g>\n    <g id=\"xtick_8\">\n     <g id=\"line2d_8\">\n      <path clip-path=\"url(#p04d673e66c)\" d=\"M 708.820781 460.2375 \nL 708.820781 25.3575 \n\" style=\"fill:none;stroke:#ffffff;stroke-linecap:round;\"/>\n     </g>\n     <g id=\"text_8\">\n      <!-- I-RATINGS_AVERAGE -->\n      <g style=\"fill:#262626;\" transform=\"translate(653.022421 477.901562)scale(0.11 -0.11)\">\n       <use xlink:href=\"#DejaVuSans-73\"/>\n       <use x=\"29.492188\" xlink:href=\"#DejaVuSans-45\"/>\n       <use x=\"65.576172\" xlink:href=\"#DejaVuSans-82\"/>\n       <use x=\"131.058594\" xlink:href=\"#DejaVuSans-65\"/>\n       <use x=\"191.716797\" xlink:href=\"#DejaVuSans-84\"/>\n       <use x=\"252.800781\" xlink:href=\"#DejaVuSans-73\"/>\n       <use x=\"282.292969\" xlink:href=\"#DejaVuSans-78\"/>\n       <use x=\"357.097656\" xlink:href=\"#DejaVuSans-71\"/>\n       <use x=\"434.587891\" xlink:href=\"#DejaVuSans-83\"/>\n       <use x=\"498.064453\" xlink:href=\"#DejaVuSans-95\"/>\n       <use x=\"548.064453\" xlink:href=\"#DejaVuSans-65\"/>\n       <use x=\"610.097656\" xlink:href=\"#DejaVuSans-86\"/>\n       <use x=\"678.505859\" xlink:href=\"#DejaVuSans-69\"/>\n       <use x=\"741.689453\" xlink:href=\"#DejaVuSans-82\"/>\n       <use x=\"807.171875\" xlink:href=\"#DejaVuSans-65\"/>\n       <use x=\"873.830078\" xlink:href=\"#DejaVuSans-71\"/>\n       <use x=\"951.320312\" xlink:href=\"#DejaVuSans-69\"/>\n      </g>\n     </g>\n    </g>\n    <g id=\"xtick_9\">\n     <g id=\"line2d_9\">\n      <path clip-path=\"url(#p04d673e66c)\" d=\"M 788.552204 460.2375 \nL 788.552204 25.3575 \n\" style=\"fill:none;stroke:#ffffff;stroke-linecap:round;\"/>\n     </g>\n     <g id=\"text_9\">\n      <!-- B-ACTOR -->\n      <defs>\n       <path d=\"M 64.40625 67.28125 \nL 64.40625 56.890625 \nQ 59.421875 61.53125 53.78125 63.8125 \nQ 48.140625 66.109375 41.796875 66.109375 \nQ 29.296875 66.109375 22.65625 58.46875 \nQ 16.015625 50.828125 16.015625 36.375 \nQ 16.015625 21.96875 22.65625 14.328125 \nQ 29.296875 6.6875 41.796875 6.6875 \nQ 48.140625 6.6875 53.78125 8.984375 \nQ 59.421875 11.28125 64.40625 15.921875 \nL 64.40625 5.609375 \nQ 59.234375 2.09375 53.4375 0.328125 \nQ 47.65625 -1.421875 41.21875 -1.421875 \nQ 24.65625 -1.421875 15.125 8.703125 \nQ 5.609375 18.84375 5.609375 36.375 \nQ 5.609375 53.953125 15.125 64.078125 \nQ 24.65625 74.21875 41.21875 74.21875 \nQ 47.75 74.21875 53.53125 72.484375 \nQ 59.328125 70.75 64.40625 67.28125 \nz\n\" id=\"DejaVuSans-67\"/>\n      </defs>\n      <g style=\"fill:#262626;\" transform=\"translate(763.901032 478.095781)scale(0.11 -0.11)\">\n       <use xlink:href=\"#DejaVuSans-66\"/>\n       <use x=\"68.603516\" xlink:href=\"#DejaVuSans-45\"/>\n       <use x=\"102.4375\" xlink:href=\"#DejaVuSans-65\"/>\n       <use x=\"169.095703\" xlink:href=\"#DejaVuSans-67\"/>\n       <use x=\"238.919922\" xlink:href=\"#DejaVuSans-84\"/>\n       <use x=\"300.003906\" xlink:href=\"#DejaVuSans-79\"/>\n       <use x=\"378.714844\" xlink:href=\"#DejaVuSans-82\"/>\n      </g>\n     </g>\n    </g>\n    <g id=\"xtick_10\">\n     <g id=\"line2d_10\">\n      <path clip-path=\"url(#p04d673e66c)\" d=\"M 868.283628 460.2375 \nL 868.283628 25.3575 \n\" style=\"fill:none;stroke:#ffffff;stroke-linecap:round;\"/>\n     </g>\n     <g id=\"text_10\">\n      <!-- I-ACTOR -->\n      <g style=\"fill:#262626;\" transform=\"translate(845.783472 478.095781)scale(0.11 -0.11)\">\n       <use xlink:href=\"#DejaVuSans-73\"/>\n       <use x=\"29.492188\" xlink:href=\"#DejaVuSans-45\"/>\n       <use x=\"63.326172\" xlink:href=\"#DejaVuSans-65\"/>\n       <use x=\"129.984375\" xlink:href=\"#DejaVuSans-67\"/>\n       <use x=\"199.808594\" xlink:href=\"#DejaVuSans-84\"/>\n       <use x=\"260.892578\" xlink:href=\"#DejaVuSans-79\"/>\n       <use x=\"339.603516\" xlink:href=\"#DejaVuSans-82\"/>\n      </g>\n     </g>\n    </g>\n    <g id=\"xtick_11\">\n     <g id=\"line2d_11\">\n      <path clip-path=\"url(#p04d673e66c)\" d=\"M 948.015052 460.2375 \nL 948.015052 25.3575 \n\" style=\"fill:none;stroke:#ffffff;stroke-linecap:round;\"/>\n     </g>\n     <g id=\"text_11\">\n      <!-- B-TITLE -->\n      <g style=\"fill:#262626;\" transform=\"translate(927.878177 478.095781)scale(0.11 -0.11)\">\n       <use xlink:href=\"#DejaVuSans-66\"/>\n       <use x=\"68.603516\" xlink:href=\"#DejaVuSans-45\"/>\n       <use x=\"95.5625\" xlink:href=\"#DejaVuSans-84\"/>\n       <use x=\"156.646484\" xlink:href=\"#DejaVuSans-73\"/>\n       <use x=\"186.138672\" xlink:href=\"#DejaVuSans-84\"/>\n       <use x=\"247.222656\" xlink:href=\"#DejaVuSans-76\"/>\n       <use x=\"302.935547\" xlink:href=\"#DejaVuSans-69\"/>\n      </g>\n     </g>\n    </g>\n    <g id=\"xtick_12\">\n     <g id=\"line2d_12\">\n      <path clip-path=\"url(#p04d673e66c)\" d=\"M 1027.746476 460.2375 \nL 1027.746476 25.3575 \n\" style=\"fill:none;stroke:#ffffff;stroke-linecap:round;\"/>\n     </g>\n     <g id=\"text_12\">\n      <!-- I-TITLE -->\n      <g style=\"fill:#262626;\" transform=\"translate(1009.760616 478.095781)scale(0.11 -0.11)\">\n       <use xlink:href=\"#DejaVuSans-73\"/>\n       <use x=\"29.492188\" xlink:href=\"#DejaVuSans-45\"/>\n       <use x=\"56.451172\" xlink:href=\"#DejaVuSans-84\"/>\n       <use x=\"117.535156\" xlink:href=\"#DejaVuSans-73\"/>\n       <use x=\"147.027344\" xlink:href=\"#DejaVuSans-84\"/>\n       <use x=\"208.111328\" xlink:href=\"#DejaVuSans-76\"/>\n       <use x=\"263.824219\" xlink:href=\"#DejaVuSans-69\"/>\n      </g>\n     </g>\n    </g>\n    <g id=\"xtick_13\">\n     <g id=\"line2d_13\">\n      <path clip-path=\"url(#p04d673e66c)\" d=\"M 1107.477899 460.2375 \nL 1107.477899 25.3575 \n\" style=\"fill:none;stroke:#ffffff;stroke-linecap:round;\"/>\n     </g>\n     <g id=\"text_13\">\n      <!-- B-SONG -->\n      <g style=\"fill:#262626;\" transform=\"translate(1085.522587 478.095781)scale(0.11 -0.11)\">\n       <use xlink:href=\"#DejaVuSans-66\"/>\n       <use x=\"68.603516\" xlink:href=\"#DejaVuSans-45\"/>\n       <use x=\"104.6875\" xlink:href=\"#DejaVuSans-83\"/>\n       <use x=\"168.164062\" xlink:href=\"#DejaVuSans-79\"/>\n       <use x=\"246.875\" xlink:href=\"#DejaVuSans-78\"/>\n       <use x=\"321.679688\" xlink:href=\"#DejaVuSans-71\"/>\n      </g>\n     </g>\n    </g>\n    <g id=\"xtick_14\">\n     <g id=\"line2d_14\">\n      <path clip-path=\"url(#p04d673e66c)\" d=\"M 1187.209323 460.2375 \nL 1187.209323 25.3575 \n\" style=\"fill:none;stroke:#ffffff;stroke-linecap:round;\"/>\n     </g>\n     <g id=\"text_14\">\n      <!-- B-CHARACTER -->\n      <defs>\n       <path d=\"M 9.8125 72.90625 \nL 19.671875 72.90625 \nL 19.671875 43.015625 \nL 55.515625 43.015625 \nL 55.515625 72.90625 \nL 65.375 72.90625 \nL 65.375 0 \nL 55.515625 0 \nL 55.515625 34.71875 \nL 19.671875 34.71875 \nL 19.671875 0 \nL 9.8125 0 \nz\n\" id=\"DejaVuSans-72\"/>\n      </defs>\n      <g style=\"fill:#262626;\" transform=\"translate(1147.947917 478.095781)scale(0.11 -0.11)\">\n       <use xlink:href=\"#DejaVuSans-66\"/>\n       <use x=\"68.603516\" xlink:href=\"#DejaVuSans-45\"/>\n       <use x=\"104.6875\" xlink:href=\"#DejaVuSans-67\"/>\n       <use x=\"174.511719\" xlink:href=\"#DejaVuSans-72\"/>\n       <use x=\"249.707031\" xlink:href=\"#DejaVuSans-65\"/>\n       <use x=\"318.115234\" xlink:href=\"#DejaVuSans-82\"/>\n       <use x=\"383.597656\" xlink:href=\"#DejaVuSans-65\"/>\n       <use x=\"450.255859\" xlink:href=\"#DejaVuSans-67\"/>\n       <use x=\"520.080078\" xlink:href=\"#DejaVuSans-84\"/>\n       <use x=\"581.164062\" xlink:href=\"#DejaVuSans-69\"/>\n       <use x=\"644.347656\" xlink:href=\"#DejaVuSans-82\"/>\n      </g>\n     </g>\n    </g>\n    <g id=\"xtick_15\">\n     <g id=\"line2d_15\">\n      <path clip-path=\"url(#p04d673e66c)\" d=\"M 1266.940747 460.2375 \nL 1266.940747 25.3575 \n\" style=\"fill:none;stroke:#ffffff;stroke-linecap:round;\"/>\n     </g>\n     <g id=\"text_15\">\n      <!-- B-RATING -->\n      <g style=\"fill:#262626;\" transform=\"translate(1240.887075 478.095781)scale(0.11 -0.11)\">\n       <use xlink:href=\"#DejaVuSans-66\"/>\n       <use x=\"68.603516\" xlink:href=\"#DejaVuSans-45\"/>\n       <use x=\"104.6875\" xlink:href=\"#DejaVuSans-82\"/>\n       <use x=\"170.169922\" xlink:href=\"#DejaVuSans-65\"/>\n       <use x=\"230.828125\" xlink:href=\"#DejaVuSans-84\"/>\n       <use x=\"291.912109\" xlink:href=\"#DejaVuSans-73\"/>\n       <use x=\"321.404297\" xlink:href=\"#DejaVuSans-78\"/>\n       <use x=\"396.208984\" xlink:href=\"#DejaVuSans-71\"/>\n      </g>\n     </g>\n    </g>\n    <g id=\"xtick_16\">\n     <g id=\"line2d_16\">\n      <path clip-path=\"url(#p04d673e66c)\" d=\"M 1346.672171 460.2375 \nL 1346.672171 25.3575 \n\" style=\"fill:none;stroke:#ffffff;stroke-linecap:round;\"/>\n     </g>\n     <g id=\"text_16\">\n      <!-- I-RATING -->\n      <g style=\"fill:#262626;\" transform=\"translate(1322.769514 478.095781)scale(0.11 -0.11)\">\n       <use xlink:href=\"#DejaVuSans-73\"/>\n       <use x=\"29.492188\" xlink:href=\"#DejaVuSans-45\"/>\n       <use x=\"65.576172\" xlink:href=\"#DejaVuSans-82\"/>\n       <use x=\"131.058594\" xlink:href=\"#DejaVuSans-65\"/>\n       <use x=\"191.716797\" xlink:href=\"#DejaVuSans-84\"/>\n       <use x=\"252.800781\" xlink:href=\"#DejaVuSans-73\"/>\n       <use x=\"282.292969\" xlink:href=\"#DejaVuSans-78\"/>\n       <use x=\"357.097656\" xlink:href=\"#DejaVuSans-71\"/>\n      </g>\n     </g>\n    </g>\n    <g id=\"xtick_17\">\n     <g id=\"line2d_17\">\n      <path clip-path=\"url(#p04d673e66c)\" d=\"M 1426.403594 460.2375 \nL 1426.403594 25.3575 \n\" style=\"fill:none;stroke:#ffffff;stroke-linecap:round;\"/>\n     </g>\n     <g id=\"text_17\">\n      <!-- B-REVIEW -->\n      <defs>\n       <path d=\"M 3.328125 72.90625 \nL 13.28125 72.90625 \nL 28.609375 11.28125 \nL 43.890625 72.90625 \nL 54.984375 72.90625 \nL 70.3125 11.28125 \nL 85.59375 72.90625 \nL 95.609375 72.90625 \nL 77.296875 0 \nL 64.890625 0 \nL 49.515625 63.28125 \nL 33.984375 0 \nL 21.578125 0 \nz\n\" id=\"DejaVuSans-87\"/>\n      </defs>\n      <g style=\"fill:#262626;\" transform=\"translate(1399.050548 478.095781)scale(0.11 -0.11)\">\n       <use xlink:href=\"#DejaVuSans-66\"/>\n       <use x=\"68.603516\" xlink:href=\"#DejaVuSans-45\"/>\n       <use x=\"104.6875\" xlink:href=\"#DejaVuSans-82\"/>\n       <use x=\"174.169922\" xlink:href=\"#DejaVuSans-69\"/>\n       <use x=\"237.353516\" xlink:href=\"#DejaVuSans-86\"/>\n       <use x=\"305.761719\" xlink:href=\"#DejaVuSans-73\"/>\n       <use x=\"335.253906\" xlink:href=\"#DejaVuSans-69\"/>\n       <use x=\"398.4375\" xlink:href=\"#DejaVuSans-87\"/>\n      </g>\n     </g>\n    </g>\n    <g id=\"xtick_18\">\n     <g id=\"line2d_18\">\n      <path clip-path=\"url(#p04d673e66c)\" d=\"M 1506.135018 460.2375 \nL 1506.135018 25.3575 \n\" style=\"fill:none;stroke:#ffffff;stroke-linecap:round;\"/>\n     </g>\n     <g id=\"text_18\">\n      <!-- B-DIRECTOR -->\n      <defs>\n       <path d=\"M 19.671875 64.796875 \nL 19.671875 8.109375 \nL 31.59375 8.109375 \nQ 46.6875 8.109375 53.6875 14.9375 \nQ 60.6875 21.78125 60.6875 36.53125 \nQ 60.6875 51.171875 53.6875 57.984375 \nQ 46.6875 64.796875 31.59375 64.796875 \nz\nM 9.8125 72.90625 \nL 30.078125 72.90625 \nQ 51.265625 72.90625 61.171875 64.09375 \nQ 71.09375 55.28125 71.09375 36.53125 \nQ 71.09375 17.671875 61.125 8.828125 \nQ 51.171875 0 30.078125 0 \nL 9.8125 0 \nz\n\" id=\"DejaVuSans-68\"/>\n      </defs>\n      <g style=\"fill:#262626;\" transform=\"translate(1471.871737 478.095781)scale(0.11 -0.11)\">\n       <use xlink:href=\"#DejaVuSans-66\"/>\n       <use x=\"68.603516\" xlink:href=\"#DejaVuSans-45\"/>\n       <use x=\"104.6875\" xlink:href=\"#DejaVuSans-68\"/>\n       <use x=\"181.689453\" xlink:href=\"#DejaVuSans-73\"/>\n       <use x=\"211.181641\" xlink:href=\"#DejaVuSans-82\"/>\n       <use x=\"280.664062\" xlink:href=\"#DejaVuSans-69\"/>\n       <use x=\"343.847656\" xlink:href=\"#DejaVuSans-67\"/>\n       <use x=\"413.671875\" xlink:href=\"#DejaVuSans-84\"/>\n       <use x=\"474.755859\" xlink:href=\"#DejaVuSans-79\"/>\n       <use x=\"553.466797\" xlink:href=\"#DejaVuSans-82\"/>\n      </g>\n     </g>\n    </g>\n    <g id=\"xtick_19\">\n     <g id=\"line2d_19\">\n      <path clip-path=\"url(#p04d673e66c)\" d=\"M 1585.866442 460.2375 \nL 1585.866442 25.3575 \n\" style=\"fill:none;stroke:#ffffff;stroke-linecap:round;\"/>\n     </g>\n     <g id=\"text_19\">\n      <!-- I-DIRECTOR -->\n      <g style=\"fill:#262626;\" transform=\"translate(1553.754176 478.095781)scale(0.11 -0.11)\">\n       <use xlink:href=\"#DejaVuSans-73\"/>\n       <use x=\"29.492188\" xlink:href=\"#DejaVuSans-45\"/>\n       <use x=\"65.576172\" xlink:href=\"#DejaVuSans-68\"/>\n       <use x=\"142.578125\" xlink:href=\"#DejaVuSans-73\"/>\n       <use x=\"172.070312\" xlink:href=\"#DejaVuSans-82\"/>\n       <use x=\"241.552734\" xlink:href=\"#DejaVuSans-69\"/>\n       <use x=\"304.736328\" xlink:href=\"#DejaVuSans-67\"/>\n       <use x=\"374.560547\" xlink:href=\"#DejaVuSans-84\"/>\n       <use x=\"435.644531\" xlink:href=\"#DejaVuSans-79\"/>\n       <use x=\"514.355469\" xlink:href=\"#DejaVuSans-82\"/>\n      </g>\n     </g>\n    </g>\n    <g id=\"xtick_20\">\n     <g id=\"line2d_20\">\n      <path clip-path=\"url(#p04d673e66c)\" d=\"M 1665.597866 460.2375 \nL 1665.597866 25.3575 \n\" style=\"fill:none;stroke:#ffffff;stroke-linecap:round;\"/>\n     </g>\n     <g id=\"text_20\">\n      <!-- I-REVIEW -->\n      <g style=\"fill:#262626;\" transform=\"translate(1640.395834 478.095781)scale(0.11 -0.11)\">\n       <use xlink:href=\"#DejaVuSans-73\"/>\n       <use x=\"29.492188\" xlink:href=\"#DejaVuSans-45\"/>\n       <use x=\"65.576172\" xlink:href=\"#DejaVuSans-82\"/>\n       <use x=\"135.058594\" xlink:href=\"#DejaVuSans-69\"/>\n       <use x=\"198.242188\" xlink:href=\"#DejaVuSans-86\"/>\n       <use x=\"266.650391\" xlink:href=\"#DejaVuSans-73\"/>\n       <use x=\"296.142578\" xlink:href=\"#DejaVuSans-69\"/>\n       <use x=\"359.326172\" xlink:href=\"#DejaVuSans-87\"/>\n      </g>\n     </g>\n    </g>\n    <g id=\"xtick_21\">\n     <g id=\"line2d_21\">\n      <path clip-path=\"url(#p04d673e66c)\" d=\"M 1745.329289 460.2375 \nL 1745.329289 25.3575 \n\" style=\"fill:none;stroke:#ffffff;stroke-linecap:round;\"/>\n     </g>\n     <g id=\"text_21\">\n      <!-- I-SONG -->\n      <g style=\"fill:#262626;\" transform=\"translate(1725.524993 478.095781)scale(0.11 -0.11)\">\n       <use xlink:href=\"#DejaVuSans-73\"/>\n       <use x=\"29.492188\" xlink:href=\"#DejaVuSans-45\"/>\n       <use x=\"65.576172\" xlink:href=\"#DejaVuSans-83\"/>\n       <use x=\"129.052734\" xlink:href=\"#DejaVuSans-79\"/>\n       <use x=\"207.763672\" xlink:href=\"#DejaVuSans-78\"/>\n       <use x=\"282.568359\" xlink:href=\"#DejaVuSans-71\"/>\n      </g>\n     </g>\n    </g>\n    <g id=\"xtick_22\">\n     <g id=\"line2d_22\">\n      <path clip-path=\"url(#p04d673e66c)\" d=\"M 1825.060713 460.2375 \nL 1825.060713 25.3575 \n\" style=\"fill:none;stroke:#ffffff;stroke-linecap:round;\"/>\n     </g>\n     <g id=\"text_22\">\n      <!-- I-CHARACTER -->\n      <g style=\"fill:#262626;\" transform=\"translate(1787.950323 478.095781)scale(0.11 -0.11)\">\n       <use xlink:href=\"#DejaVuSans-73\"/>\n       <use x=\"29.492188\" xlink:href=\"#DejaVuSans-45\"/>\n       <use x=\"65.576172\" xlink:href=\"#DejaVuSans-67\"/>\n       <use x=\"135.400391\" xlink:href=\"#DejaVuSans-72\"/>\n       <use x=\"210.595703\" xlink:href=\"#DejaVuSans-65\"/>\n       <use x=\"279.003906\" xlink:href=\"#DejaVuSans-82\"/>\n       <use x=\"344.486328\" xlink:href=\"#DejaVuSans-65\"/>\n       <use x=\"411.144531\" xlink:href=\"#DejaVuSans-67\"/>\n       <use x=\"480.96875\" xlink:href=\"#DejaVuSans-84\"/>\n       <use x=\"542.052734\" xlink:href=\"#DejaVuSans-69\"/>\n       <use x=\"605.236328\" xlink:href=\"#DejaVuSans-82\"/>\n      </g>\n     </g>\n    </g>\n    <g id=\"xtick_23\">\n     <g id=\"line2d_23\">\n      <path clip-path=\"url(#p04d673e66c)\" d=\"M 1904.792137 460.2375 \nL 1904.792137 25.3575 \n\" style=\"fill:none;stroke:#ffffff;stroke-linecap:round;\"/>\n     </g>\n     <g id=\"text_23\">\n      <!-- B-TRAILER -->\n      <g style=\"fill:#262626;\" transform=\"translate(1876.828934 478.095781)scale(0.11 -0.11)\">\n       <use xlink:href=\"#DejaVuSans-66\"/>\n       <use x=\"68.603516\" xlink:href=\"#DejaVuSans-45\"/>\n       <use x=\"95.5625\" xlink:href=\"#DejaVuSans-84\"/>\n       <use x=\"156.646484\" xlink:href=\"#DejaVuSans-82\"/>\n       <use x=\"222.128906\" xlink:href=\"#DejaVuSans-65\"/>\n       <use x=\"290.537109\" xlink:href=\"#DejaVuSans-73\"/>\n       <use x=\"320.029297\" xlink:href=\"#DejaVuSans-76\"/>\n       <use x=\"375.742188\" xlink:href=\"#DejaVuSans-69\"/>\n       <use x=\"438.925781\" xlink:href=\"#DejaVuSans-82\"/>\n      </g>\n     </g>\n    </g>\n    <g id=\"xtick_24\">\n     <g id=\"line2d_24\">\n      <path clip-path=\"url(#p04d673e66c)\" d=\"M 1984.523561 460.2375 \nL 1984.523561 25.3575 \n\" style=\"fill:none;stroke:#ffffff;stroke-linecap:round;\"/>\n     </g>\n     <g id=\"text_24\">\n      <!-- I-TRAILER -->\n      <g style=\"fill:#262626;\" transform=\"translate(1958.711373 478.095781)scale(0.11 -0.11)\">\n       <use xlink:href=\"#DejaVuSans-73\"/>\n       <use x=\"29.492188\" xlink:href=\"#DejaVuSans-45\"/>\n       <use x=\"56.451172\" xlink:href=\"#DejaVuSans-84\"/>\n       <use x=\"117.535156\" xlink:href=\"#DejaVuSans-82\"/>\n       <use x=\"183.017578\" xlink:href=\"#DejaVuSans-65\"/>\n       <use x=\"251.425781\" xlink:href=\"#DejaVuSans-73\"/>\n       <use x=\"280.917969\" xlink:href=\"#DejaVuSans-76\"/>\n       <use x=\"336.630859\" xlink:href=\"#DejaVuSans-69\"/>\n       <use x=\"399.814453\" xlink:href=\"#DejaVuSans-82\"/>\n      </g>\n     </g>\n    </g>\n    <g id=\"text_25\">\n     <!-- Named Entity Tags -->\n     <defs>\n      <path d=\"M 34.28125 27.484375 \nQ 23.390625 27.484375 19.1875 25 \nQ 14.984375 22.515625 14.984375 16.5 \nQ 14.984375 11.71875 18.140625 8.90625 \nQ 21.296875 6.109375 26.703125 6.109375 \nQ 34.1875 6.109375 38.703125 11.40625 \nQ 43.21875 16.703125 43.21875 25.484375 \nL 43.21875 27.484375 \nz\nM 52.203125 31.203125 \nL 52.203125 0 \nL 43.21875 0 \nL 43.21875 8.296875 \nQ 40.140625 3.328125 35.546875 0.953125 \nQ 30.953125 -1.421875 24.3125 -1.421875 \nQ 15.921875 -1.421875 10.953125 3.296875 \nQ 6 8.015625 6 15.921875 \nQ 6 25.140625 12.171875 29.828125 \nQ 18.359375 34.515625 30.609375 34.515625 \nL 43.21875 34.515625 \nL 43.21875 35.40625 \nQ 43.21875 41.609375 39.140625 45 \nQ 35.0625 48.390625 27.6875 48.390625 \nQ 23 48.390625 18.546875 47.265625 \nQ 14.109375 46.140625 10.015625 43.890625 \nL 10.015625 52.203125 \nQ 14.9375 54.109375 19.578125 55.046875 \nQ 24.21875 56 28.609375 56 \nQ 40.484375 56 46.34375 49.84375 \nQ 52.203125 43.703125 52.203125 31.203125 \nz\n\" id=\"DejaVuSans-97\"/>\n      <path d=\"M 52 44.1875 \nQ 55.375 50.25 60.0625 53.125 \nQ 64.75 56 71.09375 56 \nQ 79.640625 56 84.28125 50.015625 \nQ 88.921875 44.046875 88.921875 33.015625 \nL 88.921875 0 \nL 79.890625 0 \nL 79.890625 32.71875 \nQ 79.890625 40.578125 77.09375 44.375 \nQ 74.3125 48.1875 68.609375 48.1875 \nQ 61.625 48.1875 57.5625 43.546875 \nQ 53.515625 38.921875 53.515625 30.90625 \nL 53.515625 0 \nL 44.484375 0 \nL 44.484375 32.71875 \nQ 44.484375 40.625 41.703125 44.40625 \nQ 38.921875 48.1875 33.109375 48.1875 \nQ 26.21875 48.1875 22.15625 43.53125 \nQ 18.109375 38.875 18.109375 30.90625 \nL 18.109375 0 \nL 9.078125 0 \nL 9.078125 54.6875 \nL 18.109375 54.6875 \nL 18.109375 46.1875 \nQ 21.1875 51.21875 25.484375 53.609375 \nQ 29.78125 56 35.6875 56 \nQ 41.65625 56 45.828125 52.96875 \nQ 50 49.953125 52 44.1875 \nz\n\" id=\"DejaVuSans-109\"/>\n      <path d=\"M 56.203125 29.59375 \nL 56.203125 25.203125 \nL 14.890625 25.203125 \nQ 15.484375 15.921875 20.484375 11.0625 \nQ 25.484375 6.203125 34.421875 6.203125 \nQ 39.59375 6.203125 44.453125 7.46875 \nQ 49.3125 8.734375 54.109375 11.28125 \nL 54.109375 2.78125 \nQ 49.265625 0.734375 44.1875 -0.34375 \nQ 39.109375 -1.421875 33.890625 -1.421875 \nQ 20.796875 -1.421875 13.15625 6.1875 \nQ 5.515625 13.8125 5.515625 26.8125 \nQ 5.515625 40.234375 12.765625 48.109375 \nQ 20.015625 56 32.328125 56 \nQ 43.359375 56 49.78125 48.890625 \nQ 56.203125 41.796875 56.203125 29.59375 \nz\nM 47.21875 32.234375 \nQ 47.125 39.59375 43.09375 43.984375 \nQ 39.0625 48.390625 32.421875 48.390625 \nQ 24.90625 48.390625 20.390625 44.140625 \nQ 15.875 39.890625 15.1875 32.171875 \nz\n\" id=\"DejaVuSans-101\"/>\n      <path d=\"M 45.40625 46.390625 \nL 45.40625 75.984375 \nL 54.390625 75.984375 \nL 54.390625 0 \nL 45.40625 0 \nL 45.40625 8.203125 \nQ 42.578125 3.328125 38.25 0.953125 \nQ 33.9375 -1.421875 27.875 -1.421875 \nQ 17.96875 -1.421875 11.734375 6.484375 \nQ 5.515625 14.40625 5.515625 27.296875 \nQ 5.515625 40.1875 11.734375 48.09375 \nQ 17.96875 56 27.875 56 \nQ 33.9375 56 38.25 53.625 \nQ 42.578125 51.265625 45.40625 46.390625 \nz\nM 14.796875 27.296875 \nQ 14.796875 17.390625 18.875 11.75 \nQ 22.953125 6.109375 30.078125 6.109375 \nQ 37.203125 6.109375 41.296875 11.75 \nQ 45.40625 17.390625 45.40625 27.296875 \nQ 45.40625 37.203125 41.296875 42.84375 \nQ 37.203125 48.484375 30.078125 48.484375 \nQ 22.953125 48.484375 18.875 42.84375 \nQ 14.796875 37.203125 14.796875 27.296875 \nz\n\" id=\"DejaVuSans-100\"/>\n      <path id=\"DejaVuSans-32\"/>\n      <path d=\"M 54.890625 33.015625 \nL 54.890625 0 \nL 45.90625 0 \nL 45.90625 32.71875 \nQ 45.90625 40.484375 42.875 44.328125 \nQ 39.84375 48.1875 33.796875 48.1875 \nQ 26.515625 48.1875 22.3125 43.546875 \nQ 18.109375 38.921875 18.109375 30.90625 \nL 18.109375 0 \nL 9.078125 0 \nL 9.078125 54.6875 \nL 18.109375 54.6875 \nL 18.109375 46.1875 \nQ 21.34375 51.125 25.703125 53.5625 \nQ 30.078125 56 35.796875 56 \nQ 45.21875 56 50.046875 50.171875 \nQ 54.890625 44.34375 54.890625 33.015625 \nz\n\" id=\"DejaVuSans-110\"/>\n      <path d=\"M 18.3125 70.21875 \nL 18.3125 54.6875 \nL 36.8125 54.6875 \nL 36.8125 47.703125 \nL 18.3125 47.703125 \nL 18.3125 18.015625 \nQ 18.3125 11.328125 20.140625 9.421875 \nQ 21.96875 7.515625 27.59375 7.515625 \nL 36.8125 7.515625 \nL 36.8125 0 \nL 27.59375 0 \nQ 17.1875 0 13.234375 3.875 \nQ 9.28125 7.765625 9.28125 18.015625 \nL 9.28125 47.703125 \nL 2.6875 47.703125 \nL 2.6875 54.6875 \nL 9.28125 54.6875 \nL 9.28125 70.21875 \nz\n\" id=\"DejaVuSans-116\"/>\n      <path d=\"M 9.421875 54.6875 \nL 18.40625 54.6875 \nL 18.40625 0 \nL 9.421875 0 \nz\nM 9.421875 75.984375 \nL 18.40625 75.984375 \nL 18.40625 64.59375 \nL 9.421875 64.59375 \nz\n\" id=\"DejaVuSans-105\"/>\n      <path d=\"M 32.171875 -5.078125 \nQ 28.375 -14.84375 24.75 -17.8125 \nQ 21.140625 -20.796875 15.09375 -20.796875 \nL 7.90625 -20.796875 \nL 7.90625 -13.28125 \nL 13.1875 -13.28125 \nQ 16.890625 -13.28125 18.9375 -11.515625 \nQ 21 -9.765625 23.484375 -3.21875 \nL 25.09375 0.875 \nL 2.984375 54.6875 \nL 12.5 54.6875 \nL 29.59375 11.921875 \nL 46.6875 54.6875 \nL 56.203125 54.6875 \nz\n\" id=\"DejaVuSans-121\"/>\n      <path d=\"M 45.40625 27.984375 \nQ 45.40625 37.75 41.375 43.109375 \nQ 37.359375 48.484375 30.078125 48.484375 \nQ 22.859375 48.484375 18.828125 43.109375 \nQ 14.796875 37.75 14.796875 27.984375 \nQ 14.796875 18.265625 18.828125 12.890625 \nQ 22.859375 7.515625 30.078125 7.515625 \nQ 37.359375 7.515625 41.375 12.890625 \nQ 45.40625 18.265625 45.40625 27.984375 \nz\nM 54.390625 6.78125 \nQ 54.390625 -7.171875 48.1875 -13.984375 \nQ 42 -20.796875 29.203125 -20.796875 \nQ 24.46875 -20.796875 20.265625 -20.09375 \nQ 16.0625 -19.390625 12.109375 -17.921875 \nL 12.109375 -9.1875 \nQ 16.0625 -11.328125 19.921875 -12.34375 \nQ 23.78125 -13.375 27.78125 -13.375 \nQ 36.625 -13.375 41.015625 -8.765625 \nQ 45.40625 -4.15625 45.40625 5.171875 \nL 45.40625 9.625 \nQ 42.625 4.78125 38.28125 2.390625 \nQ 33.9375 0 27.875 0 \nQ 17.828125 0 11.671875 7.65625 \nQ 5.515625 15.328125 5.515625 27.984375 \nQ 5.515625 40.671875 11.671875 48.328125 \nQ 17.828125 56 27.875 56 \nQ 33.9375 56 38.28125 53.609375 \nQ 42.625 51.21875 45.40625 46.390625 \nL 45.40625 54.6875 \nL 54.390625 54.6875 \nz\n\" id=\"DejaVuSans-103\"/>\n      <path d=\"M 44.28125 53.078125 \nL 44.28125 44.578125 \nQ 40.484375 46.53125 36.375 47.5 \nQ 32.28125 48.484375 27.875 48.484375 \nQ 21.1875 48.484375 17.84375 46.4375 \nQ 14.5 44.390625 14.5 40.28125 \nQ 14.5 37.15625 16.890625 35.375 \nQ 19.28125 33.59375 26.515625 31.984375 \nL 29.59375 31.296875 \nQ 39.15625 29.25 43.1875 25.515625 \nQ 47.21875 21.78125 47.21875 15.09375 \nQ 47.21875 7.46875 41.1875 3.015625 \nQ 35.15625 -1.421875 24.609375 -1.421875 \nQ 20.21875 -1.421875 15.453125 -0.5625 \nQ 10.6875 0.296875 5.421875 2 \nL 5.421875 11.28125 \nQ 10.40625 8.6875 15.234375 7.390625 \nQ 20.0625 6.109375 24.8125 6.109375 \nQ 31.15625 6.109375 34.5625 8.28125 \nQ 37.984375 10.453125 37.984375 14.40625 \nQ 37.984375 18.0625 35.515625 20.015625 \nQ 33.0625 21.96875 24.703125 23.78125 \nL 21.578125 24.515625 \nQ 13.234375 26.265625 9.515625 29.90625 \nQ 5.8125 33.546875 5.8125 39.890625 \nQ 5.8125 47.609375 11.28125 51.796875 \nQ 16.75 56 26.8125 56 \nQ 31.78125 56 36.171875 55.265625 \nQ 40.578125 54.546875 44.28125 53.078125 \nz\n\" id=\"DejaVuSans-115\"/>\n     </defs>\n     <g style=\"fill:#262626;\" transform=\"translate(997.453203 495.892812)scale(0.15 -0.15)\">\n      <use xlink:href=\"#DejaVuSans-78\"/>\n      <use x=\"74.804688\" xlink:href=\"#DejaVuSans-97\"/>\n      <use x=\"136.083984\" xlink:href=\"#DejaVuSans-109\"/>\n      <use x=\"233.496094\" xlink:href=\"#DejaVuSans-101\"/>\n      <use x=\"295.019531\" xlink:href=\"#DejaVuSans-100\"/>\n      <use x=\"358.496094\" xlink:href=\"#DejaVuSans-32\"/>\n      <use x=\"390.283203\" xlink:href=\"#DejaVuSans-69\"/>\n      <use x=\"453.466797\" xlink:href=\"#DejaVuSans-110\"/>\n      <use x=\"516.845703\" xlink:href=\"#DejaVuSans-116\"/>\n      <use x=\"556.054688\" xlink:href=\"#DejaVuSans-105\"/>\n      <use x=\"583.837891\" xlink:href=\"#DejaVuSans-116\"/>\n      <use x=\"623.046875\" xlink:href=\"#DejaVuSans-121\"/>\n      <use x=\"682.226562\" xlink:href=\"#DejaVuSans-32\"/>\n      <use x=\"714.013672\" xlink:href=\"#DejaVuSans-84\"/>\n      <use x=\"758.597656\" xlink:href=\"#DejaVuSans-97\"/>\n      <use x=\"819.876953\" xlink:href=\"#DejaVuSans-103\"/>\n      <use x=\"883.353516\" xlink:href=\"#DejaVuSans-115\"/>\n     </g>\n    </g>\n   </g>\n   <g id=\"matplotlib.axis_2\">\n    <g id=\"ytick_1\">\n     <g id=\"line2d_25\">\n      <path clip-path=\"url(#p04d673e66c)\" d=\"M 63.212187 460.2375 \nL 2072.012187 460.2375 \n\" style=\"fill:none;stroke:#ffffff;stroke-linecap:round;stroke-opacity:0.75;\"/>\n     </g>\n     <g id=\"text_26\">\n      <!-- 0 -->\n      <defs>\n       <path d=\"M 31.78125 66.40625 \nQ 24.171875 66.40625 20.328125 58.90625 \nQ 16.5 51.421875 16.5 36.375 \nQ 16.5 21.390625 20.328125 13.890625 \nQ 24.171875 6.390625 31.78125 6.390625 \nQ 39.453125 6.390625 43.28125 13.890625 \nQ 47.125 21.390625 47.125 36.375 \nQ 47.125 51.421875 43.28125 58.90625 \nQ 39.453125 66.40625 31.78125 66.40625 \nz\nM 31.78125 74.21875 \nQ 44.046875 74.21875 50.515625 64.515625 \nQ 56.984375 54.828125 56.984375 36.375 \nQ 56.984375 17.96875 50.515625 8.265625 \nQ 44.046875 -1.421875 31.78125 -1.421875 \nQ 19.53125 -1.421875 13.0625 8.265625 \nQ 6.59375 17.96875 6.59375 36.375 \nQ 6.59375 54.828125 13.0625 64.515625 \nQ 19.53125 74.21875 31.78125 74.21875 \nz\n\" id=\"DejaVuSans-48\"/>\n      </defs>\n      <g style=\"fill:#262626;\" transform=\"translate(46.713437 464.416641)scale(0.11 -0.11)\">\n       <use xlink:href=\"#DejaVuSans-48\"/>\n      </g>\n     </g>\n    </g>\n    <g id=\"ytick_2\">\n     <g id=\"line2d_26\">\n      <path clip-path=\"url(#p04d673e66c)\" d=\"M 63.212187 411.9175 \nL 2072.012187 411.9175 \n\" style=\"fill:none;stroke:#ffffff;stroke-linecap:round;stroke-opacity:0.75;\"/>\n     </g>\n     <g id=\"text_27\">\n      <!-- 250 -->\n      <defs>\n       <path d=\"M 19.1875 8.296875 \nL 53.609375 8.296875 \nL 53.609375 0 \nL 7.328125 0 \nL 7.328125 8.296875 \nQ 12.9375 14.109375 22.625 23.890625 \nQ 32.328125 33.6875 34.8125 36.53125 \nQ 39.546875 41.84375 41.421875 45.53125 \nQ 43.3125 49.21875 43.3125 52.78125 \nQ 43.3125 58.59375 39.234375 62.25 \nQ 35.15625 65.921875 28.609375 65.921875 \nQ 23.96875 65.921875 18.8125 64.3125 \nQ 13.671875 62.703125 7.8125 59.421875 \nL 7.8125 69.390625 \nQ 13.765625 71.78125 18.9375 73 \nQ 24.125 74.21875 28.421875 74.21875 \nQ 39.75 74.21875 46.484375 68.546875 \nQ 53.21875 62.890625 53.21875 53.421875 \nQ 53.21875 48.921875 51.53125 44.890625 \nQ 49.859375 40.875 45.40625 35.40625 \nQ 44.1875 33.984375 37.640625 27.21875 \nQ 31.109375 20.453125 19.1875 8.296875 \nz\n\" id=\"DejaVuSans-50\"/>\n       <path d=\"M 10.796875 72.90625 \nL 49.515625 72.90625 \nL 49.515625 64.59375 \nL 19.828125 64.59375 \nL 19.828125 46.734375 \nQ 21.96875 47.46875 24.109375 47.828125 \nQ 26.265625 48.1875 28.421875 48.1875 \nQ 40.625 48.1875 47.75 41.5 \nQ 54.890625 34.8125 54.890625 23.390625 \nQ 54.890625 11.625 47.5625 5.09375 \nQ 40.234375 -1.421875 26.90625 -1.421875 \nQ 22.3125 -1.421875 17.546875 -0.640625 \nQ 12.796875 0.140625 7.71875 1.703125 \nL 7.71875 11.625 \nQ 12.109375 9.234375 16.796875 8.0625 \nQ 21.484375 6.890625 26.703125 6.890625 \nQ 35.15625 6.890625 40.078125 11.328125 \nQ 45.015625 15.765625 45.015625 23.390625 \nQ 45.015625 31 40.078125 35.4375 \nQ 35.15625 39.890625 26.703125 39.890625 \nQ 22.75 39.890625 18.8125 39.015625 \nQ 14.890625 38.140625 10.796875 36.28125 \nz\n\" id=\"DejaVuSans-53\"/>\n      </defs>\n      <g style=\"fill:#262626;\" transform=\"translate(32.715937 416.096641)scale(0.11 -0.11)\">\n       <use xlink:href=\"#DejaVuSans-50\"/>\n       <use x=\"63.623047\" xlink:href=\"#DejaVuSans-53\"/>\n       <use x=\"127.246094\" xlink:href=\"#DejaVuSans-48\"/>\n      </g>\n     </g>\n    </g>\n    <g id=\"ytick_3\">\n     <g id=\"line2d_27\">\n      <path clip-path=\"url(#p04d673e66c)\" d=\"M 63.212187 363.5975 \nL 2072.012187 363.5975 \n\" style=\"fill:none;stroke:#ffffff;stroke-linecap:round;stroke-opacity:0.75;\"/>\n     </g>\n     <g id=\"text_28\">\n      <!-- 500 -->\n      <g style=\"fill:#262626;\" transform=\"translate(32.715937 367.776641)scale(0.11 -0.11)\">\n       <use xlink:href=\"#DejaVuSans-53\"/>\n       <use x=\"63.623047\" xlink:href=\"#DejaVuSans-48\"/>\n       <use x=\"127.246094\" xlink:href=\"#DejaVuSans-48\"/>\n      </g>\n     </g>\n    </g>\n    <g id=\"ytick_4\">\n     <g id=\"line2d_28\">\n      <path clip-path=\"url(#p04d673e66c)\" d=\"M 63.212187 315.2775 \nL 2072.012187 315.2775 \n\" style=\"fill:none;stroke:#ffffff;stroke-linecap:round;stroke-opacity:0.75;\"/>\n     </g>\n     <g id=\"text_29\">\n      <!-- 750 -->\n      <defs>\n       <path d=\"M 8.203125 72.90625 \nL 55.078125 72.90625 \nL 55.078125 68.703125 \nL 28.609375 0 \nL 18.3125 0 \nL 43.21875 64.59375 \nL 8.203125 64.59375 \nz\n\" id=\"DejaVuSans-55\"/>\n      </defs>\n      <g style=\"fill:#262626;\" transform=\"translate(32.715937 319.456641)scale(0.11 -0.11)\">\n       <use xlink:href=\"#DejaVuSans-55\"/>\n       <use x=\"63.623047\" xlink:href=\"#DejaVuSans-53\"/>\n       <use x=\"127.246094\" xlink:href=\"#DejaVuSans-48\"/>\n      </g>\n     </g>\n    </g>\n    <g id=\"ytick_5\">\n     <g id=\"line2d_29\">\n      <path clip-path=\"url(#p04d673e66c)\" d=\"M 63.212187 266.9575 \nL 2072.012187 266.9575 \n\" style=\"fill:none;stroke:#ffffff;stroke-linecap:round;stroke-opacity:0.75;\"/>\n     </g>\n     <g id=\"text_30\">\n      <!-- 1000 -->\n      <defs>\n       <path d=\"M 12.40625 8.296875 \nL 28.515625 8.296875 \nL 28.515625 63.921875 \nL 10.984375 60.40625 \nL 10.984375 69.390625 \nL 28.421875 72.90625 \nL 38.28125 72.90625 \nL 38.28125 8.296875 \nL 54.390625 8.296875 \nL 54.390625 0 \nL 12.40625 0 \nz\n\" id=\"DejaVuSans-49\"/>\n      </defs>\n      <g style=\"fill:#262626;\" transform=\"translate(25.717187 271.136641)scale(0.11 -0.11)\">\n       <use xlink:href=\"#DejaVuSans-49\"/>\n       <use x=\"63.623047\" xlink:href=\"#DejaVuSans-48\"/>\n       <use x=\"127.246094\" xlink:href=\"#DejaVuSans-48\"/>\n       <use x=\"190.869141\" xlink:href=\"#DejaVuSans-48\"/>\n      </g>\n     </g>\n    </g>\n    <g id=\"ytick_6\">\n     <g id=\"line2d_30\">\n      <path clip-path=\"url(#p04d673e66c)\" d=\"M 63.212187 218.6375 \nL 2072.012187 218.6375 \n\" style=\"fill:none;stroke:#ffffff;stroke-linecap:round;stroke-opacity:0.75;\"/>\n     </g>\n     <g id=\"text_31\">\n      <!-- 1250 -->\n      <g style=\"fill:#262626;\" transform=\"translate(25.717187 222.816641)scale(0.11 -0.11)\">\n       <use xlink:href=\"#DejaVuSans-49\"/>\n       <use x=\"63.623047\" xlink:href=\"#DejaVuSans-50\"/>\n       <use x=\"127.246094\" xlink:href=\"#DejaVuSans-53\"/>\n       <use x=\"190.869141\" xlink:href=\"#DejaVuSans-48\"/>\n      </g>\n     </g>\n    </g>\n    <g id=\"ytick_7\">\n     <g id=\"line2d_31\">\n      <path clip-path=\"url(#p04d673e66c)\" d=\"M 63.212187 170.3175 \nL 2072.012187 170.3175 \n\" style=\"fill:none;stroke:#ffffff;stroke-linecap:round;stroke-opacity:0.75;\"/>\n     </g>\n     <g id=\"text_32\">\n      <!-- 1500 -->\n      <g style=\"fill:#262626;\" transform=\"translate(25.717187 174.496641)scale(0.11 -0.11)\">\n       <use xlink:href=\"#DejaVuSans-49\"/>\n       <use x=\"63.623047\" xlink:href=\"#DejaVuSans-53\"/>\n       <use x=\"127.246094\" xlink:href=\"#DejaVuSans-48\"/>\n       <use x=\"190.869141\" xlink:href=\"#DejaVuSans-48\"/>\n      </g>\n     </g>\n    </g>\n    <g id=\"ytick_8\">\n     <g id=\"line2d_32\">\n      <path clip-path=\"url(#p04d673e66c)\" d=\"M 63.212187 121.9975 \nL 2072.012187 121.9975 \n\" style=\"fill:none;stroke:#ffffff;stroke-linecap:round;stroke-opacity:0.75;\"/>\n     </g>\n     <g id=\"text_33\">\n      <!-- 1750 -->\n      <g style=\"fill:#262626;\" transform=\"translate(25.717187 126.176641)scale(0.11 -0.11)\">\n       <use xlink:href=\"#DejaVuSans-49\"/>\n       <use x=\"63.623047\" xlink:href=\"#DejaVuSans-55\"/>\n       <use x=\"127.246094\" xlink:href=\"#DejaVuSans-53\"/>\n       <use x=\"190.869141\" xlink:href=\"#DejaVuSans-48\"/>\n      </g>\n     </g>\n    </g>\n    <g id=\"ytick_9\">\n     <g id=\"line2d_33\">\n      <path clip-path=\"url(#p04d673e66c)\" d=\"M 63.212187 73.6775 \nL 2072.012187 73.6775 \n\" style=\"fill:none;stroke:#ffffff;stroke-linecap:round;stroke-opacity:0.75;\"/>\n     </g>\n     <g id=\"text_34\">\n      <!-- 2000 -->\n      <g style=\"fill:#262626;\" transform=\"translate(25.717187 77.856641)scale(0.11 -0.11)\">\n       <use xlink:href=\"#DejaVuSans-50\"/>\n       <use x=\"63.623047\" xlink:href=\"#DejaVuSans-48\"/>\n       <use x=\"127.246094\" xlink:href=\"#DejaVuSans-48\"/>\n       <use x=\"190.869141\" xlink:href=\"#DejaVuSans-48\"/>\n      </g>\n     </g>\n    </g>\n    <g id=\"ytick_10\">\n     <g id=\"line2d_34\">\n      <path clip-path=\"url(#p04d673e66c)\" d=\"M 63.212187 25.3575 \nL 2072.012187 25.3575 \n\" style=\"fill:none;stroke:#ffffff;stroke-linecap:round;stroke-opacity:0.75;\"/>\n     </g>\n     <g id=\"text_35\">\n      <!-- 2250 -->\n      <g style=\"fill:#262626;\" transform=\"translate(25.717187 29.536641)scale(0.11 -0.11)\">\n       <use xlink:href=\"#DejaVuSans-50\"/>\n       <use x=\"63.623047\" xlink:href=\"#DejaVuSans-50\"/>\n       <use x=\"127.246094\" xlink:href=\"#DejaVuSans-53\"/>\n       <use x=\"190.869141\" xlink:href=\"#DejaVuSans-48\"/>\n      </g>\n     </g>\n    </g>\n    <g id=\"text_36\">\n     <!-- Frequency -->\n     <defs>\n      <path d=\"M 9.8125 72.90625 \nL 51.703125 72.90625 \nL 51.703125 64.59375 \nL 19.671875 64.59375 \nL 19.671875 43.109375 \nL 48.578125 43.109375 \nL 48.578125 34.8125 \nL 19.671875 34.8125 \nL 19.671875 0 \nL 9.8125 0 \nz\n\" id=\"DejaVuSans-70\"/>\n      <path d=\"M 41.109375 46.296875 \nQ 39.59375 47.171875 37.8125 47.578125 \nQ 36.03125 48 33.890625 48 \nQ 26.265625 48 22.1875 43.046875 \nQ 18.109375 38.09375 18.109375 28.8125 \nL 18.109375 0 \nL 9.078125 0 \nL 9.078125 54.6875 \nL 18.109375 54.6875 \nL 18.109375 46.1875 \nQ 20.953125 51.171875 25.484375 53.578125 \nQ 30.03125 56 36.53125 56 \nQ 37.453125 56 38.578125 55.875 \nQ 39.703125 55.765625 41.0625 55.515625 \nz\n\" id=\"DejaVuSans-114\"/>\n      <path d=\"M 14.796875 27.296875 \nQ 14.796875 17.390625 18.875 11.75 \nQ 22.953125 6.109375 30.078125 6.109375 \nQ 37.203125 6.109375 41.296875 11.75 \nQ 45.40625 17.390625 45.40625 27.296875 \nQ 45.40625 37.203125 41.296875 42.84375 \nQ 37.203125 48.484375 30.078125 48.484375 \nQ 22.953125 48.484375 18.875 42.84375 \nQ 14.796875 37.203125 14.796875 27.296875 \nz\nM 45.40625 8.203125 \nQ 42.578125 3.328125 38.25 0.953125 \nQ 33.9375 -1.421875 27.875 -1.421875 \nQ 17.96875 -1.421875 11.734375 6.484375 \nQ 5.515625 14.40625 5.515625 27.296875 \nQ 5.515625 40.1875 11.734375 48.09375 \nQ 17.96875 56 27.875 56 \nQ 33.9375 56 38.25 53.625 \nQ 42.578125 51.265625 45.40625 46.390625 \nL 45.40625 54.6875 \nL 54.390625 54.6875 \nL 54.390625 -20.796875 \nL 45.40625 -20.796875 \nz\n\" id=\"DejaVuSans-113\"/>\n      <path d=\"M 8.5 21.578125 \nL 8.5 54.6875 \nL 17.484375 54.6875 \nL 17.484375 21.921875 \nQ 17.484375 14.15625 20.5 10.265625 \nQ 23.53125 6.390625 29.59375 6.390625 \nQ 36.859375 6.390625 41.078125 11.03125 \nQ 45.3125 15.671875 45.3125 23.6875 \nL 45.3125 54.6875 \nL 54.296875 54.6875 \nL 54.296875 0 \nL 45.3125 0 \nL 45.3125 8.40625 \nQ 42.046875 3.421875 37.71875 1 \nQ 33.40625 -1.421875 27.6875 -1.421875 \nQ 18.265625 -1.421875 13.375 4.4375 \nQ 8.5 10.296875 8.5 21.578125 \nz\nM 31.109375 56 \nz\n\" id=\"DejaVuSans-117\"/>\n      <path d=\"M 48.78125 52.59375 \nL 48.78125 44.1875 \nQ 44.96875 46.296875 41.140625 47.34375 \nQ 37.3125 48.390625 33.40625 48.390625 \nQ 24.65625 48.390625 19.8125 42.84375 \nQ 14.984375 37.3125 14.984375 27.296875 \nQ 14.984375 17.28125 19.8125 11.734375 \nQ 24.65625 6.203125 33.40625 6.203125 \nQ 37.3125 6.203125 41.140625 7.25 \nQ 44.96875 8.296875 48.78125 10.40625 \nL 48.78125 2.09375 \nQ 45.015625 0.34375 40.984375 -0.53125 \nQ 36.96875 -1.421875 32.421875 -1.421875 \nQ 20.0625 -1.421875 12.78125 6.34375 \nQ 5.515625 14.109375 5.515625 27.296875 \nQ 5.515625 40.671875 12.859375 48.328125 \nQ 20.21875 56 33.015625 56 \nQ 37.15625 56 41.109375 55.140625 \nQ 45.0625 54.296875 48.78125 52.59375 \nz\n\" id=\"DejaVuSans-99\"/>\n     </defs>\n     <g style=\"fill:#262626;\" transform=\"translate(18.597656 281.542031)rotate(-90)scale(0.15 -0.15)\">\n      <use xlink:href=\"#DejaVuSans-70\"/>\n      <use x=\"50.269531\" xlink:href=\"#DejaVuSans-114\"/>\n      <use x=\"89.132812\" xlink:href=\"#DejaVuSans-101\"/>\n      <use x=\"150.65625\" xlink:href=\"#DejaVuSans-113\"/>\n      <use x=\"214.132812\" xlink:href=\"#DejaVuSans-117\"/>\n      <use x=\"277.511719\" xlink:href=\"#DejaVuSans-101\"/>\n      <use x=\"339.035156\" xlink:href=\"#DejaVuSans-110\"/>\n      <use x=\"402.414062\" xlink:href=\"#DejaVuSans-99\"/>\n      <use x=\"457.394531\" xlink:href=\"#DejaVuSans-121\"/>\n     </g>\n    </g>\n   </g>\n   <g id=\"patch_3\">\n    <path clip-path=\"url(#p04d673e66c)\" d=\"M 154.521278 460.2375 \nL 223.289631 460.2375 \nL 223.289631 117.74534 \nL 154.521278 117.74534 \nz\n\" style=\"fill:#0504aa;opacity:0.75;stroke:#ffffff;stroke-linejoin:miter;\"/>\n   </g>\n   <g id=\"patch_4\">\n    <path clip-path=\"url(#p04d673e66c)\" d=\"M 230.93056 460.2375 \nL 299.698912 460.2375 \nL 299.698912 385.63142 \nL 230.93056 385.63142 \nz\n\" style=\"fill:#0504aa;opacity:0.75;stroke:#ffffff;stroke-linejoin:miter;\"/>\n   </g>\n   <g id=\"patch_5\">\n    <path clip-path=\"url(#p04d673e66c)\" d=\"M 307.339841 460.2375 \nL 376.108194 460.2375 \nL 376.108194 241.44454 \nL 307.339841 241.44454 \nz\n\" style=\"fill:#0504aa;opacity:0.75;stroke:#ffffff;stroke-linejoin:miter;\"/>\n   </g>\n   <g id=\"patch_6\">\n    <path clip-path=\"url(#p04d673e66c)\" d=\"M 383.749122 460.2375 \nL 452.517475 460.2375 \nL 452.517475 304.06726 \nL 383.749122 304.06726 \nz\n\" style=\"fill:#0504aa;opacity:0.75;stroke:#ffffff;stroke-linejoin:miter;\"/>\n   </g>\n   <g id=\"patch_7\">\n    <path clip-path=\"url(#p04d673e66c)\" d=\"M 460.158403 460.2375 \nL 528.926756 460.2375 \nL 528.926756 306.00006 \nL 460.158403 306.00006 \nz\n\" style=\"fill:#0504aa;opacity:0.75;stroke:#ffffff;stroke-linejoin:miter;\"/>\n   </g>\n   <g id=\"patch_8\">\n    <path clip-path=\"url(#p04d673e66c)\" d=\"M 536.567684 460.2375 \nL 605.336037 460.2375 \nL 605.336037 316.2439 \nL 536.567684 316.2439 \nz\n\" style=\"fill:#0504aa;opacity:0.75;stroke:#ffffff;stroke-linejoin:miter;\"/>\n   </g>\n   <g id=\"patch_9\">\n    <path clip-path=\"url(#p04d673e66c)\" d=\"M 612.976965 460.2375 \nL 681.745318 460.2375 \nL 681.745318 332.6727 \nL 612.976965 332.6727 \nz\n\" style=\"fill:#0504aa;opacity:0.75;stroke:#ffffff;stroke-linejoin:miter;\"/>\n   </g>\n   <g id=\"patch_10\">\n    <path clip-path=\"url(#p04d673e66c)\" d=\"M 689.386246 460.2375 \nL 758.154599 460.2375 \nL 758.154599 341.75686 \nL 689.386246 341.75686 \nz\n\" style=\"fill:#0504aa;opacity:0.75;stroke:#ffffff;stroke-linejoin:miter;\"/>\n   </g>\n   <g id=\"patch_11\">\n    <path clip-path=\"url(#p04d673e66c)\" d=\"M 765.795527 460.2375 \nL 834.56388 460.2375 \nL 834.56388 201.82214 \nL 765.795527 201.82214 \nz\n\" style=\"fill:#0504aa;opacity:0.75;stroke:#ffffff;stroke-linejoin:miter;\"/>\n   </g>\n   <g id=\"patch_12\">\n    <path clip-path=\"url(#p04d673e66c)\" d=\"M 842.204808 460.2375 \nL 910.973161 460.2375 \nL 910.973161 186.7463 \nL 842.204808 186.7463 \nz\n\" style=\"fill:#0504aa;opacity:0.75;stroke:#ffffff;stroke-linejoin:miter;\"/>\n   </g>\n   <g id=\"patch_13\">\n    <path clip-path=\"url(#p04d673e66c)\" d=\"M 918.614089 460.2375 \nL 987.382442 460.2375 \nL 987.382442 180.36806 \nL 918.614089 180.36806 \nz\n\" style=\"fill:#0504aa;opacity:0.75;stroke:#ffffff;stroke-linejoin:miter;\"/>\n   </g>\n   <g id=\"patch_14\">\n    <path clip-path=\"url(#p04d673e66c)\" d=\"M 995.02337 460.2375 \nL 1063.791723 460.2375 \nL 1063.791723 26.90374 \nL 995.02337 26.90374 \nz\n\" style=\"fill:#0504aa;opacity:0.75;stroke:#ffffff;stroke-linejoin:miter;\"/>\n   </g>\n   <g id=\"patch_15\">\n    <path clip-path=\"url(#p04d673e66c)\" d=\"M 1071.432652 460.2375 \nL 1140.201005 460.2375 \nL 1140.201005 432.40518 \nL 1071.432652 432.40518 \nz\n\" style=\"fill:#0504aa;opacity:0.75;stroke:#ffffff;stroke-linejoin:miter;\"/>\n   </g>\n   <g id=\"patch_16\">\n    <path clip-path=\"url(#p04d673e66c)\" d=\"M 1147.841933 460.2375 \nL 1216.610286 460.2375 \nL 1216.610286 416.16966 \nL 1147.841933 416.16966 \nz\n\" style=\"fill:#0504aa;opacity:0.75;stroke:#ffffff;stroke-linejoin:miter;\"/>\n   </g>\n   <g id=\"patch_17\">\n    <path clip-path=\"url(#p04d673e66c)\" d=\"M 1224.251214 460.2375 \nL 1293.019567 460.2375 \nL 1293.019567 322.62214 \nL 1224.251214 322.62214 \nz\n\" style=\"fill:#0504aa;opacity:0.75;stroke:#ffffff;stroke-linejoin:miter;\"/>\n   </g>\n   <g id=\"patch_18\">\n    <path clip-path=\"url(#p04d673e66c)\" d=\"M 1300.660495 460.2375 \nL 1369.428848 460.2375 \nL 1369.428848 398.77446 \nL 1300.660495 398.77446 \nz\n\" style=\"fill:#0504aa;opacity:0.75;stroke:#ffffff;stroke-linejoin:miter;\"/>\n   </g>\n   <g id=\"patch_19\">\n    <path clip-path=\"url(#p04d673e66c)\" d=\"M 1377.069776 460.2375 \nL 1445.838129 460.2375 \nL 1445.838129 427.18662 \nL 1377.069776 427.18662 \nz\n\" style=\"fill:#0504aa;opacity:0.75;stroke:#ffffff;stroke-linejoin:miter;\"/>\n   </g>\n   <g id=\"patch_20\">\n    <path clip-path=\"url(#p04d673e66c)\" d=\"M 1453.479057 460.2375 \nL 1522.24741 460.2375 \nL 1522.24741 321.65574 \nL 1453.479057 321.65574 \nz\n\" style=\"fill:#0504aa;opacity:0.75;stroke:#ffffff;stroke-linejoin:miter;\"/>\n   </g>\n   <g id=\"patch_21\">\n    <path clip-path=\"url(#p04d673e66c)\" d=\"M 1529.888338 460.2375 \nL 1598.656691 460.2375 \nL 1598.656691 314.3111 \nL 1529.888338 314.3111 \nz\n\" style=\"fill:#0504aa;opacity:0.75;stroke:#ffffff;stroke-linejoin:miter;\"/>\n   </g>\n   <g id=\"patch_22\">\n    <path clip-path=\"url(#p04d673e66c)\" d=\"M 1606.297619 460.2375 \nL 1675.065972 460.2375 \nL 1675.065972 442.06918 \nL 1606.297619 442.06918 \nz\n\" style=\"fill:#0504aa;opacity:0.75;stroke:#ffffff;stroke-linejoin:miter;\"/>\n   </g>\n   <g id=\"patch_23\">\n    <path clip-path=\"url(#p04d673e66c)\" d=\"M 1682.7069 460.2375 \nL 1751.475253 460.2375 \nL 1751.475253 408.0519 \nL 1682.7069 408.0519 \nz\n\" style=\"fill:#0504aa;opacity:0.75;stroke:#ffffff;stroke-linejoin:miter;\"/>\n   </g>\n   <g id=\"patch_24\">\n    <path clip-path=\"url(#p04d673e66c)\" d=\"M 1759.116181 460.2375 \nL 1827.884534 460.2375 \nL 1827.884534 423.70758 \nL 1759.116181 423.70758 \nz\n\" style=\"fill:#0504aa;opacity:0.75;stroke:#ffffff;stroke-linejoin:miter;\"/>\n   </g>\n   <g id=\"patch_25\">\n    <path clip-path=\"url(#p04d673e66c)\" d=\"M 1835.525463 460.2375 \nL 1904.293815 460.2375 \nL 1904.293815 444.38854 \nL 1835.525463 444.38854 \nz\n\" style=\"fill:#0504aa;opacity:0.75;stroke:#ffffff;stroke-linejoin:miter;\"/>\n   </g>\n   <g id=\"patch_26\">\n    <path clip-path=\"url(#p04d673e66c)\" d=\"M 1911.934744 460.2375 \nL 1980.703097 460.2375 \nL 1980.703097 457.91814 \nL 1911.934744 457.91814 \nz\n\" style=\"fill:#0504aa;opacity:0.75;stroke:#ffffff;stroke-linejoin:miter;\"/>\n   </g>\n   <g id=\"patch_27\">\n    <path d=\"M 63.212187 460.2375 \nL 63.212187 25.3575 \n\" style=\"fill:none;stroke:#ffffff;stroke-linecap:square;stroke-linejoin:miter;stroke-width:1.25;\"/>\n   </g>\n   <g id=\"patch_28\">\n    <path d=\"M 2072.012187 460.2375 \nL 2072.012187 25.3575 \n\" style=\"fill:none;stroke:#ffffff;stroke-linecap:square;stroke-linejoin:miter;stroke-width:1.25;\"/>\n   </g>\n   <g id=\"patch_29\">\n    <path d=\"M 63.212187 460.2375 \nL 2072.012187 460.2375 \n\" style=\"fill:none;stroke:#ffffff;stroke-linecap:square;stroke-linejoin:miter;stroke-width:1.25;\"/>\n   </g>\n   <g id=\"patch_30\">\n    <path d=\"M 63.212187 25.3575 \nL 2072.012187 25.3575 \n\" style=\"fill:none;stroke:#ffffff;stroke-linecap:square;stroke-linejoin:miter;stroke-width:1.25;\"/>\n   </g>\n   <g id=\"text_37\">\n    <!-- Histogram: Distribution by Entity tags -->\n    <defs>\n     <path d=\"M 30.609375 48.390625 \nQ 23.390625 48.390625 19.1875 42.75 \nQ 14.984375 37.109375 14.984375 27.296875 \nQ 14.984375 17.484375 19.15625 11.84375 \nQ 23.34375 6.203125 30.609375 6.203125 \nQ 37.796875 6.203125 41.984375 11.859375 \nQ 46.1875 17.53125 46.1875 27.296875 \nQ 46.1875 37.015625 41.984375 42.703125 \nQ 37.796875 48.390625 30.609375 48.390625 \nz\nM 30.609375 56 \nQ 42.328125 56 49.015625 48.375 \nQ 55.71875 40.765625 55.71875 27.296875 \nQ 55.71875 13.875 49.015625 6.21875 \nQ 42.328125 -1.421875 30.609375 -1.421875 \nQ 18.84375 -1.421875 12.171875 6.21875 \nQ 5.515625 13.875 5.515625 27.296875 \nQ 5.515625 40.765625 12.171875 48.375 \nQ 18.84375 56 30.609375 56 \nz\n\" id=\"DejaVuSans-111\"/>\n     <path d=\"M 11.71875 12.40625 \nL 22.015625 12.40625 \nL 22.015625 0 \nL 11.71875 0 \nz\nM 11.71875 51.703125 \nL 22.015625 51.703125 \nL 22.015625 39.3125 \nL 11.71875 39.3125 \nz\n\" id=\"DejaVuSans-58\"/>\n     <path d=\"M 48.6875 27.296875 \nQ 48.6875 37.203125 44.609375 42.84375 \nQ 40.53125 48.484375 33.40625 48.484375 \nQ 26.265625 48.484375 22.1875 42.84375 \nQ 18.109375 37.203125 18.109375 27.296875 \nQ 18.109375 17.390625 22.1875 11.75 \nQ 26.265625 6.109375 33.40625 6.109375 \nQ 40.53125 6.109375 44.609375 11.75 \nQ 48.6875 17.390625 48.6875 27.296875 \nz\nM 18.109375 46.390625 \nQ 20.953125 51.265625 25.265625 53.625 \nQ 29.59375 56 35.59375 56 \nQ 45.5625 56 51.78125 48.09375 \nQ 58.015625 40.1875 58.015625 27.296875 \nQ 58.015625 14.40625 51.78125 6.484375 \nQ 45.5625 -1.421875 35.59375 -1.421875 \nQ 29.59375 -1.421875 25.265625 0.953125 \nQ 20.953125 3.328125 18.109375 8.203125 \nL 18.109375 0 \nL 9.078125 0 \nL 9.078125 75.984375 \nL 18.109375 75.984375 \nz\n\" id=\"DejaVuSans-98\"/>\n    </defs>\n    <g style=\"fill:#262626;\" transform=\"translate(916.123437 19.3575)scale(0.16 -0.16)\">\n     <use xlink:href=\"#DejaVuSans-72\"/>\n     <use x=\"75.195312\" xlink:href=\"#DejaVuSans-105\"/>\n     <use x=\"102.978516\" xlink:href=\"#DejaVuSans-115\"/>\n     <use x=\"155.078125\" xlink:href=\"#DejaVuSans-116\"/>\n     <use x=\"194.287109\" xlink:href=\"#DejaVuSans-111\"/>\n     <use x=\"255.46875\" xlink:href=\"#DejaVuSans-103\"/>\n     <use x=\"318.945312\" xlink:href=\"#DejaVuSans-114\"/>\n     <use x=\"360.058594\" xlink:href=\"#DejaVuSans-97\"/>\n     <use x=\"421.337891\" xlink:href=\"#DejaVuSans-109\"/>\n     <use x=\"518.75\" xlink:href=\"#DejaVuSans-58\"/>\n     <use x=\"552.441406\" xlink:href=\"#DejaVuSans-32\"/>\n     <use x=\"584.228516\" xlink:href=\"#DejaVuSans-68\"/>\n     <use x=\"661.230469\" xlink:href=\"#DejaVuSans-105\"/>\n     <use x=\"689.013672\" xlink:href=\"#DejaVuSans-115\"/>\n     <use x=\"741.113281\" xlink:href=\"#DejaVuSans-116\"/>\n     <use x=\"780.322266\" xlink:href=\"#DejaVuSans-114\"/>\n     <use x=\"821.435547\" xlink:href=\"#DejaVuSans-105\"/>\n     <use x=\"849.21875\" xlink:href=\"#DejaVuSans-98\"/>\n     <use x=\"912.695312\" xlink:href=\"#DejaVuSans-117\"/>\n     <use x=\"976.074219\" xlink:href=\"#DejaVuSans-116\"/>\n     <use x=\"1015.283203\" xlink:href=\"#DejaVuSans-105\"/>\n     <use x=\"1043.066406\" xlink:href=\"#DejaVuSans-111\"/>\n     <use x=\"1104.248047\" xlink:href=\"#DejaVuSans-110\"/>\n     <use x=\"1167.626953\" xlink:href=\"#DejaVuSans-32\"/>\n     <use x=\"1199.414062\" xlink:href=\"#DejaVuSans-98\"/>\n     <use x=\"1262.890625\" xlink:href=\"#DejaVuSans-121\"/>\n     <use x=\"1322.070312\" xlink:href=\"#DejaVuSans-32\"/>\n     <use x=\"1353.857422\" xlink:href=\"#DejaVuSans-69\"/>\n     <use x=\"1417.041016\" xlink:href=\"#DejaVuSans-110\"/>\n     <use x=\"1480.419922\" xlink:href=\"#DejaVuSans-116\"/>\n     <use x=\"1519.628906\" xlink:href=\"#DejaVuSans-105\"/>\n     <use x=\"1547.412109\" xlink:href=\"#DejaVuSans-116\"/>\n     <use x=\"1586.621094\" xlink:href=\"#DejaVuSans-121\"/>\n     <use x=\"1645.800781\" xlink:href=\"#DejaVuSans-32\"/>\n     <use x=\"1677.587891\" xlink:href=\"#DejaVuSans-116\"/>\n     <use x=\"1716.796875\" xlink:href=\"#DejaVuSans-97\"/>\n     <use x=\"1778.076172\" xlink:href=\"#DejaVuSans-103\"/>\n     <use x=\"1841.552734\" xlink:href=\"#DejaVuSans-115\"/>\n    </g>\n   </g>\n  </g>\n </g>\n <defs>\n  <clipPath id=\"p04d673e66c\">\n   <rect height=\"434.88\" width=\"2008.8\" x=\"63.212187\" y=\"25.3575\"/>\n  </clipPath>\n </defs>\n</svg>\n"
          },
          "metadata": {
            "tags": [],
            "needs_background": "light"
          }
        }
      ]
    },
    {
      "cell_type": "markdown",
      "metadata": {
        "id": "q448LoQ-GEBL"
      },
      "source": [
        "Above histogram shows an evidence of imbalance class in data. "
      ]
    },
    {
      "cell_type": "markdown",
      "metadata": {
        "id": "KdJ31N1vGUNA"
      },
      "source": [
        "# NLTK Entity Detection\n",
        "Main steps:\n",
        "  - Creating PoS tags\n",
        "  - Parsing into IOB format of tree using Conlltags2tree\n",
        "  - Detecting named entity tags as per the text"
      ]
    },
    {
      "cell_type": "code",
      "metadata": {
        "colab": {
          "base_uri": "https://localhost:8080/"
        },
        "id": "Wn4la5p2BcMS",
        "outputId": "36009ada-3772-4f48-92a0-c5a121588823"
      },
      "source": [
        "# define function to create the PoS tags\n",
        "def createPoS(data):\n",
        "  \"\"\"\n",
        "  Function to create the PoS tags based on tokenized text.\n",
        "  Args:\n",
        "    Data (Words): a list of words\n",
        "  Returns:\n",
        "    PoS tags: a list containing PoS tags for each words.\n",
        "  \"\"\"\n",
        "  # try to create PoS tags for each words\n",
        "  try:\n",
        "    pos_tags = [pos for data, pos in pos_tag(data)]\n",
        "    # return create PoS tags\n",
        "    return pos_tags\n",
        "  # Exception\n",
        "  except Exception as error:\n",
        "    print(str(error))\n",
        "\n",
        "# converts words tokens into list of words token\n",
        "word_token_list = movieData['words'].tolist()\n",
        "# call a createPoS() function\n",
        "pos_tags = createPoS(word_token_list)\n",
        "# display first 10 PoS tags\n",
        "print(\"Sample of created PoS tags: \", pos_tags[:10])\n",
        "# blank line\n",
        "print()\n",
        "# add into the movieData dataframe \n",
        "movieData['pos_tags'] = pos_tags\n",
        "# structure the dataframe as the per conlltags corpus\n",
        "movieData = movieData[[\"sentences\", \"words\", \"pos_tags\", \"entity_tags\"]]\n",
        "# display the first 10 rows\n",
        "print(movieData.head(10))"
      ],
      "execution_count": 7,
      "outputs": [
        {
          "output_type": "stream",
          "text": [
            "Sample of created PoS tags:  ['VBP', 'RB', 'DT', 'JJ', 'JJ', 'NNS', 'RP', 'RB', 'RB', 'VB']\n",
            "\n",
            "     sentences     words pos_tags entity_tags\n",
            "0  sentence: 1       are      VBP           O\n",
            "1  sentence: 1     there       RB           O\n",
            "2  sentence: 1       any       DT           O\n",
            "3  sentence: 1      good       JJ           O\n",
            "4  sentence: 1  romantic       JJ     B-GENRE\n",
            "5  sentence: 1  comedies      NNS     I-GENRE\n",
            "6  sentence: 1       out       RP           O\n",
            "7  sentence: 1     right       RB      B-YEAR\n",
            "8  sentence: 1       now       RB      I-YEAR\n",
            "9  sentence: 2      show       VB           O\n"
          ],
          "name": "stdout"
        }
      ]
    },
    {
      "cell_type": "code",
      "metadata": {
        "colab": {
          "base_uri": "https://localhost:8080/"
        },
        "id": "XlJp3cPgMAHs",
        "outputId": "a1ebc5e4-0b36-4f54-a7c5-03caa19c4805"
      },
      "source": [
        "# function to parse the tags into conlltags tree\n",
        "def create_conlltags_tree(list_1, list_2, list_3):\n",
        "    \"\"\"\n",
        "    Function to create conlltags2tree.\n",
        "    Args:\n",
        "        list_1: entity_tags\n",
        "        list_2: tokens (words)\n",
        "        list_3: PoS tags\n",
        "    \"\"\"\n",
        "    # try to create conlltags2tree\n",
        "    try:\n",
        "        # create tuples of lists and store into conlltags variable\n",
        "        conlltags = [(token, pos, tags) for token, pos, tags in zip(list_1, list_2, list_3)]\n",
        "        # instantiate conlltags2tree class and store into ne_tree (named entity tree)\n",
        "        ne_tree = conlltags2tree(conlltags)\n",
        "        # return name entity tree after storing into ne_tree variable\n",
        "        return ne_tree\n",
        "    # Exception\n",
        "    except Exception as error:\n",
        "        print(str(error))\n",
        "\n",
        "\n",
        "# creating namedEntity tags list\n",
        "namedEntity_tags = movieData['entity_tags'].tolist()\n",
        "# instantiate fucntion\n",
        "conlltag_tree = create_conlltags_tree(word_token_list, pos_tags, namedEntity_tags)\n",
        "# display PoS tags for first 10 words\n",
        "conlltag_tree[:20]"
      ],
      "execution_count": 8,
      "outputs": [
        {
          "output_type": "execute_result",
          "data": {
            "text/plain": [
              "[('are', 'VBP'),\n",
              " ('there', 'RB'),\n",
              " ('any', 'DT'),\n",
              " ('good', 'JJ'),\n",
              " Tree('GENRE', [('romantic', 'JJ'), ('comedies', 'NNS')]),\n",
              " ('out', 'RP'),\n",
              " Tree('YEAR', [('right', 'RB'), ('now', 'RB')]),\n",
              " ('show', 'VB'),\n",
              " ('me', 'PRP'),\n",
              " ('a', 'DT'),\n",
              " ('movie', 'NN'),\n",
              " ('about', 'IN'),\n",
              " Tree('PLOT', [('cars', 'NNS'), ('that', 'WDT'), ('talk', 'VBP')]),\n",
              " ('list', 'IN'),\n",
              " ('the', 'DT'),\n",
              " Tree('RATINGS_AVERAGE', [('five', 'CD'), ('star', 'NN')]),\n",
              " ('rated', 'VBN'),\n",
              " ('movies', 'NNS'),\n",
              " ('starring', 'VBG'),\n",
              " Tree('ACTOR', [('mel', 'NN'), ('gibson', 'NN')])]"
            ]
          },
          "metadata": {
            "tags": []
          },
          "execution_count": 8
        }
      ]
    },
    {
      "cell_type": "markdown",
      "metadata": {
        "id": "gjL22Cb4OEM5"
      },
      "source": [
        "Now we can detect the named entitiy tags (IOB/BIO) usign the chunker conlltags2tree"
      ]
    },
    {
      "cell_type": "code",
      "metadata": {
        "colab": {
          "base_uri": "https://localhost:8080/"
        },
        "id": "VY1JhpHdM3eX",
        "outputId": "1aa8d474-6618-41e6-9a0a-f178882e1952"
      },
      "source": [
        "# parse name entities from the tree\n",
        "def DetectNamedEntity(data):\n",
        "    \"\"\"\n",
        "    Function to detect the named entity tags corresponding to the words.\n",
        "    Args:\n",
        "        Data: ne_tree varible which stores the conlltags tree.\n",
        "    Return:\n",
        "        Detected entity tags corresponding to the words.\n",
        "    \"\"\"\n",
        "    # create an empty list\n",
        "    namedEntity_list = []\n",
        "    # iterate over the tree - call from create_conlltags_tree()\n",
        "    for trees in data:\n",
        "        # condition - skip the 'O' tags - if subtree is a noun chunnk\n",
        "        if type(trees) == Tree:\n",
        "            # initialise tree labels\n",
        "            labels = trees.label()\n",
        "            # join with tokens (words) and PoS tags in tree's leaves\n",
        "            string = \" \".join([token for token, pos in trees.leaves()])\n",
        "            # # append string and labels as tuples into empty list\n",
        "            namedEntity_list.append((string, labels)) \n",
        "    # return appended list\n",
        "    return namedEntity_list\n",
        "\n",
        "# call StructureNamedEntity() and display named entity\n",
        "detectNamedEntities = DetectNamedEntity(conlltag_tree)\n",
        "# title\n",
        "print(\" ---- Movie data named entity detected ------\")\n",
        "# first 10 elements from tuples\n",
        "detectNamedEntities[:20]"
      ],
      "execution_count": 9,
      "outputs": [
        {
          "output_type": "stream",
          "text": [
            " ---- Movie data named entity detected ------\n"
          ],
          "name": "stdout"
        },
        {
          "output_type": "execute_result",
          "data": {
            "text/plain": [
              "[('romantic comedies', 'GENRE'),\n",
              " ('right now', 'YEAR'),\n",
              " ('cars that talk', 'PLOT'),\n",
              " ('five star', 'RATINGS_AVERAGE'),\n",
              " ('mel gibson', 'ACTOR'),\n",
              " ('science fiction', 'GENRE'),\n",
              " ('recently', 'YEAR'),\n",
              " ('harry potter', 'TITLE'),\n",
              " ('1980s', 'YEAR'),\n",
              " ('action', 'GENRE'),\n",
              " ('star trek series', 'TITLE'),\n",
              " ('soundtrac', 'SONG'),\n",
              " ('harry potter films', 'TITLE'),\n",
              " ('science fiction', 'GENRE'),\n",
              " ('since 2005', 'YEAR'),\n",
              " ('current', 'YEAR'),\n",
              " ('mat damon', 'ACTOR'),\n",
              " ('jim carrey', 'ACTOR'),\n",
              " ('detective', 'CHARACTER'),\n",
              " ('george clooney', 'ACTOR')]"
            ]
          },
          "metadata": {
            "tags": []
          },
          "execution_count": 9
        }
      ]
    },
    {
      "cell_type": "code",
      "metadata": {
        "id": "MwTBeE1ROeFa"
      },
      "source": [
        ""
      ],
      "execution_count": null,
      "outputs": []
    },
    {
      "cell_type": "markdown",
      "metadata": {
        "id": "Hj55riuTIV3f"
      },
      "source": [
        "# What is CRF?\n",
        "CRF is the probabilistic model for segmenting and labeling sequence data. As in the Sequence Classification problem, the main goal is to find the probability of a sequence of label (y) given an input of sequence vectors (X) which is denoted as p(y|x). \n",
        "\n",
        "# Feature function in CRF\n",
        "In a CRF, each feature fucntion is a function that takes in as input:\n",
        "  - s: sentence\n",
        "  - i: ith position of word in the sentence\n",
        "  - l(i): the label of current word\n",
        "  - l(i−1): the label of the previous word\n",
        "  - expected output is a real valued number either 0 or 1\n",
        "\n",
        "# Features to Probability\n",
        "How actually the CRF works?\n",
        "  - Firstly, we assign each feature function f(j) a weight λ(j). \n",
        "  - Now given a sentence (s), we can score a labeling (l) of sentence (s) by adding up the weighted features over all words in the sentence. Below screen shot shows the exampl eof scoring the labels and sentence by addign the weighted features:\n",
        "\n",
        "    ![image.png](data:image/png;base64,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)\n",
        "\n",
        "Note: first sum runs over each feature function (j), and second sum runs over each position (i) of the sentence.\n",
        "\n",
        "  - Now we tranform these scores into probabilities as p(l|s) between 0 and 1 by exponentiating and normalizing. Below equation shows the transformation of scores into probablities:\n",
        "  ![image.png](data:image/png;base64,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)\n",
        "\n",
        "# How the process works?\n",
        " - f1(s,i,l(i),l(i−1)) = 1 if l(i) == ADVERB and ith words ends in \"ly\", otherwise it is 0, -->> if weight λ1 associated with this feature is large and positive, then this feature is essentially saying that assign the labellings \"ADVERB\" where where words ending in \"-ly\". \n",
        "- same with the NOUN, VERB, and PREPOSITION"
      ]
    },
    {
      "cell_type": "code",
      "metadata": {
        "id": "-igcV3ChNV8P"
      },
      "source": [
        ""
      ],
      "execution_count": null,
      "outputs": []
    },
    {
      "cell_type": "markdown",
      "metadata": {
        "id": "wjvADJ36OeZ4"
      },
      "source": [
        "# sklearn_crfsuite classifier\n",
        "CRF (Conditional random fields) is a framework for building models to segment and label sequence data. \n",
        "\n",
        "Main steps:\n",
        "  - Data pre-processing for sklearn-crfsuite\n",
        "    - Retreive sentence corresponding to tags\n",
        "    - Parsing features (parameters) to sentence corpus\n",
        "    - splitting data into train/test\n",
        "  - Training CRF with hyper-parameters of:\n",
        "    - 'lbfgs' - Gradient descent using L-BFGS method\n",
        "    - Regularisations:\n",
        "      - c1: coefficient for L1 regularisation\n",
        "      - c2: coefficient for L2 regularisation\n",
        "    - max_iteration: 100 -> maximum number of iteration for optimzation algorithm\n",
        "    - all_posible_transition: True -> generates transition features that associate all of posible label pairs.\n",
        "  - Model Evaluation\n",
        "    - Step 1: removing \"O\" tag from named entity\n",
        "    - Step 2 - Performance metrics:\n",
        "      - F1-Score\n",
        "      - Performance per each class (classfication report)\n",
        "\n",
        "  - CRF model after hyper-parameters optimzation\n",
        "    - Hyper parameters:\n",
        "      - Training to select best regularisation parameter\n",
        "      - Cross validation fold (cv=3)\n",
        "      - n_iteration 50 so 150 fits in total (50*3)\n",
        "    - Model prediction after optimization\n",
        "      - Performance metrics:\n",
        "        - F1-Score\n",
        "        - Performance per each class (classification report)"
      ]
    },
    {
      "cell_type": "code",
      "metadata": {
        "id": "J2x6AzgeUVI5"
      },
      "source": [
        ""
      ],
      "execution_count": null,
      "outputs": []
    },
    {
      "cell_type": "markdown",
      "metadata": {
        "id": "k7VJxyBtUQZi"
      },
      "source": [
        "Data pre-processing for sklearn-crfsuite\n",
        "  - Retreive sentence corresponding to tags\n",
        "  - Parsing features (parameters) to sentence corpus\n",
        "  - splitting data into train/test"
      ]
    },
    {
      "cell_type": "code",
      "metadata": {
        "colab": {
          "base_uri": "https://localhost:8080/"
        },
        "id": "vTdfbhGyRPt4",
        "outputId": "3e54a19d-5b6f-4688-9978-148020719a68"
      },
      "source": [
        "# sentenceGetter class to retreive sentence corresponding to tags\n",
        "class sentenceGetter(object):\n",
        "  \"\"\"\n",
        "  Movie Corpus object containing words, entity_tags, PoS_tags.\n",
        "  param args: (str)\n",
        "      Data - lists of words, entity_tags, and PoS_tags.\n",
        "  \"\"\"\n",
        "  # define initialiser\n",
        "  def __init__(self, data):\n",
        "    \"\"\" Initialiser.\"\"\"\n",
        "    self.n_sent = 1\n",
        "    self.data = data\n",
        "    self.empty = False\n",
        "    # lmbda function to apply aggregate function - function zips the features into lists with corresponding sentence\n",
        "    agg_func = lambda sentence: [(texts, posTags, entityTags) for texts, posTags, entityTags in zip(sentence['words'].values.tolist(),\n",
        "                                                                                                    sentence['pos_tags'].values.tolist(),\n",
        "                                                                                                    sentence['entity_tags'].values.tolist())]\n",
        "\n",
        "    # grouping data by sentence index and applying the lambda function for aggregation\n",
        "    self.grouped = self.data.groupby(\"sentences\").apply(agg_func)\n",
        "    # get the sentence in tuples with corresponding word, postags and entity tags\n",
        "    self.sentences = [sentence for sentence in self.grouped]\n",
        "\n",
        "    # getter()\n",
        "    def get_next(self):\n",
        "      \"\"\"\n",
        "      Function getter() - traverse over the sentence corpus.\n",
        "      \"\"\"\n",
        "      try:\n",
        "        sentences = self.grouped[\"sentence: {}\".format(self.n_sent)]\n",
        "        # increment n_snet by 1\n",
        "        self.n_sent += 1\n",
        "        # reuturn sentence\n",
        "        return sentences\n",
        "      # Exception\n",
        "      except Exception as error:\n",
        "        print(str(error))\n",
        "\n",
        "# instantiate the class\n",
        "getter = sentenceGetter(movieData)\n",
        "# traverse the corpus and get next sentence\n",
        "SentenceCorpus = getter.sentences\n",
        "# display sentence as per list of sentences index\n",
        "SentenceCorpus[0]"
      ],
      "execution_count": 10,
      "outputs": [
        {
          "output_type": "execute_result",
          "data": {
            "text/plain": [
              "[('are', 'VBP', 'O'),\n",
              " ('there', 'RB', 'O'),\n",
              " ('any', 'DT', 'O'),\n",
              " ('good', 'JJ', 'O'),\n",
              " ('romantic', 'JJ', 'B-GENRE'),\n",
              " ('comedies', 'NNS', 'I-GENRE'),\n",
              " ('out', 'RP', 'O'),\n",
              " ('right', 'RB', 'B-YEAR'),\n",
              " ('now', 'RB', 'I-YEAR')]"
            ]
          },
          "metadata": {
            "tags": []
          },
          "execution_count": 10
        }
      ]
    },
    {
      "cell_type": "code",
      "metadata": {
        "colab": {
          "base_uri": "https://localhost:8080/"
        },
        "id": "_v_L92vaTwcs",
        "outputId": "b3464857-f35f-467d-ba64-c33f90f63601"
      },
      "source": [
        "# Function to parse features (parameters) to sentence corpus\n",
        "def word2features(corList, i):\n",
        "    \"\"\"\n",
        "    Function to parse features to sentence corpus like word suffix, identity, shape and PoS tags.\n",
        "    Args:\n",
        "        Sentence Corpus: (str) tuples containing Sentence Corpus.\n",
        "    Returns: \n",
        "        Dict of Extracted features to be apply to Corpus.\n",
        "    \"\"\"\n",
        "    # word variable to store words from corpus at index level\n",
        "    word = corList[i][0]\n",
        "    # postag variable to storer PoS tags from corpus at index level\n",
        "    postag = corList[i][1]\n",
        "    # dict - containing features to be apply on corpus\n",
        "    features = {\n",
        "        'bias': 1.0,\n",
        "        'word.lower()': word.lower(),\n",
        "        'word[-3:]': word[-3:],\n",
        "        'word[-2:]': word[-2:],\n",
        "        'word.isupper()': word.isupper(),\n",
        "        'word.istitle()': word.istitle(),\n",
        "        'word.isdigit()': word.isdigit(),\n",
        "        'postag': postag,\n",
        "        'postag[:2]': postag[:2],\n",
        "    }\n",
        "    # if index > 0 \n",
        "    if i > 0:\n",
        "        # traverse over the word corpus by start index\n",
        "        word1 = corList[i-1][0]\n",
        "        # traverse over the PoS tags corpus by start index\n",
        "        postag1 = corList[i-1][1]\n",
        "        # update the features in corpus\n",
        "        features.update({\n",
        "            '-1:word.lower()': word1.lower(),\n",
        "            '-1:word[-3:]': word1[-3:],\n",
        "            '-1:word[-2:]': word1[-2:],\n",
        "            '-1:word.istitle()': word1.istitle(),\n",
        "            '-1:word.isupper()': word1.isupper(),\n",
        "            '-1:postag': postag1,\n",
        "            '-1:postag[:2]': postag1[:2],\n",
        "        })\n",
        "    # else begining of sentence\n",
        "    else:\n",
        "        features['BOS'] = True\n",
        "    # if index is less than len of corpus\n",
        "    if i < len(corList)-1:\n",
        "        # \n",
        "        word1 = corList[i+1][0]\n",
        "        postag1 = corList[i+1][1]\n",
        "        features.update({\n",
        "            '+1:word.lower()': word1.lower(),\n",
        "            '+1:word[-3:]': word1[-3:],\n",
        "            '+1:word[-2:]': word1[-2:],\n",
        "            '+1:word.istitle()': word1.istitle(),\n",
        "            '+1:word.isupper()': word1.isupper(),\n",
        "            '+1:postag': postag1,\n",
        "            '+1:postag[:2]': postag1[:2],\n",
        "        })\n",
        "    # else End of sentence\n",
        "    else:\n",
        "        features['EOS'] = True\n",
        "    # return extracted features\n",
        "    return features\n",
        "\n",
        "# define sentence features\n",
        "def sent2features(corList):\n",
        "    \"\"\"\n",
        "    Function to parse the extracted features to input words corpus.\n",
        "    \"\"\"\n",
        "    return [word2features(corList, i) for i in range(len(corList))]\n",
        "# define sentence labels\n",
        "def sent2labels(corList):\n",
        "    \"\"\"\n",
        "    Function to parse the labels.\n",
        "    \"\"\"\n",
        "    return [label for token, postag, label in corList]\n",
        "\n",
        "# sanity check - call sent2feautres() - to see what features are extracted\n",
        "print(\"----- Extracted featurs are --------\")\n",
        "sent2features(SentenceCorpus[0])[0]"
      ],
      "execution_count": 11,
      "outputs": [
        {
          "output_type": "stream",
          "text": [
            "----- Extracted featurs are --------\n"
          ],
          "name": "stdout"
        },
        {
          "output_type": "execute_result",
          "data": {
            "text/plain": [
              "{'+1:postag': 'RB',\n",
              " '+1:postag[:2]': 'RB',\n",
              " '+1:word.istitle()': False,\n",
              " '+1:word.isupper()': False,\n",
              " '+1:word.lower()': 'there',\n",
              " '+1:word[-2:]': 're',\n",
              " '+1:word[-3:]': 'ere',\n",
              " 'BOS': True,\n",
              " 'bias': 1.0,\n",
              " 'postag': 'VBP',\n",
              " 'postag[:2]': 'VB',\n",
              " 'word.isdigit()': False,\n",
              " 'word.istitle()': False,\n",
              " 'word.isupper()': False,\n",
              " 'word.lower()': 'are',\n",
              " 'word[-2:]': 're',\n",
              " 'word[-3:]': 'are'}"
            ]
          },
          "metadata": {
            "tags": []
          },
          "execution_count": 11
        }
      ]
    },
    {
      "cell_type": "code",
      "metadata": {
        "colab": {
          "base_uri": "https://localhost:8080/"
        },
        "id": "Gxa00nYeUJ0F",
        "outputId": "2bb43020-c4f8-4f02-d51d-fb023e2c63d1"
      },
      "source": [
        "# splitting data\n",
        "def split_data(data, test_ratio=None, random_state=42):\n",
        "  \"\"\"\n",
        "  Function to split data into train/test.\n",
        "  Args:\n",
        "      Data: Sentence Corpus (tuples)\n",
        "      Split ratio (float)\n",
        "  Returns:\n",
        "      Train/Test splits\n",
        "  \"\"\"\n",
        "  # call sent2features() for input features\n",
        "  inputFeatures = [sent2features(input) for input in data]\n",
        "  # call sent2labels() for target labels\n",
        "  targetLabels = [sent2labels(labels) for labels in data]\n",
        "  # make split between train and test\n",
        "  x_train, x_test, y_train, y_test = train_test_split(inputFeatures, targetLabels, test_size = test_ratio, random_state = random_state)\n",
        "  # if the test_size ratio is provided then split data between train and tests\n",
        "  if test_ratio != None:\n",
        "    return x_train, x_test, y_train, y_test\n",
        "  else:\n",
        "    print(\"Error: Split ratio is not defined!\")\n",
        "\n",
        "# call function split_data()\n",
        "x_train, x_test, y_train, y_test = split_data(SentenceCorpus, 0.3)\n",
        "# display extracted input features\n",
        "print(x_train[:1])\n",
        "print() # blank line\n",
        "print(y_train[:1])\n",
        "\n",
        "print() # blank line\n",
        "print(\"----- Data is sent for train and testing ------ \")\n",
        "# data size\n",
        "print(\"x_train: \", len(x_train))\n",
        "print(\"x_test: \", len(x_test))\n",
        "print(\"y_train: \", len(y_train))\n",
        "print(\"y_test: \", len(y_test))"
      ],
      "execution_count": 12,
      "outputs": [
        {
          "output_type": "stream",
          "text": [
            "[[{'bias': 1.0, 'word.lower()': 'did', 'word[-3:]': 'did', 'word[-2:]': 'id', 'word.isupper()': False, 'word.istitle()': False, 'word.isdigit()': False, 'postag': 'VBD', 'postag[:2]': 'VB', 'BOS': True, '+1:word.lower()': 'the', '+1:word[-3:]': 'the', '+1:word[-2:]': 'he', '+1:word.istitle()': False, '+1:word.isupper()': False, '+1:postag': 'DT', '+1:postag[:2]': 'DT'}, {'bias': 1.0, 'word.lower()': 'the', 'word[-3:]': 'the', 'word[-2:]': 'he', 'word.isupper()': False, 'word.istitle()': False, 'word.isdigit()': False, 'postag': 'DT', 'postag[:2]': 'DT', '-1:word.lower()': 'did', '-1:word[-3:]': 'did', '-1:word[-2:]': 'id', '-1:word.istitle()': False, '-1:word.isupper()': False, '-1:postag': 'VBD', '-1:postag[:2]': 'VB', '+1:word.lower()': 'shining', '+1:word[-3:]': 'ing', '+1:word[-2:]': 'ng', '+1:word.istitle()': False, '+1:word.isupper()': False, '+1:postag': 'NN', '+1:postag[:2]': 'NN'}, {'bias': 1.0, 'word.lower()': 'shining', 'word[-3:]': 'ing', 'word[-2:]': 'ng', 'word.isupper()': False, 'word.istitle()': False, 'word.isdigit()': False, 'postag': 'NN', 'postag[:2]': 'NN', '-1:word.lower()': 'the', '-1:word[-3:]': 'the', '-1:word[-2:]': 'he', '-1:word.istitle()': False, '-1:word.isupper()': False, '-1:postag': 'DT', '-1:postag[:2]': 'DT', '+1:word.lower()': 'receive', '+1:word[-3:]': 'ive', '+1:word[-2:]': 've', '+1:word.istitle()': False, '+1:word.isupper()': False, '+1:postag': 'VBP', '+1:postag[:2]': 'VB'}, {'bias': 1.0, 'word.lower()': 'receive', 'word[-3:]': 'ive', 'word[-2:]': 've', 'word.isupper()': False, 'word.istitle()': False, 'word.isdigit()': False, 'postag': 'VBP', 'postag[:2]': 'VB', '-1:word.lower()': 'shining', '-1:word[-3:]': 'ing', '-1:word[-2:]': 'ng', '-1:word.istitle()': False, '-1:word.isupper()': False, '-1:postag': 'NN', '-1:postag[:2]': 'NN', '+1:word.lower()': 'a', '+1:word[-3:]': 'a', '+1:word[-2:]': 'a', '+1:word.istitle()': False, '+1:word.isupper()': False, '+1:postag': 'DT', '+1:postag[:2]': 'DT'}, {'bias': 1.0, 'word.lower()': 'a', 'word[-3:]': 'a', 'word[-2:]': 'a', 'word.isupper()': False, 'word.istitle()': False, 'word.isdigit()': False, 'postag': 'DT', 'postag[:2]': 'DT', '-1:word.lower()': 'receive', '-1:word[-3:]': 'ive', '-1:word[-2:]': 've', '-1:word.istitle()': False, '-1:word.isupper()': False, '-1:postag': 'VBP', '-1:postag[:2]': 'VB', '+1:word.lower()': 'rating', '+1:word[-3:]': 'ing', '+1:word[-2:]': 'ng', '+1:word.istitle()': False, '+1:word.isupper()': False, '+1:postag': 'NN', '+1:postag[:2]': 'NN'}, {'bias': 1.0, 'word.lower()': 'rating', 'word[-3:]': 'ing', 'word[-2:]': 'ng', 'word.isupper()': False, 'word.istitle()': False, 'word.isdigit()': False, 'postag': 'NN', 'postag[:2]': 'NN', '-1:word.lower()': 'a', '-1:word[-3:]': 'a', '-1:word[-2:]': 'a', '-1:word.istitle()': False, '-1:word.isupper()': False, '-1:postag': 'DT', '-1:postag[:2]': 'DT', '+1:word.lower()': 'of', '+1:word[-3:]': 'of', '+1:word[-2:]': 'of', '+1:word.istitle()': False, '+1:word.isupper()': False, '+1:postag': 'IN', '+1:postag[:2]': 'IN'}, {'bias': 1.0, 'word.lower()': 'of', 'word[-3:]': 'of', 'word[-2:]': 'of', 'word.isupper()': False, 'word.istitle()': False, 'word.isdigit()': False, 'postag': 'IN', 'postag[:2]': 'IN', '-1:word.lower()': 'rating', '-1:word[-3:]': 'ing', '-1:word[-2:]': 'ng', '-1:word.istitle()': False, '-1:word.isupper()': False, '-1:postag': 'NN', '-1:postag[:2]': 'NN', '+1:word.lower()': 'five', '+1:word[-3:]': 'ive', '+1:word[-2:]': 've', '+1:word.istitle()': False, '+1:word.isupper()': False, '+1:postag': 'CD', '+1:postag[:2]': 'CD'}, {'bias': 1.0, 'word.lower()': 'five', 'word[-3:]': 'ive', 'word[-2:]': 've', 'word.isupper()': False, 'word.istitle()': False, 'word.isdigit()': False, 'postag': 'CD', 'postag[:2]': 'CD', '-1:word.lower()': 'of', '-1:word[-3:]': 'of', '-1:word[-2:]': 'of', '-1:word.istitle()': False, '-1:word.isupper()': False, '-1:postag': 'IN', '-1:postag[:2]': 'IN', '+1:word.lower()': 'stars', '+1:word[-3:]': 'ars', '+1:word[-2:]': 'rs', '+1:word.istitle()': False, '+1:word.isupper()': False, '+1:postag': 'NNS', '+1:postag[:2]': 'NN'}, {'bias': 1.0, 'word.lower()': 'stars', 'word[-3:]': 'ars', 'word[-2:]': 'rs', 'word.isupper()': False, 'word.istitle()': False, 'word.isdigit()': False, 'postag': 'NNS', 'postag[:2]': 'NN', '-1:word.lower()': 'five', '-1:word[-3:]': 'ive', '-1:word[-2:]': 've', '-1:word.istitle()': False, '-1:word.isupper()': False, '-1:postag': 'CD', '-1:postag[:2]': 'CD', '+1:word.lower()': 'and', '+1:word[-3:]': 'and', '+1:word[-2:]': 'nd', '+1:word.istitle()': False, '+1:word.isupper()': False, '+1:postag': 'CC', '+1:postag[:2]': 'CC'}, {'bias': 1.0, 'word.lower()': 'and', 'word[-3:]': 'and', 'word[-2:]': 'nd', 'word.isupper()': False, 'word.istitle()': False, 'word.isdigit()': False, 'postag': 'CC', 'postag[:2]': 'CC', '-1:word.lower()': 'stars', '-1:word[-3:]': 'ars', '-1:word[-2:]': 'rs', '-1:word.istitle()': False, '-1:word.isupper()': False, '-1:postag': 'NNS', '-1:postag[:2]': 'NN', '+1:word.lower()': 'above', '+1:word[-3:]': 'ove', '+1:word[-2:]': 've', '+1:word.istitle()': False, '+1:word.isupper()': False, '+1:postag': 'VB', '+1:postag[:2]': 'VB'}, {'bias': 1.0, 'word.lower()': 'above', 'word[-3:]': 'ove', 'word[-2:]': 've', 'word.isupper()': False, 'word.istitle()': False, 'word.isdigit()': False, 'postag': 'VB', 'postag[:2]': 'VB', '-1:word.lower()': 'and', '-1:word[-3:]': 'and', '-1:word[-2:]': 'nd', '-1:word.istitle()': False, '-1:word.isupper()': False, '-1:postag': 'CC', '-1:postag[:2]': 'CC', 'EOS': True}]]\n",
            "\n",
            "[['O', 'B-TITLE', 'I-TITLE', 'O', 'O', 'O', 'O', 'B-RATINGS_AVERAGE', 'I-RATINGS_AVERAGE', 'I-RATINGS_AVERAGE', 'I-RATINGS_AVERAGE']]\n",
            "\n",
            "----- Data is sent for train and testing ------ \n",
            "x_train:  3250\n",
            "x_test:  1393\n",
            "y_train:  3250\n",
            "y_test:  1393\n"
          ],
          "name": "stdout"
        }
      ]
    },
    {
      "cell_type": "markdown",
      "metadata": {
        "id": "2Uus9Za7XAzO"
      },
      "source": [
        "Training CRF with hyper-parameters of:\n",
        "  - **'lbfgs' - Gradient descent using L-BFGS method**: is an optimization algorithm in the family of quasi-Newton methods that approximates the “Broyden-Fletcher-Goldfarb-Shanno algorithm (BFGS)” using a limited amount of computer memory. It is a popular algorithm for parameter estimation in ML. The algorithm’s target problem is to minimize f(x) over unconstrained values of the real-vector (x) where (f) is a differentiable scalar function. \n",
        "Like the original BFGS, L-BFGS uses an estimate of the inverse Hessian matrix to steer its search through variable space, but where BFGS stores a dense (n*n) approximation to the inverse Hessian (n being the number of variables in the problem). L-BFGS stores only a few vectors that represent the approximation implicity. Due to its linear memory requirement, the L-BFGS method is particularly well suited for optimization problems with many variables. Instead of the inverse Hessian (H^k), L-BFGS maintains a history of the past (m) updates of the position (x) and gradient f(x), where generally the history size (m) can be small (often m < 10).  \n",
        "\n",
        "  - **Regularisations**:\n",
        "    - **c1: coefficient for L1 regularisation** - adds a penalty equal to the “absolute value” of the magnitude of coefficients, in simple words, it reduces the size of the coefficients. L1 yields sparse models i.e. models with few coefficients, some coefficients can become zero and eliminate. \n",
        "    - **c2: coefficient for L2 regularisation** - adds an L2 penalty equal to the square of the magnitude of coefficients. L2 will not yield sparse models and all coefficients are shrunk by the same factor (none are eliminated).\n",
        "  - **max_iteration**: 100 -> maximum number of iteration for optimzation algorithm\n",
        "  - **all_posible_transition**: True -> generates transition features that associate all of posible label pairs."
      ]
    },
    {
      "cell_type": "code",
      "metadata": {
        "colab": {
          "base_uri": "https://localhost:8080/"
        },
        "id": "87cak3avbUeD",
        "outputId": "9534d243-6255-40de-ef10-1dd11247ba5e"
      },
      "source": [
        "%%time\n",
        "# define CRF model\n",
        "def crfSuiteParam():\n",
        "  \"\"\"Function to define hyperparameter for Optimzation.\"\"\"\n",
        "  # define parameter for optimzation\n",
        "  parameters = CRF(\n",
        "      # gradient descent using L-BFGS method\n",
        "      algorithm = 'lbfgs',\n",
        "      # L1 regularisation\n",
        "      c1= 0.1,\n",
        "      # L2 regularisation\n",
        "      c2 = 0.1,\n",
        "      # maximum number of iteration for optimzation algorithm\n",
        "      max_iterations = 50,\n",
        "      # generates transition features that associate all of posible label pairs\n",
        "      all_possible_transitions=True, \n",
        "      verbose = 1\n",
        "  )\n",
        "  # return CRF with hyper-parameters\n",
        "  return parameters\n",
        "\n",
        "# instantiate crfSuiteParameter()\n",
        "crf = crfSuiteParam()\n",
        "# fit model\n",
        "crf.fit(x_train, y_train)"
      ],
      "execution_count": 13,
      "outputs": [
        {
          "output_type": "stream",
          "text": [
            "loading training data to CRFsuite: 100%|██████████| 3250/3250 [00:00<00:00, 6716.12it/s]\n"
          ],
          "name": "stderr"
        },
        {
          "output_type": "stream",
          "text": [
            "\n",
            "Feature generation\n",
            "type: CRF1d\n",
            "feature.minfreq: 0.000000\n",
            "feature.possible_states: 0\n",
            "feature.possible_transitions: 1\n",
            "0....1....2....3....4....5....6....7....8....9....10\n",
            "Number of features: 33685\n",
            "Seconds required: 0.136\n",
            "\n",
            "L-BFGS optimization\n",
            "c1: 0.100000\n",
            "c2: 0.100000\n",
            "num_memories: 6\n",
            "max_iterations: 50\n",
            "epsilon: 0.000010\n",
            "stop: 10\n",
            "delta: 0.000010\n",
            "linesearch: MoreThuente\n",
            "linesearch.max_iterations: 20\n",
            "\n",
            "Iter 1   time=0.23  loss=71870.86 active=33200 feature_norm=1.00\n",
            "Iter 2   time=0.36  loss=54977.87 active=32810 feature_norm=2.73\n",
            "Iter 3   time=0.13  loss=50538.07 active=31765 feature_norm=2.43\n",
            "Iter 4   time=0.12  loss=47819.53 active=32686 feature_norm=2.69\n",
            "Iter 5   time=0.12  loss=37671.73 active=32231 feature_norm=5.43\n",
            "Iter 6   time=0.12  loss=30875.11 active=32476 feature_norm=7.72\n",
            "Iter 7   time=0.12  loss=23079.24 active=32502 feature_norm=12.66\n",
            "Iter 8   time=0.13  loss=20351.98 active=32415 feature_norm=15.52\n",
            "Iter 9   time=0.12  loss=18239.22 active=32807 feature_norm=16.94\n",
            "Iter 10  time=0.13  loss=17134.64 active=32812 feature_norm=18.02\n",
            "Iter 11  time=0.12  loss=15047.44 active=32427 feature_norm=21.60\n",
            "Iter 12  time=0.13  loss=13253.99 active=32496 feature_norm=24.53\n",
            "Iter 13  time=0.12  loss=12053.26 active=32587 feature_norm=26.55\n",
            "Iter 14  time=0.12  loss=11191.58 active=32621 feature_norm=28.61\n",
            "Iter 15  time=0.12  loss=10114.91 active=32164 feature_norm=31.68\n",
            "Iter 16  time=0.12  loss=9305.70  active=31772 feature_norm=35.02\n",
            "Iter 17  time=0.12  loss=8609.15  active=31893 feature_norm=38.06\n",
            "Iter 18  time=0.13  loss=8062.14  active=31738 feature_norm=41.40\n",
            "Iter 19  time=0.12  loss=7605.64  active=31622 feature_norm=43.61\n",
            "Iter 20  time=0.12  loss=7098.75  active=31627 feature_norm=47.52\n",
            "Iter 21  time=0.12  loss=6546.80  active=31625 feature_norm=51.18\n",
            "Iter 22  time=0.12  loss=5996.68  active=31446 feature_norm=56.04\n",
            "Iter 23  time=0.12  loss=5630.14  active=31287 feature_norm=58.78\n",
            "Iter 24  time=0.12  loss=5244.97  active=30973 feature_norm=63.90\n",
            "Iter 25  time=0.13  loss=4957.33  active=30766 feature_norm=66.41\n",
            "Iter 26  time=0.13  loss=4661.18  active=30231 feature_norm=71.16\n",
            "Iter 27  time=0.12  loss=4459.04  active=29981 feature_norm=73.48\n",
            "Iter 28  time=0.12  loss=4264.53  active=29535 feature_norm=76.83\n",
            "Iter 29  time=0.12  loss=4115.79  active=29261 feature_norm=79.46\n",
            "Iter 30  time=0.12  loss=4007.32  active=28907 feature_norm=81.69\n",
            "Iter 31  time=0.12  loss=3921.83  active=28538 feature_norm=83.48\n",
            "Iter 32  time=0.12  loss=3842.48  active=27983 feature_norm=85.58\n",
            "Iter 33  time=0.12  loss=3794.65  active=27867 feature_norm=86.62\n",
            "Iter 34  time=0.12  loss=3752.43  active=27744 feature_norm=87.74\n",
            "Iter 35  time=0.12  loss=3713.77  active=27406 feature_norm=88.50\n",
            "Iter 36  time=0.12  loss=3686.77  active=26740 feature_norm=89.38\n",
            "Iter 37  time=0.12  loss=3661.05  active=26518 feature_norm=89.62\n",
            "Iter 38  time=0.12  loss=3646.18  active=26353 feature_norm=90.00\n",
            "Iter 39  time=0.12  loss=3623.18  active=26056 feature_norm=90.47\n",
            "Iter 40  time=0.12  loss=3606.19  active=25845 feature_norm=90.94\n",
            "Iter 41  time=0.12  loss=3592.51  active=25622 feature_norm=91.13\n",
            "Iter 42  time=0.12  loss=3580.02  active=25356 feature_norm=91.44\n",
            "Iter 43  time=0.13  loss=3568.71  active=25079 feature_norm=91.70\n",
            "Iter 44  time=0.12  loss=3558.11  active=24914 feature_norm=91.97\n",
            "Iter 45  time=0.12  loss=3549.28  active=24809 feature_norm=92.10\n",
            "Iter 46  time=0.12  loss=3540.35  active=24635 feature_norm=92.28\n",
            "Iter 47  time=0.12  loss=3532.57  active=24398 feature_norm=92.45\n",
            "Iter 48  time=0.12  loss=3524.82  active=24268 feature_norm=92.62\n",
            "Iter 49  time=0.12  loss=3518.20  active=24103 feature_norm=92.70\n",
            "Iter 50  time=0.12  loss=3510.85  active=23961 feature_norm=92.81\n",
            "L-BFGS terminated with the maximum number of iterations\n",
            "Total seconds required for training: 6.453\n",
            "\n",
            "Storing the model\n",
            "Number of active features: 23961 (33685)\n",
            "Number of active attributes: 10325 (15124)\n",
            "Number of active labels: 25 (25)\n",
            "Writing labels\n",
            "Writing attributes\n",
            "Writing feature references for transitions\n",
            "Writing feature references for attributes\n",
            "Seconds required: 0.013\n",
            "\n",
            "CPU times: user 7.04 s, sys: 60.9 ms, total: 7.11 s\n",
            "Wall time: 7.12 s\n"
          ],
          "name": "stdout"
        }
      ]
    },
    {
      "cell_type": "markdown",
      "metadata": {
        "id": "cTgK81_jfgbS"
      },
      "source": [
        "Model Evaluation\n",
        "  - Step 1: removing \"O\" tag from named entity\n",
        "  - Step 2 - Performance metrics:\n",
        "      - F1-Score: weighted average of Precision and Recall, and takes both false positive and false negative into account.  \n",
        "      - Performance per each class (classfication report)"
      ]
    },
    {
      "cell_type": "code",
      "metadata": {
        "colab": {
          "base_uri": "https://localhost:8080/"
        },
        "id": "PRbyBjWwfgG7",
        "outputId": "caa2498f-0efb-43ab-cd7d-1907e739b1f0"
      },
      "source": [
        "# variable to store a list of classes\n",
        "target_labels = list(crf.classes_)\n",
        "#  step 1 - remove entity tagged as \"O\"\n",
        "target_labels.remove(\"O\")\n",
        "# display target classes after removing \"O\"\n",
        "print(target_labels)"
      ],
      "execution_count": 14,
      "outputs": [
        {
          "output_type": "stream",
          "text": [
            "['B-TITLE', 'I-TITLE', 'B-RATINGS_AVERAGE', 'I-RATINGS_AVERAGE', 'B-SONG', 'B-PLOT', 'B-GENRE', 'B-TRAILER', 'B-YEAR', 'I-YEAR', 'B-DIRECTOR', 'I-DIRECTOR', 'I-PLOT', 'B-RATING', 'B-ACTOR', 'I-ACTOR', 'B-REVIEW', 'I-REVIEW', 'I-GENRE', 'I-RATING', 'I-SONG', 'B-CHARACTER', 'I-CHARACTER', 'I-TRAILER']\n"
          ],
          "name": "stdout"
        }
      ]
    },
    {
      "cell_type": "code",
      "metadata": {
        "id": "f6ziJwhPgB1l"
      },
      "source": [
        "# avoiding warnings that is treated differently from an error - likely to get as I have removed the entity tag \"O\" from classes\n",
        "import warnings\n",
        "warnings.filterwarnings('ignore')\n",
        "# sklearn_crfsuite\n",
        "import sklearn_crfsuite"
      ],
      "execution_count": 15,
      "outputs": []
    },
    {
      "cell_type": "code",
      "metadata": {
        "colab": {
          "base_uri": "https://localhost:8080/"
        },
        "id": "-V7hl181U24y",
        "outputId": "3e4a2448-e38c-403d-ff63-883ea6027a73"
      },
      "source": [
        "  predData = crf.predict(x_test[1])\n",
        "  print(predData)\n",
        "  print(y_test[1])"
      ],
      "execution_count": 16,
      "outputs": [
        {
          "output_type": "stream",
          "text": [
            "[['B-PLOT', 'I-PLOT', 'I-PLOT', 'I-PLOT', 'I-PLOT', 'I-PLOT', 'I-PLOT', 'I-PLOT', 'I-PLOT', 'I-PLOT', 'I-PLOT', 'I-PLOT', 'I-PLOT', 'I-PLOT', 'I-PLOT', 'I-PLOT', 'I-PLOT'], ['B-PLOT', 'I-PLOT', 'I-PLOT', 'I-PLOT', 'I-PLOT', 'I-PLOT', 'I-PLOT', 'I-PLOT', 'I-PLOT', 'I-PLOT', 'I-PLOT', 'I-PLOT', 'I-PLOT', 'I-PLOT', 'I-PLOT', 'I-PLOT', 'I-PLOT', 'I-PLOT', 'I-PLOT', 'I-PLOT', 'I-PLOT', 'I-PLOT', 'I-PLOT'], ['B-PLOT', 'I-PLOT', 'I-PLOT', 'I-PLOT', 'I-PLOT', 'I-PLOT', 'I-PLOT', 'I-PLOT', 'I-PLOT', 'I-PLOT', 'I-PLOT', 'I-PLOT', 'I-PLOT', 'I-PLOT', 'I-PLOT', 'I-PLOT', 'I-PLOT', 'I-PLOT', 'I-PLOT', 'I-PLOT', 'I-PLOT', 'I-PLOT', 'I-PLOT'], ['B-PLOT', 'I-PLOT', 'I-PLOT', 'I-PLOT', 'I-PLOT', 'I-PLOT', 'I-PLOT', 'I-PLOT', 'I-PLOT', 'I-PLOT', 'I-PLOT', 'I-PLOT', 'I-PLOT', 'I-PLOT', 'I-PLOT', 'I-PLOT', 'I-PLOT', 'I-PLOT', 'I-PLOT', 'I-PLOT', 'I-PLOT', 'I-PLOT', 'I-PLOT'], ['B-PLOT', 'I-PLOT', 'I-PLOT', 'I-PLOT', 'I-PLOT', 'I-PLOT', 'I-PLOT', 'I-PLOT', 'I-PLOT', 'I-PLOT', 'I-PLOT', 'I-PLOT', 'I-PLOT', 'I-PLOT', 'I-PLOT', 'I-PLOT', 'I-PLOT', 'I-PLOT', 'I-PLOT', 'I-PLOT', 'I-PLOT', 'I-PLOT', 'I-PLOT'], ['B-PLOT', 'I-PLOT', 'I-PLOT', 'I-PLOT', 'I-PLOT', 'I-PLOT', 'I-PLOT', 'I-PLOT', 'I-PLOT', 'I-PLOT', 'I-PLOT', 'I-PLOT', 'I-PLOT', 'I-PLOT', 'I-PLOT', 'I-PLOT', 'I-PLOT', 'I-PLOT', 'I-PLOT', 'I-PLOT', 'I-PLOT', 'I-PLOT', 'I-PLOT'], ['B-PLOT', 'I-PLOT', 'I-PLOT', 'I-PLOT', 'I-PLOT', 'I-PLOT', 'I-PLOT', 'I-PLOT', 'I-PLOT', 'I-PLOT', 'I-PLOT', 'I-PLOT', 'I-PLOT', 'I-PLOT', 'I-PLOT', 'I-PLOT', 'I-PLOT', 'I-PLOT', 'I-PLOT', 'I-PLOT', 'I-PLOT', 'I-PLOT', 'I-PLOT'], ['B-PLOT', 'I-PLOT', 'I-PLOT', 'I-PLOT', 'I-PLOT', 'I-PLOT', 'I-PLOT', 'I-PLOT', 'I-PLOT', 'I-PLOT', 'I-PLOT', 'I-PLOT', 'I-PLOT', 'I-PLOT', 'I-PLOT', 'I-PLOT', 'I-PLOT']]\n",
            "['O', 'O', 'B-DIRECTOR', 'I-DIRECTOR', 'O', 'B-RATINGS_AVERAGE', 'I-RATINGS_AVERAGE', 'O']\n"
          ],
          "name": "stdout"
        }
      ]
    },
    {
      "cell_type": "code",
      "metadata": {
        "colab": {
          "base_uri": "https://localhost:8080/"
        },
        "id": "D6HJKlxLgExP",
        "outputId": "91a74718-7548-4ad8-f348-8ad65a8c5b09"
      },
      "source": [
        "# Model Evaluation - Performance metrics - precision, recall, f1_score per each class without \"O\"\n",
        "def PerformancePerClass(model, x_test, y_test): #, labels):\n",
        "  \"\"\"\n",
        "  Function to evaluate and validate the CRF model.\n",
        "  Args:\n",
        "      model: crf (defined classifier)\n",
        "      x_test (list)\n",
        "      y_test: (list)\n",
        "  Returns:\n",
        "      f1_score\n",
        "      Performance rates (Classification report)\n",
        "  \"\"\"\n",
        "  # prediction\n",
        "  predData = model.predict(x_test)\n",
        "  # get f1-Score\n",
        "  f1Score = sklearn_crfsuite.metrics.flat_f1_score(y_test, predData, average='weighted') #, labels = labels)\n",
        "  # Classification Report\n",
        "  perfRates = sklearn_crfsuite.metrics.flat_classification_report(y_test, predData, digits=2) #, labels= labels)\n",
        "  # return f1Score, classification report\n",
        "  return f1Score, perfRates\n",
        "\n",
        "\n",
        "# model - crf\n",
        "# call function - PerformancePerClass()\n",
        "f1_Score, performanceByClass = PerformancePerClass(crf, x_test, y_test) #, target_labels)\n",
        "# display f1_score\n",
        "print(f\"F1 Score: {f1_Score:.2}\")\n",
        "print() # blank line\n",
        "# display Classification report\n",
        "print(\"----- Performance rates per Class --------:\\n\", performanceByClass)"
      ],
      "execution_count": 17,
      "outputs": [
        {
          "output_type": "stream",
          "text": [
            "F1 Score: 0.89\n",
            "\n",
            "----- Performance rates per Class --------:\n",
            "                    precision    recall  f1-score   support\n",
            "\n",
            "          B-ACTOR       0.84      0.89      0.86       390\n",
            "      B-CHARACTER       0.63      0.52      0.57        69\n",
            "       B-DIRECTOR       0.87      0.78      0.82       216\n",
            "          B-GENRE       0.91      0.91      0.91       542\n",
            "           B-PLOT       0.65      0.49      0.55       251\n",
            "         B-RATING       0.95      0.91      0.93       212\n",
            "B-RATINGS_AVERAGE       0.83      0.80      0.81       200\n",
            "         B-REVIEW       0.34      0.24      0.29        49\n",
            "           B-SONG       0.81      0.47      0.59        45\n",
            "          B-TITLE       0.74      0.73      0.74       419\n",
            "        B-TRAILER       0.95      0.78      0.86        23\n",
            "           B-YEAR       0.92      0.89      0.90       354\n",
            "          I-ACTOR       0.84      0.86      0.85       422\n",
            "      I-CHARACTER       0.58      0.42      0.49        59\n",
            "       I-DIRECTOR       0.86      0.81      0.84       220\n",
            "          I-GENRE       0.78      0.68      0.73       106\n",
            "           I-PLOT       0.52      0.40      0.45       217\n",
            "         I-RATING       0.90      0.83      0.86       105\n",
            "I-RATINGS_AVERAGE       0.77      0.81      0.79       166\n",
            "         I-REVIEW       0.11      0.10      0.11        20\n",
            "           I-SONG       0.78      0.48      0.59        82\n",
            "          I-TITLE       0.76      0.80      0.78       659\n",
            "        I-TRAILER       0.00      0.00      0.00         1\n",
            "           I-YEAR       0.95      0.93      0.94       244\n",
            "                O       0.93      0.96      0.95      7999\n",
            "\n",
            "         accuracy                           0.89     13070\n",
            "        macro avg       0.73      0.66      0.69     13070\n",
            "     weighted avg       0.88      0.89      0.89     13070\n",
            "\n"
          ],
          "name": "stdout"
        }
      ]
    },
    {
      "cell_type": "code",
      "metadata": {
        "id": "ILZJvzMegHnj"
      },
      "source": [
        ""
      ],
      "execution_count": null,
      "outputs": []
    },
    {
      "cell_type": "markdown",
      "metadata": {
        "id": "67JTUYCjg3UN"
      },
      "source": [
        "CRF model after hyper-parameters optimzation\n",
        "  - Hyper parameters:\n",
        "    - Training to select best regularisation parameter\n",
        "    - Cross validation fold (cv=3)\n",
        "    - n_iteration 50 so 150 fits in total (50*3)"
      ]
    },
    {
      "cell_type": "code",
      "metadata": {
        "colab": {
          "base_uri": "https://localhost:8080/"
        },
        "id": "zX0pTu1NhCTq",
        "outputId": "f69c959a-b744-42c6-93f2-227722bd97de"
      },
      "source": [
        "%%time\n",
        "# define function for hyper-parameter optimzation which includes fixed pararmeters and parameter to search for\n",
        "def RandomSerachCV(labels):\n",
        "  \"\"\"\n",
        "  Function for hyper-parameter optimzation.\n",
        "  Args:\n",
        "    Labels: list of target labels (without \"O\")\n",
        "  Returns:\n",
        "    Best hyper-parameter where model achieved the good results.\n",
        "  \"\"\"\n",
        "  crfParams = CRF(\n",
        "      # gradient descent using L-BFGS method\n",
        "      algorithm = 'lbfgs',\n",
        "      # maximum number of iteration for optimzation algorithm\n",
        "      max_iterations = 50,\n",
        "      # generates transition features that associate all of posible label pairs\n",
        "      all_possible_transitions=True, \n",
        "  )\n",
        "\n",
        "  # define regularisation parameters\n",
        "  paramSpace = {\n",
        "      # L1 regularisation\n",
        "      'c1': scipy.stats.expon(scale=0.5),\n",
        "      # L2 regularisation\n",
        "      'c2': scipy.stats.expon(scale=0.05),\n",
        "  }\n",
        "  # same for evaluation\n",
        "  f1_score = sklearn.metrics.make_scorer(sklearn_crfsuite.metrics.flat_f1_score, \n",
        "                                         average='weighted', \n",
        "                                         labels=labels)\n",
        "  # grid search for parameter\n",
        "  paramSearch = RandomizedSearchCV(crfParams,\n",
        "                                   paramSpace, \n",
        "                                   cv=3, \n",
        "                                   verbose=1,\n",
        "                                   n_jobs=-1, \n",
        "                                   n_iter=50,\n",
        "                                   scoring=f1_score)\n",
        "  return paramSearch\n",
        "\n",
        "# instantiate RandomSerachCV()\n",
        "parameterSearch = RandomSerachCV(labels =target_labels)\n",
        "# fit on training data\n",
        "parameterSearch.fit(x_train, y_train)\n",
        "\n",
        "# best parameter results found\n",
        "print(\"Best Parameters: \", parameterSearch.best_params_)\n",
        "print(\"Best CV Score: \", parameterSearch.best_score_)\n",
        "print(\"Model Size: {:0.2f}M\".format(parameterSearch.best_estimator_.size_ / 1000000))"
      ],
      "execution_count": 18,
      "outputs": [
        {
          "output_type": "stream",
          "text": [
            "Fitting 3 folds for each of 50 candidates, totalling 150 fits\n"
          ],
          "name": "stdout"
        },
        {
          "output_type": "stream",
          "text": [
            "[Parallel(n_jobs=-1)]: Using backend LokyBackend with 2 concurrent workers.\n",
            "[Parallel(n_jobs=-1)]: Done  46 tasks      | elapsed:  5.4min\n",
            "[Parallel(n_jobs=-1)]: Done 150 out of 150 | elapsed: 17.5min finished\n"
          ],
          "name": "stderr"
        },
        {
          "output_type": "stream",
          "text": [
            "Best Parameters:  {'c1': 0.1520143426563568, 'c2': 0.0691198648973362}\n",
            "Best CV Score:  0.7828193414233454\n",
            "Model Size: 1.00M\n",
            "CPU times: user 13min 22s, sys: 2.27 s, total: 13min 24s\n",
            "Wall time: 17min 37s\n"
          ],
          "name": "stdout"
        }
      ]
    },
    {
      "cell_type": "markdown",
      "metadata": {
        "id": "IiRrMc-3hpdK"
      },
      "source": [
        "Model prediction after optimization\n",
        "  - Performance metrics:\n",
        "    - F1-Score\n",
        "    - Performance per each class (classification report)"
      ]
    },
    {
      "cell_type": "code",
      "metadata": {
        "colab": {
          "base_uri": "https://localhost:8080/"
        },
        "id": "1mQMpbtxhlJY",
        "outputId": "1b11f3ff-1808-4d5a-99ef-0654eb641882"
      },
      "source": [
        "# model\n",
        "modelAfterOptimzation = parameterSearch.best_estimator_\n",
        "# call function - PerformancePerClass() function\n",
        "f1_Score, performanceByClass = PerformancePerClass(modelAfterOptimzation, x_test, y_test) #, target_labels)\n",
        "# display f1_score\n",
        "print(f\"F1 Score: {f1_Score:.2}\")\n",
        "print() # blank line\n",
        "# display Classification report\n",
        "print(\"----- Performance rates per Class --------:\\n\", performanceByClass)"
      ],
      "execution_count": 19,
      "outputs": [
        {
          "output_type": "stream",
          "text": [
            "F1 Score: 0.89\n",
            "\n",
            "----- Performance rates per Class --------:\n",
            "                    precision    recall  f1-score   support\n",
            "\n",
            "          B-ACTOR       0.85      0.89      0.87       390\n",
            "      B-CHARACTER       0.64      0.51      0.56        69\n",
            "       B-DIRECTOR       0.87      0.79      0.83       216\n",
            "          B-GENRE       0.91      0.90      0.91       542\n",
            "           B-PLOT       0.67      0.49      0.57       251\n",
            "         B-RATING       0.96      0.92      0.93       212\n",
            "B-RATINGS_AVERAGE       0.82      0.81      0.81       200\n",
            "         B-REVIEW       0.33      0.27      0.30        49\n",
            "           B-SONG       0.79      0.51      0.62        45\n",
            "          B-TITLE       0.74      0.74      0.74       419\n",
            "        B-TRAILER       0.86      0.83      0.84        23\n",
            "           B-YEAR       0.92      0.88      0.90       354\n",
            "          I-ACTOR       0.86      0.86      0.86       422\n",
            "      I-CHARACTER       0.60      0.41      0.48        59\n",
            "       I-DIRECTOR       0.85      0.81      0.83       220\n",
            "          I-GENRE       0.78      0.68      0.73       106\n",
            "           I-PLOT       0.52      0.38      0.44       217\n",
            "         I-RATING       0.90      0.84      0.87       105\n",
            "I-RATINGS_AVERAGE       0.75      0.81      0.78       166\n",
            "         I-REVIEW       0.15      0.15      0.15        20\n",
            "           I-SONG       0.79      0.60      0.68        82\n",
            "          I-TITLE       0.75      0.81      0.78       659\n",
            "        I-TRAILER       0.00      0.00      0.00         1\n",
            "           I-YEAR       0.94      0.93      0.93       244\n",
            "                O       0.94      0.96      0.95      7999\n",
            "\n",
            "         accuracy                           0.89     13070\n",
            "        macro avg       0.73      0.67      0.69     13070\n",
            "     weighted avg       0.89      0.89      0.89     13070\n",
            "\n"
          ],
          "name": "stdout"
        }
      ]
    },
    {
      "cell_type": "code",
      "metadata": {
        "id": "Y-mY8j1ix6cm"
      },
      "source": [
        ""
      ],
      "execution_count": null,
      "outputs": []
    },
    {
      "cell_type": "markdown",
      "metadata": {
        "id": "j62_TNX7x63q"
      },
      "source": [
        "# Bi-LSTM (Bidirectional-Long Short Term Memory)\n",
        "Understanding LSTM: https://colah.github.io/posts/2015-08-Understanding-LSTMs/\n",
        "\n",
        "# What is LSTM?\n",
        "LSTMs are the special kind of RNN, and capable of learning long term dependencies, and are explicitly designed to avoid the Long-Term dependencies means remembering information for long periods of time is practically their behaviour.\n",
        "\n",
        "LSTMs contains 4 interacting layers in which 3 for sigmoid and 1 of tanh layer as compared to the traditional RNN with 1 tanh layer.\n",
        "\n",
        "# Core Idea behind LSTM\n",
        "  - LSTM is the cell state, and does have the ability to remove or add information to the cell state carefully regulated by structure called \"Gates\". \n",
        "  - Gates are a way to optionally let information through. They are composed out of a Sigmoid neural network layer and pointwise multiplication operation.\n",
        "  - Sigmoid layer outputs number between 0 and 1, where 0 means \"let nothing through\", and 1 meansd \"let everything through\". \n",
        "  - LSTM has 3 gates to protect and control the cell state.\n",
        "\n",
        "# Main Steps in LSTM\n",
        "- The first step in LSTM is to decide what information we are going to throw away from the cell state. This decision is made by a \"Sigmoid layer called \"Forget Gate Layer\"\". This layer looks at the values between 0 and 1 for each number in cell state. \n",
        "- The next step is to decide what new information we are going to store in the cell state, which has 2 parts: \n",
        "  - Sigmoid layer called \"input gate layer\", decides which values we will update.\n",
        "  - Next \"tanh\" layer, creates vector of now candidate values, which might be added to the state.\n",
        "- So after that the process consists of: we run Sigmoid layer which decide what parts of the cell state we are going to output.\n",
        "- Then put the cell state through the \"tanh\" to push the values between -1 and 1, and multiplying it by the output of the Sigmoid Gate so that we only output the parts we decide to. \n",
        "\n",
        "For this assesment, I have used Bi-LSTM which is an extension of a traditional LSTM.\n",
        "\n",
        "Bi-LSTMs trains two instead of one LSTMs on the input sequence:\n",
        "  - First on the input sequence as-is as input to the first layer.\n",
        "  - Second on a reversed copy of the input sequence to the second layer.\n",
        "\n",
        "This can provide additional context to the network and result in faster and even fuller learing on the problem. The main use of providing the sequence Bi-LSTM was initially justified in the domain of Speech recoignition because there is evidence that the context of the whole utterance is used to interpret what is being sadi rather than a linear interpretation."
      ]
    },
    {
      "cell_type": "code",
      "metadata": {
        "colab": {
          "base_uri": "https://localhost:8080/"
        },
        "id": "SN7pD5XnyH7w",
        "outputId": "dc0d27df-fc24-4e36-8280-204f0593d0a6"
      },
      "source": [
        "# required packages\n",
        "# tensorflow\n",
        "import tensorflow as tf\n",
        "# version check\n",
        "print(\"tensorflow {}\".format(tf.__version__))\n",
        "# if GPU available\n",
        "print(\"GPU: \", tf.config.list_physical_devices(\"GPU\"))\n",
        "from tensorflow.keras.preprocessing.sequence import pad_sequences\n",
        "from tensorflow.keras.utils import to_categorical\n",
        "from tensorflow.keras import Model, Input\n",
        "from tensorflow.keras.layers import LSTM, Embedding, Dense\n",
        "from tensorflow.keras.layers import TimeDistributed, SpatialDropout1D, Bidirectional\n",
        "from tensorflow.keras.callbacks import ModelCheckpoint, EarlyStopping\n",
        "\n",
        "# livelossplot package - for live training loss\n",
        "!pip install livelossplot\n",
        "from livelossplot.tf_keras import PlotLossesCallback\n",
        "\n",
        "# scikit-learn\n",
        "from sklearn.model_selection import train_test_split"
      ],
      "execution_count": 20,
      "outputs": [
        {
          "output_type": "stream",
          "text": [
            "tensorflow 2.5.0\n",
            "GPU:  []\n",
            "Collecting livelossplot\n",
            "  Downloading https://files.pythonhosted.org/packages/57/26/840be243088ce142d61c60273408ec09fa1de4534056a56d6e91b73f0cae/livelossplot-0.5.4-py3-none-any.whl\n",
            "Requirement already satisfied: bokeh in /usr/local/lib/python3.7/dist-packages (from livelossplot) (2.3.2)\n",
            "Requirement already satisfied: ipython in /usr/local/lib/python3.7/dist-packages (from livelossplot) (5.5.0)\n",
            "Requirement already satisfied: matplotlib in /usr/local/lib/python3.7/dist-packages (from livelossplot) (3.2.2)\n",
            "Requirement already satisfied: numpy>=1.11.3 in /usr/local/lib/python3.7/dist-packages (from bokeh->livelossplot) (1.19.5)\n",
            "Requirement already satisfied: typing-extensions>=3.7.4 in /usr/local/lib/python3.7/dist-packages (from bokeh->livelossplot) (3.7.4.3)\n",
            "Requirement already satisfied: Jinja2>=2.9 in /usr/local/lib/python3.7/dist-packages (from bokeh->livelossplot) (2.11.3)\n",
            "Requirement already satisfied: python-dateutil>=2.1 in /usr/local/lib/python3.7/dist-packages (from bokeh->livelossplot) (2.8.1)\n",
            "Requirement already satisfied: packaging>=16.8 in /usr/local/lib/python3.7/dist-packages (from bokeh->livelossplot) (20.9)\n",
            "Requirement already satisfied: tornado>=5.1 in /usr/local/lib/python3.7/dist-packages (from bokeh->livelossplot) (5.1.1)\n",
            "Requirement already satisfied: PyYAML>=3.10 in /usr/local/lib/python3.7/dist-packages (from bokeh->livelossplot) (3.13)\n",
            "Requirement already satisfied: pillow>=7.1.0 in /usr/local/lib/python3.7/dist-packages (from bokeh->livelossplot) (7.1.2)\n",
            "Requirement already satisfied: traitlets>=4.2 in /usr/local/lib/python3.7/dist-packages (from ipython->livelossplot) (5.0.5)\n",
            "Requirement already satisfied: decorator in /usr/local/lib/python3.7/dist-packages (from ipython->livelossplot) (4.4.2)\n",
            "Requirement already satisfied: setuptools>=18.5 in /usr/local/lib/python3.7/dist-packages (from ipython->livelossplot) (57.0.0)\n",
            "Requirement already satisfied: simplegeneric>0.8 in /usr/local/lib/python3.7/dist-packages (from ipython->livelossplot) (0.8.1)\n",
            "Requirement already satisfied: prompt-toolkit<2.0.0,>=1.0.4 in /usr/local/lib/python3.7/dist-packages (from ipython->livelossplot) (1.0.18)\n",
            "Requirement already satisfied: pexpect; sys_platform != \"win32\" in /usr/local/lib/python3.7/dist-packages (from ipython->livelossplot) (4.8.0)\n",
            "Requirement already satisfied: pickleshare in /usr/local/lib/python3.7/dist-packages (from ipython->livelossplot) (0.7.5)\n",
            "Requirement already satisfied: pygments in /usr/local/lib/python3.7/dist-packages (from ipython->livelossplot) (2.6.1)\n",
            "Requirement already satisfied: cycler>=0.10 in /usr/local/lib/python3.7/dist-packages (from matplotlib->livelossplot) (0.10.0)\n",
            "Requirement already satisfied: kiwisolver>=1.0.1 in /usr/local/lib/python3.7/dist-packages (from matplotlib->livelossplot) (1.3.1)\n",
            "Requirement already satisfied: pyparsing!=2.0.4,!=2.1.2,!=2.1.6,>=2.0.1 in /usr/local/lib/python3.7/dist-packages (from matplotlib->livelossplot) (2.4.7)\n",
            "Requirement already satisfied: MarkupSafe>=0.23 in /usr/local/lib/python3.7/dist-packages (from Jinja2>=2.9->bokeh->livelossplot) (2.0.1)\n",
            "Requirement already satisfied: six>=1.5 in /usr/local/lib/python3.7/dist-packages (from python-dateutil>=2.1->bokeh->livelossplot) (1.15.0)\n",
            "Requirement already satisfied: ipython-genutils in /usr/local/lib/python3.7/dist-packages (from traitlets>=4.2->ipython->livelossplot) (0.2.0)\n",
            "Requirement already satisfied: wcwidth in /usr/local/lib/python3.7/dist-packages (from prompt-toolkit<2.0.0,>=1.0.4->ipython->livelossplot) (0.2.5)\n",
            "Requirement already satisfied: ptyprocess>=0.5 in /usr/local/lib/python3.7/dist-packages (from pexpect; sys_platform != \"win32\"->ipython->livelossplot) (0.7.0)\n",
            "Installing collected packages: livelossplot\n",
            "Successfully installed livelossplot-0.5.4\n"
          ],
          "name": "stdout"
        }
      ]
    },
    {
      "cell_type": "markdown",
      "metadata": {
        "id": "Kpwyq0NcO6TZ"
      },
      "source": [
        "# Data (same data used for CRF model)"
      ]
    },
    {
      "cell_type": "code",
      "metadata": {
        "id": "7cYsT8_ME-4T",
        "colab": {
          "base_uri": "https://localhost:8080/"
        },
        "outputId": "ecc52415-7b35-4adf-a782-dbacdba8a035"
      },
      "source": [
        "print(movieData.head())\n",
        "print() # blank line\n",
        "print(\"Data shape {0}\".format(movieData.shape))\n",
        "print(\"Unique sentences count: \", movieData['words'].nunique())\n",
        "print(\"Unique named entity tags count: \", movieData['entity_tags'].nunique())"
      ],
      "execution_count": 21,
      "outputs": [
        {
          "output_type": "stream",
          "text": [
            "     sentences     words pos_tags entity_tags\n",
            "0  sentence: 1       are      VBP           O\n",
            "1  sentence: 1     there       RB           O\n",
            "2  sentence: 1       any       DT           O\n",
            "3  sentence: 1      good       JJ           O\n",
            "4  sentence: 1  romantic       JJ     B-GENRE\n",
            "\n",
            "Data shape (43408, 4)\n",
            "Unique sentences count:  4463\n",
            "Unique named entity tags count:  25\n"
          ],
          "name": "stdout"
        }
      ]
    },
    {
      "cell_type": "markdown",
      "metadata": {
        "id": "-5YeW3o6PENm"
      },
      "source": [
        "# Sentence Corpus (Same Corpus that was used in CRF model)"
      ]
    },
    {
      "cell_type": "code",
      "metadata": {
        "id": "bLlFweNlE-1I",
        "colab": {
          "base_uri": "https://localhost:8080/"
        },
        "outputId": "4f981c26-4b60-423a-a640-09613ff1c6a6"
      },
      "source": [
        "SentenceCorpus[0]"
      ],
      "execution_count": 22,
      "outputs": [
        {
          "output_type": "execute_result",
          "data": {
            "text/plain": [
              "[('are', 'VBP', 'O'),\n",
              " ('there', 'RB', 'O'),\n",
              " ('any', 'DT', 'O'),\n",
              " ('good', 'JJ', 'O'),\n",
              " ('romantic', 'JJ', 'B-GENRE'),\n",
              " ('comedies', 'NNS', 'I-GENRE'),\n",
              " ('out', 'RP', 'O'),\n",
              " ('right', 'RB', 'B-YEAR'),\n",
              " ('now', 'RB', 'I-YEAR')]"
            ]
          },
          "metadata": {
            "tags": []
          },
          "execution_count": 22
        }
      ]
    },
    {
      "cell_type": "markdown",
      "metadata": {
        "id": "hDUFuVYSPa0G"
      },
      "source": [
        "# Define Hyper-parameters for Bi-LSTM\n",
        "  - max_length: maximum length of sentence in corpus\n",
        "  - embedding_dim: dimension of embedding\n",
        "  - num_epochs: number of epochs\n",
        "  - batch_size: number of batch for trails error\n",
        "  - trunc_type: put dimension into same size (if not replacing by 0)\n",
        "  - padding_type: pad dimension into same size (if not replcaed by 0)"
      ]
    },
    {
      "cell_type": "code",
      "metadata": {
        "id": "6-OAILfqE-yj",
        "colab": {
          "base_uri": "https://localhost:8080/"
        },
        "outputId": "6b03bd0b-5981-45e4-a2a4-5ed7a187a7de"
      },
      "source": [
        "# max_length - maximum length of sequence in corpus\n",
        "max_length = max([len(sentence) for sentence in SentenceCorpus])\n",
        "print(\"Maximum length of sequence in Corpus: \", max_length)\n",
        "# define input_dim\n",
        "input_dimension = list(set(movieData['words'].values))\n",
        "# append with padding to the end\n",
        "input_dimension.append(\"ENDPAD\")\n",
        "print(\"Input dimension: \", len(input_dimension))\n",
        "# number of classes\n",
        "num_classes = len(list(set(movieData['entity_tags'])))\n",
        "print(\"Number of classes for flatten layer: \", num_classes)\n",
        "# embedding_dim = 200 # recommended value\n",
        "# padding and truncating type -- imp paper: https://arxiv.org/pdf/1903.07288.pdf\n",
        "trunc_type = \"post\"\n",
        "padding_type = \"post\""
      ],
      "execution_count": 23,
      "outputs": [
        {
          "output_type": "stream",
          "text": [
            "Maximum length of sequence in Corpus:  38\n",
            "Input dimension:  4464\n",
            "Number of classes for flatten layer:  25\n"
          ],
          "name": "stdout"
        }
      ]
    },
    {
      "cell_type": "markdown",
      "metadata": {
        "id": "-Blh3svVQ2hZ"
      },
      "source": [
        "# Data Preprocessing for Bi-LSTM\n",
        "  - Define list of unique words and tags [for hyper-parameter reference if required]\n",
        "  - Get the input and target features\n",
        "  - Split data into training and test sets"
      ]
    },
    {
      "cell_type": "markdown",
      "metadata": {
        "id": "NTC6tGpTRikO"
      },
      "source": [
        "Define list of unique words and tags for hyper-parameter reference"
      ]
    },
    {
      "cell_type": "code",
      "metadata": {
        "id": "JnYtAq88E-v1",
        "colab": {
          "base_uri": "https://localhost:8080/"
        },
        "outputId": "1384fdeb-8e57-42a0-a568-d26025c2835e"
      },
      "source": [
        "# Creating lists of Unique words and tags\n",
        "words = list(set(movieData['words'].values))\n",
        "# append list with padding at the end\n",
        "words.append(\"ENDPAD\")\n",
        "# store len of words_list into a variable\n",
        "num_words = len(words)\n",
        "# unique tags that we have\n",
        "tags = list(set(movieData['entity_tags'].values))\n",
        "# store len of tags list into a variable\n",
        "num_tags = len(tags)\n",
        "# display appended words and tags\n",
        "num_words, num_tags"
      ],
      "execution_count": 24,
      "outputs": [
        {
          "output_type": "execute_result",
          "data": {
            "text/plain": [
              "(4464, 25)"
            ]
          },
          "metadata": {
            "tags": []
          },
          "execution_count": 24
        }
      ]
    },
    {
      "cell_type": "markdown",
      "metadata": {
        "id": "2UOFdZh7RaLV"
      },
      "source": [
        "Get an Input and Target features"
      ]
    },
    {
      "cell_type": "code",
      "metadata": {
        "colab": {
          "base_uri": "https://localhost:8080/"
        },
        "id": "hMOLhmjoRV1O",
        "outputId": "3412eb3a-fadb-47f8-a3a8-638c6d5f4e5a"
      },
      "source": [
        "# functio to define mapping between sentences and entity tags - get the input and target \n",
        "def processData(Data, Corpus):\n",
        "  # define the list of unique words\n",
        "  texts = list(set(Data['words'].values))\n",
        "  # define the list of unique tags\n",
        "  tags = list(set(Data['entity_tags'].values))\n",
        "  # get words and tags by index\n",
        "  word_index = {word:index+1 for index, word in enumerate(texts)}\n",
        "  tags_index = {tag:index for index, tag in enumerate(tags)}\n",
        "  # get the input and target feature out from SentenceCorpus\n",
        "  inputFeatures = [[word_index[word[0]] for word in sentence] for sentence in Corpus] # 0 index for sentence in SentenceCorpus\n",
        "  targetFeatures = [[tags_index[word[2]] for word in sentence] for sentence in Corpus] # 2 index for tags in SentenceCorpus\n",
        "  # define padding\n",
        "  inputs = pad_sequences(inputFeatures, padding = padding_type, maxlen=max_length, truncating=trunc_type, value=len(texts)-1)\n",
        "  target = pad_sequences(targetFeatures, padding = padding_type, maxlen=max_length, truncating=trunc_type, value=tags_index[\"O\"])\n",
        "  # convert target feature into categorical feature\n",
        "  target = [to_categorical(index, num_classes=num_classes) for index in target]\n",
        "\n",
        "  # return input and target features\n",
        "  return inputs, target\n",
        "\n",
        "# call processData()\n",
        "X, y = processData(movieData, SentenceCorpus)\n",
        "# display input faeture\n",
        "print(\"Input features after processing:\\n \", X[1])\n",
        "print() # blank line\n",
        "# display target feature\n",
        "print(\"Target feature after processing:\\n \", y[1])"
      ],
      "execution_count": 25,
      "outputs": [
        {
          "output_type": "stream",
          "text": [
            "Input features after processing:\n",
            "  [3778  152 1711  533 3969 1723 4191 1365 2022 4462 4462 4462 4462 4462\n",
            " 4462 4462 4462 4462 4462 4462 4462 4462 4462 4462 4462 4462 4462 4462\n",
            " 4462 4462 4462 4462 4462 4462 4462 4462 4462 4462]\n",
            "\n",
            "Target feature after processing:\n",
            "  [[0. 0. 0. 0. 0. 0. 0. 0. 0. 0. 0. 0. 0. 0. 0. 0. 0. 0. 0. 1. 0. 0. 0. 0.\n",
            "  0.]\n",
            " [0. 0. 0. 0. 0. 0. 0. 0. 0. 0. 0. 0. 0. 0. 0. 0. 0. 0. 0. 1. 0. 0. 0. 0.\n",
            "  0.]\n",
            " [0. 0. 0. 0. 0. 0. 0. 0. 0. 0. 0. 0. 0. 0. 0. 0. 0. 0. 0. 1. 0. 0. 0. 0.\n",
            "  0.]\n",
            " [0. 0. 0. 0. 0. 0. 0. 0. 0. 0. 0. 0. 0. 0. 0. 0. 0. 0. 0. 1. 0. 0. 0. 0.\n",
            "  0.]\n",
            " [0. 0. 1. 0. 0. 0. 0. 0. 0. 0. 0. 0. 0. 0. 0. 0. 0. 0. 0. 0. 0. 0. 0. 0.\n",
            "  0.]\n",
            " [0. 0. 0. 0. 0. 0. 0. 0. 0. 0. 0. 0. 0. 0. 0. 0. 0. 0. 0. 1. 0. 0. 0. 0.\n",
            "  0.]\n",
            " [0. 0. 0. 0. 0. 0. 0. 0. 0. 0. 0. 0. 0. 0. 0. 0. 0. 0. 0. 1. 0. 0. 0. 0.\n",
            "  0.]\n",
            " [0. 0. 0. 0. 0. 0. 0. 0. 0. 0. 0. 0. 0. 0. 0. 0. 0. 1. 0. 0. 0. 0. 0. 0.\n",
            "  0.]\n",
            " [0. 0. 0. 0. 0. 0. 0. 0. 0. 0. 0. 0. 0. 0. 0. 0. 0. 0. 0. 0. 1. 0. 0. 0.\n",
            "  0.]\n",
            " [0. 0. 0. 0. 0. 0. 0. 0. 0. 0. 0. 0. 0. 0. 0. 0. 0. 0. 0. 1. 0. 0. 0. 0.\n",
            "  0.]\n",
            " [0. 0. 0. 0. 0. 0. 0. 0. 0. 0. 0. 0. 0. 0. 0. 0. 0. 0. 0. 1. 0. 0. 0. 0.\n",
            "  0.]\n",
            " [0. 0. 0. 0. 0. 0. 0. 0. 0. 0. 0. 0. 0. 0. 0. 0. 0. 0. 0. 1. 0. 0. 0. 0.\n",
            "  0.]\n",
            " [0. 0. 0. 0. 0. 0. 0. 0. 0. 0. 0. 0. 0. 0. 0. 0. 0. 0. 0. 1. 0. 0. 0. 0.\n",
            "  0.]\n",
            " [0. 0. 0. 0. 0. 0. 0. 0. 0. 0. 0. 0. 0. 0. 0. 0. 0. 0. 0. 1. 0. 0. 0. 0.\n",
            "  0.]\n",
            " [0. 0. 0. 0. 0. 0. 0. 0. 0. 0. 0. 0. 0. 0. 0. 0. 0. 0. 0. 1. 0. 0. 0. 0.\n",
            "  0.]\n",
            " [0. 0. 0. 0. 0. 0. 0. 0. 0. 0. 0. 0. 0. 0. 0. 0. 0. 0. 0. 1. 0. 0. 0. 0.\n",
            "  0.]\n",
            " [0. 0. 0. 0. 0. 0. 0. 0. 0. 0. 0. 0. 0. 0. 0. 0. 0. 0. 0. 1. 0. 0. 0. 0.\n",
            "  0.]\n",
            " [0. 0. 0. 0. 0. 0. 0. 0. 0. 0. 0. 0. 0. 0. 0. 0. 0. 0. 0. 1. 0. 0. 0. 0.\n",
            "  0.]\n",
            " [0. 0. 0. 0. 0. 0. 0. 0. 0. 0. 0. 0. 0. 0. 0. 0. 0. 0. 0. 1. 0. 0. 0. 0.\n",
            "  0.]\n",
            " [0. 0. 0. 0. 0. 0. 0. 0. 0. 0. 0. 0. 0. 0. 0. 0. 0. 0. 0. 1. 0. 0. 0. 0.\n",
            "  0.]\n",
            " [0. 0. 0. 0. 0. 0. 0. 0. 0. 0. 0. 0. 0. 0. 0. 0. 0. 0. 0. 1. 0. 0. 0. 0.\n",
            "  0.]\n",
            " [0. 0. 0. 0. 0. 0. 0. 0. 0. 0. 0. 0. 0. 0. 0. 0. 0. 0. 0. 1. 0. 0. 0. 0.\n",
            "  0.]\n",
            " [0. 0. 0. 0. 0. 0. 0. 0. 0. 0. 0. 0. 0. 0. 0. 0. 0. 0. 0. 1. 0. 0. 0. 0.\n",
            "  0.]\n",
            " [0. 0. 0. 0. 0. 0. 0. 0. 0. 0. 0. 0. 0. 0. 0. 0. 0. 0. 0. 1. 0. 0. 0. 0.\n",
            "  0.]\n",
            " [0. 0. 0. 0. 0. 0. 0. 0. 0. 0. 0. 0. 0. 0. 0. 0. 0. 0. 0. 1. 0. 0. 0. 0.\n",
            "  0.]\n",
            " [0. 0. 0. 0. 0. 0. 0. 0. 0. 0. 0. 0. 0. 0. 0. 0. 0. 0. 0. 1. 0. 0. 0. 0.\n",
            "  0.]\n",
            " [0. 0. 0. 0. 0. 0. 0. 0. 0. 0. 0. 0. 0. 0. 0. 0. 0. 0. 0. 1. 0. 0. 0. 0.\n",
            "  0.]\n",
            " [0. 0. 0. 0. 0. 0. 0. 0. 0. 0. 0. 0. 0. 0. 0. 0. 0. 0. 0. 1. 0. 0. 0. 0.\n",
            "  0.]\n",
            " [0. 0. 0. 0. 0. 0. 0. 0. 0. 0. 0. 0. 0. 0. 0. 0. 0. 0. 0. 1. 0. 0. 0. 0.\n",
            "  0.]\n",
            " [0. 0. 0. 0. 0. 0. 0. 0. 0. 0. 0. 0. 0. 0. 0. 0. 0. 0. 0. 1. 0. 0. 0. 0.\n",
            "  0.]\n",
            " [0. 0. 0. 0. 0. 0. 0. 0. 0. 0. 0. 0. 0. 0. 0. 0. 0. 0. 0. 1. 0. 0. 0. 0.\n",
            "  0.]\n",
            " [0. 0. 0. 0. 0. 0. 0. 0. 0. 0. 0. 0. 0. 0. 0. 0. 0. 0. 0. 1. 0. 0. 0. 0.\n",
            "  0.]\n",
            " [0. 0. 0. 0. 0. 0. 0. 0. 0. 0. 0. 0. 0. 0. 0. 0. 0. 0. 0. 1. 0. 0. 0. 0.\n",
            "  0.]\n",
            " [0. 0. 0. 0. 0. 0. 0. 0. 0. 0. 0. 0. 0. 0. 0. 0. 0. 0. 0. 1. 0. 0. 0. 0.\n",
            "  0.]\n",
            " [0. 0. 0. 0. 0. 0. 0. 0. 0. 0. 0. 0. 0. 0. 0. 0. 0. 0. 0. 1. 0. 0. 0. 0.\n",
            "  0.]\n",
            " [0. 0. 0. 0. 0. 0. 0. 0. 0. 0. 0. 0. 0. 0. 0. 0. 0. 0. 0. 1. 0. 0. 0. 0.\n",
            "  0.]\n",
            " [0. 0. 0. 0. 0. 0. 0. 0. 0. 0. 0. 0. 0. 0. 0. 0. 0. 0. 0. 1. 0. 0. 0. 0.\n",
            "  0.]\n",
            " [0. 0. 0. 0. 0. 0. 0. 0. 0. 0. 0. 0. 0. 0. 0. 0. 0. 0. 0. 1. 0. 0. 0. 0.\n",
            "  0.]]\n"
          ],
          "name": "stdout"
        }
      ]
    },
    {
      "cell_type": "markdown",
      "metadata": {
        "id": "VQ4oMacnSL7B"
      },
      "source": [
        "Data split data between train/test sets\n",
        "  - 80:20"
      ]
    },
    {
      "cell_type": "code",
      "metadata": {
        "colab": {
          "base_uri": "https://localhost:8080/"
        },
        "id": "i7Y2ls1ZSQ2m",
        "outputId": "d79bf0e8-1a65-45d6-a424-9210760d8122"
      },
      "source": [
        "x_train, x_test, y_train, y_test = train_test_split(X, y, test_size=0.2, random_state=42)\n",
        "print(\"x_train: \", x_train.shape)\n",
        "print(\"y_train: \", len(y_train))\n",
        "print(\"x_test: \", x_test.shape)\n",
        "print(\"y_test: \", len(y_test)) "
      ],
      "execution_count": 26,
      "outputs": [
        {
          "output_type": "stream",
          "text": [
            "x_train:  (3714, 38)\n",
            "y_train:  3714\n",
            "x_test:  (929, 38)\n",
            "y_test:  929\n"
          ],
          "name": "stdout"
        }
      ]
    },
    {
      "cell_type": "markdown",
      "metadata": {
        "id": "0BYablqQSe01"
      },
      "source": [
        "# Build Bi-LSTM\n",
        "- Using pre-defined hyper-parameters for Bi-LSTM\n",
        "\n",
        "- Bidirectional layer\n",
        "  - Units: (128) number of neurons\n",
        "  - return_sequence: (True) means return sequence rather than single values\n",
        "  - recurrent_dropout: regularisation for bi-lstm layer to prevent from overfitting\n",
        "\n",
        "- TimeDistributed: as the layer wrapper which allows us to apply a layer to every temporal slice of an input. Or in simple words, it applies a same Dense (fully conected) operation to every timestamp of a 3D tensor."
      ]
    },
    {
      "cell_type": "code",
      "metadata": {
        "colab": {
          "base_uri": "https://localhost:8080/"
        },
        "id": "td-Yw6p6SoZ4",
        "outputId": "22581a8b-7f36-44b3-9e01-b4f6c743ac14"
      },
      "source": [
        "# define fucntion to build the Bidirectional model\n",
        "def BiLSTM():\n",
        "  \"\"\"\n",
        "  Function to build Bidirectional LSTM model.\n",
        "  \"\"\"\n",
        "  # define input layer\n",
        "  input_words = Input(shape=(max_length, ))\n",
        "  # define word embedding layer\n",
        "  model = Embedding(input_dim=len(input_dimension), output_dim=max_length, input_length=max_length)(input_words)\n",
        "  # apply dropout layer - drops entire 1D feature maps instead of individual elements\n",
        "  model = SpatialDropout1D(0.1)(model)\n",
        "  # define Bidirectional layer\n",
        "  model = Bidirectional(LSTM(units=128, return_sequences=True, recurrent_dropout=0.1))(model)\n",
        "  # define output layer\n",
        "  output = TimeDistributed(Dense(num_classes, activation='softmax'))(model)\n",
        "  # define Keras model\n",
        "  model = Model(input_words, output)\n",
        "  # return model\n",
        "  return model\n",
        "\n",
        "# Instantiate model\n",
        "model = BiLSTM()\n",
        "# model summary\n",
        "model.summary()"
      ],
      "execution_count": 27,
      "outputs": [
        {
          "output_type": "stream",
          "text": [
            "Model: \"model\"\n",
            "_________________________________________________________________\n",
            "Layer (type)                 Output Shape              Param #   \n",
            "=================================================================\n",
            "input_1 (InputLayer)         [(None, 38)]              0         \n",
            "_________________________________________________________________\n",
            "embedding (Embedding)        (None, 38, 38)            169632    \n",
            "_________________________________________________________________\n",
            "spatial_dropout1d (SpatialDr (None, 38, 38)            0         \n",
            "_________________________________________________________________\n",
            "bidirectional (Bidirectional (None, 38, 256)           171008    \n",
            "_________________________________________________________________\n",
            "time_distributed (TimeDistri (None, 38, 25)            6425      \n",
            "=================================================================\n",
            "Total params: 347,065\n",
            "Trainable params: 347,065\n",
            "Non-trainable params: 0\n",
            "_________________________________________________________________\n"
          ],
          "name": "stdout"
        }
      ]
    },
    {
      "cell_type": "markdown",
      "metadata": {
        "id": "VnvKAMgDStv6"
      },
      "source": [
        "Model Architect"
      ]
    },
    {
      "cell_type": "code",
      "metadata": {
        "colab": {
          "base_uri": "https://localhost:8080/",
          "height": 551
        },
        "id": "dNdhTCO7Sw1_",
        "outputId": "cb74f090-bf75-4a45-bc60-2ba0bc6b28e9"
      },
      "source": [
        "from tensorflow.keras.utils import plot_model\n",
        "print(\"Defined Bi-LSTM architect:->\")\n",
        "plot_model(model, to_file='model_plot.png', show_shapes=True, show_layer_names=True)"
      ],
      "execution_count": 28,
      "outputs": [
        {
          "output_type": "stream",
          "text": [
            "Defined Bi-LSTM architect:->\n"
          ],
          "name": "stdout"
        },
        {
          "output_type": "execute_result",
          "data": {
            "image/png": "[encoded data removed]",
            "text/plain": [
              "<IPython.core.display.Image object>"
            ]
          },
          "metadata": {
            "tags": []
          },
          "execution_count": 28
        }
      ]
    },
    {
      "cell_type": "markdown",
      "metadata": {
        "id": "2aldnOQrS1KI"
      },
      "source": [
        "# Training Model\n",
        "- Optimization algorithm: Adam (calculates an exponential moving average of the gradient and squared gradient.)\n",
        "- Loss function: categorical_crossentropy (for multi-class classification) \n",
        "- Metrics: Accuracy (% of examples correctly classified)\n",
        "- Validation split of 80:20\n",
        "- Number of Epochs: 10\n",
        "- Batch size: 20"
      ]
    },
    {
      "cell_type": "code",
      "metadata": {
        "colab": {
          "base_uri": "https://localhost:8080/",
          "height": 959
        },
        "id": "VcVqQVjOTWKv",
        "outputId": "5778ea6e-9bf2-40f9-a430-aa489b4657cd"
      },
      "source": [
        "# function to compile and fit the model\n",
        "def trainModel(model, num_epochs=10, batch_size=32):\n",
        "  \"\"\"\n",
        "  Function to train model.\n",
        "  Args:\n",
        "      model: Bi-LSTM (define model)\n",
        "      epochs (integer value)\n",
        "      batch size (integer value)\n",
        "  Returns: \n",
        "      Model History: Trained model history\n",
        "  \"\"\"\n",
        "  # compile model - default learning rate of 0.5 for Adam optimizers\n",
        "  model.compile(optimizer='adam', loss='categorical_crossentropy', metrics=['accuracy'])\n",
        "  # define earlystopping\n",
        "  earlyStopping = EarlyStopping(monitor='val_accuracy', patience=1, verbose=0, mode='max', restore_best_weights=False)\n",
        "  # define callback\n",
        "  callbacks = [PlotLossesCallback(), earlyStopping]\n",
        "  # fit model\n",
        "  history = model.fit(\n",
        "      x_train,\n",
        "      np.array(y_train), \n",
        "      validation_split=0.2,\n",
        "      batch_size=batch_size,\n",
        "      epochs=num_epochs,\n",
        "      verbose=1,\n",
        "      callbacks = callbacks\n",
        "  )\n",
        "  # return history \n",
        "  return history.history\n",
        "\n",
        "# instantiate function\n",
        "history = trainModel(model)\n",
        "history"
      ],
      "execution_count": 29,
      "outputs": [
        {
          "output_type": "display_data",
          "data": {
            "text/plain": [
              "<Figure size 864x576 with 2 Axes>"
            ],
            "image/svg+xml": "<?xml version=\"1.0\" encoding=\"utf-8\" standalone=\"no\"?>\n<!DOCTYPE svg PUBLIC \"-//W3C//DTD SVG 1.1//EN\"\n  \"http://www.w3.org/Graphics/SVG/1.1/DTD/svg11.dtd\">\n<!-- Created with matplotlib (https://matplotlib.org/) -->\n<svg height=\"567.177812pt\" version=\"1.1\" viewBox=\"0 0 856.915937 567.177812\" width=\"856.915937pt\" xmlns=\"http://www.w3.org/2000/svg\" xmlns:xlink=\"http://www.w3.org/1999/xlink\">\n <defs>\n  <style type=\"text/css\">\n*{stroke-linecap:butt;stroke-linejoin:round;}\n  </style>\n </defs>\n <g id=\"figure_1\">\n  <g id=\"patch_1\">\n   <path d=\"M -0 567.177812 \nL 856.915937 567.177812 \nL 856.915937 0 \nL -0 0 \nz\n\" style=\"fill:none;\"/>\n  </g>\n  <g id=\"axes_1\">\n   <g id=\"patch_2\">\n    <path d=\"M 48.190938 524.218125 \nL 426.615938 524.218125 \nL 426.615938 22.318125 \nL 48.190938 22.318125 \nz\n\" style=\"fill:#eaeaf2;\"/>\n   </g>\n   <g id=\"matplotlib.axis_1\">\n    <g id=\"xtick_1\">\n     <g id=\"line2d_1\">\n      <path clip-path=\"url(#p8682b637ca)\" d=\"M 65.392074 524.218125 \nL 65.392074 22.318125 \n\" style=\"fill:none;stroke:#ffffff;stroke-linecap:round;\"/>\n     </g>\n     <g id=\"text_1\">\n      <!-- 0.0 -->\n      <defs>\n       <path d=\"M 31.78125 66.40625 \nQ 24.171875 66.40625 20.328125 58.90625 \nQ 16.5 51.421875 16.5 36.375 \nQ 16.5 21.390625 20.328125 13.890625 \nQ 24.171875 6.390625 31.78125 6.390625 \nQ 39.453125 6.390625 43.28125 13.890625 \nQ 47.125 21.390625 47.125 36.375 \nQ 47.125 51.421875 43.28125 58.90625 \nQ 39.453125 66.40625 31.78125 66.40625 \nz\nM 31.78125 74.21875 \nQ 44.046875 74.21875 50.515625 64.515625 \nQ 56.984375 54.828125 56.984375 36.375 \nQ 56.984375 17.96875 50.515625 8.265625 \nQ 44.046875 -1.421875 31.78125 -1.421875 \nQ 19.53125 -1.421875 13.0625 8.265625 \nQ 6.59375 17.96875 6.59375 36.375 \nQ 6.59375 54.828125 13.0625 64.515625 \nQ 19.53125 74.21875 31.78125 74.21875 \nz\n\" id=\"DejaVuSans-48\"/>\n       <path d=\"M 10.6875 12.40625 \nL 21 12.40625 \nL 21 0 \nL 10.6875 0 \nz\n\" id=\"DejaVuSans-46\"/>\n      </defs>\n      <g style=\"fill:#262626;\" transform=\"translate(56.645355 542.076406)scale(0.11 -0.11)\">\n       <use xlink:href=\"#DejaVuSans-48\"/>\n       <use x=\"63.623047\" xlink:href=\"#DejaVuSans-46\"/>\n       <use x=\"95.410156\" xlink:href=\"#DejaVuSans-48\"/>\n      </g>\n     </g>\n    </g>\n    <g id=\"xtick_2\">\n     <g id=\"line2d_2\">\n      <path clip-path=\"url(#p8682b637ca)\" d=\"M 134.196619 524.218125 \nL 134.196619 22.318125 \n\" style=\"fill:none;stroke:#ffffff;stroke-linecap:round;\"/>\n     </g>\n     <g id=\"text_2\">\n      <!-- 0.2 -->\n      <defs>\n       <path d=\"M 19.1875 8.296875 \nL 53.609375 8.296875 \nL 53.609375 0 \nL 7.328125 0 \nL 7.328125 8.296875 \nQ 12.9375 14.109375 22.625 23.890625 \nQ 32.328125 33.6875 34.8125 36.53125 \nQ 39.546875 41.84375 41.421875 45.53125 \nQ 43.3125 49.21875 43.3125 52.78125 \nQ 43.3125 58.59375 39.234375 62.25 \nQ 35.15625 65.921875 28.609375 65.921875 \nQ 23.96875 65.921875 18.8125 64.3125 \nQ 13.671875 62.703125 7.8125 59.421875 \nL 7.8125 69.390625 \nQ 13.765625 71.78125 18.9375 73 \nQ 24.125 74.21875 28.421875 74.21875 \nQ 39.75 74.21875 46.484375 68.546875 \nQ 53.21875 62.890625 53.21875 53.421875 \nQ 53.21875 48.921875 51.53125 44.890625 \nQ 49.859375 40.875 45.40625 35.40625 \nQ 44.1875 33.984375 37.640625 27.21875 \nQ 31.109375 20.453125 19.1875 8.296875 \nz\n\" id=\"DejaVuSans-50\"/>\n      </defs>\n      <g style=\"fill:#262626;\" transform=\"translate(125.449901 542.076406)scale(0.11 -0.11)\">\n       <use xlink:href=\"#DejaVuSans-48\"/>\n       <use x=\"63.623047\" xlink:href=\"#DejaVuSans-46\"/>\n       <use x=\"95.410156\" xlink:href=\"#DejaVuSans-50\"/>\n      </g>\n     </g>\n    </g>\n    <g id=\"xtick_3\">\n     <g id=\"line2d_3\">\n      <path clip-path=\"url(#p8682b637ca)\" d=\"M 203.001165 524.218125 \nL 203.001165 22.318125 \n\" style=\"fill:none;stroke:#ffffff;stroke-linecap:round;\"/>\n     </g>\n     <g id=\"text_3\">\n      <!-- 0.4 -->\n      <defs>\n       <path d=\"M 37.796875 64.3125 \nL 12.890625 25.390625 \nL 37.796875 25.390625 \nz\nM 35.203125 72.90625 \nL 47.609375 72.90625 \nL 47.609375 25.390625 \nL 58.015625 25.390625 \nL 58.015625 17.1875 \nL 47.609375 17.1875 \nL 47.609375 0 \nL 37.796875 0 \nL 37.796875 17.1875 \nL 4.890625 17.1875 \nL 4.890625 26.703125 \nz\n\" id=\"DejaVuSans-52\"/>\n      </defs>\n      <g style=\"fill:#262626;\" transform=\"translate(194.254446 542.076406)scale(0.11 -0.11)\">\n       <use xlink:href=\"#DejaVuSans-48\"/>\n       <use x=\"63.623047\" xlink:href=\"#DejaVuSans-46\"/>\n       <use x=\"95.410156\" xlink:href=\"#DejaVuSans-52\"/>\n      </g>\n     </g>\n    </g>\n    <g id=\"xtick_4\">\n     <g id=\"line2d_4\">\n      <path clip-path=\"url(#p8682b637ca)\" d=\"M 271.80571 524.218125 \nL 271.80571 22.318125 \n\" style=\"fill:none;stroke:#ffffff;stroke-linecap:round;\"/>\n     </g>\n     <g id=\"text_4\">\n      <!-- 0.6 -->\n      <defs>\n       <path d=\"M 33.015625 40.375 \nQ 26.375 40.375 22.484375 35.828125 \nQ 18.609375 31.296875 18.609375 23.390625 \nQ 18.609375 15.53125 22.484375 10.953125 \nQ 26.375 6.390625 33.015625 6.390625 \nQ 39.65625 6.390625 43.53125 10.953125 \nQ 47.40625 15.53125 47.40625 23.390625 \nQ 47.40625 31.296875 43.53125 35.828125 \nQ 39.65625 40.375 33.015625 40.375 \nz\nM 52.59375 71.296875 \nL 52.59375 62.3125 \nQ 48.875 64.0625 45.09375 64.984375 \nQ 41.3125 65.921875 37.59375 65.921875 \nQ 27.828125 65.921875 22.671875 59.328125 \nQ 17.53125 52.734375 16.796875 39.40625 \nQ 19.671875 43.65625 24.015625 45.921875 \nQ 28.375 48.1875 33.59375 48.1875 \nQ 44.578125 48.1875 50.953125 41.515625 \nQ 57.328125 34.859375 57.328125 23.390625 \nQ 57.328125 12.15625 50.6875 5.359375 \nQ 44.046875 -1.421875 33.015625 -1.421875 \nQ 20.359375 -1.421875 13.671875 8.265625 \nQ 6.984375 17.96875 6.984375 36.375 \nQ 6.984375 53.65625 15.1875 63.9375 \nQ 23.390625 74.21875 37.203125 74.21875 \nQ 40.921875 74.21875 44.703125 73.484375 \nQ 48.484375 72.75 52.59375 71.296875 \nz\n\" id=\"DejaVuSans-54\"/>\n      </defs>\n      <g style=\"fill:#262626;\" transform=\"translate(263.058991 542.076406)scale(0.11 -0.11)\">\n       <use xlink:href=\"#DejaVuSans-48\"/>\n       <use x=\"63.623047\" xlink:href=\"#DejaVuSans-46\"/>\n       <use x=\"95.410156\" xlink:href=\"#DejaVuSans-54\"/>\n      </g>\n     </g>\n    </g>\n    <g id=\"xtick_5\">\n     <g id=\"line2d_5\">\n      <path clip-path=\"url(#p8682b637ca)\" d=\"M 340.610256 524.218125 \nL 340.610256 22.318125 \n\" style=\"fill:none;stroke:#ffffff;stroke-linecap:round;\"/>\n     </g>\n     <g id=\"text_5\">\n      <!-- 0.8 -->\n      <defs>\n       <path d=\"M 31.78125 34.625 \nQ 24.75 34.625 20.71875 30.859375 \nQ 16.703125 27.09375 16.703125 20.515625 \nQ 16.703125 13.921875 20.71875 10.15625 \nQ 24.75 6.390625 31.78125 6.390625 \nQ 38.8125 6.390625 42.859375 10.171875 \nQ 46.921875 13.96875 46.921875 20.515625 \nQ 46.921875 27.09375 42.890625 30.859375 \nQ 38.875 34.625 31.78125 34.625 \nz\nM 21.921875 38.8125 \nQ 15.578125 40.375 12.03125 44.71875 \nQ 8.5 49.078125 8.5 55.328125 \nQ 8.5 64.0625 14.71875 69.140625 \nQ 20.953125 74.21875 31.78125 74.21875 \nQ 42.671875 74.21875 48.875 69.140625 \nQ 55.078125 64.0625 55.078125 55.328125 \nQ 55.078125 49.078125 51.53125 44.71875 \nQ 48 40.375 41.703125 38.8125 \nQ 48.828125 37.15625 52.796875 32.3125 \nQ 56.78125 27.484375 56.78125 20.515625 \nQ 56.78125 9.90625 50.3125 4.234375 \nQ 43.84375 -1.421875 31.78125 -1.421875 \nQ 19.734375 -1.421875 13.25 4.234375 \nQ 6.78125 9.90625 6.78125 20.515625 \nQ 6.78125 27.484375 10.78125 32.3125 \nQ 14.796875 37.15625 21.921875 38.8125 \nz\nM 18.3125 54.390625 \nQ 18.3125 48.734375 21.84375 45.5625 \nQ 25.390625 42.390625 31.78125 42.390625 \nQ 38.140625 42.390625 41.71875 45.5625 \nQ 45.3125 48.734375 45.3125 54.390625 \nQ 45.3125 60.0625 41.71875 63.234375 \nQ 38.140625 66.40625 31.78125 66.40625 \nQ 25.390625 66.40625 21.84375 63.234375 \nQ 18.3125 60.0625 18.3125 54.390625 \nz\n\" id=\"DejaVuSans-56\"/>\n      </defs>\n      <g style=\"fill:#262626;\" transform=\"translate(331.863537 542.076406)scale(0.11 -0.11)\">\n       <use xlink:href=\"#DejaVuSans-48\"/>\n       <use x=\"63.623047\" xlink:href=\"#DejaVuSans-46\"/>\n       <use x=\"95.410156\" xlink:href=\"#DejaVuSans-56\"/>\n      </g>\n     </g>\n    </g>\n    <g id=\"xtick_6\">\n     <g id=\"line2d_6\">\n      <path clip-path=\"url(#p8682b637ca)\" d=\"M 409.414801 524.218125 \nL 409.414801 22.318125 \n\" style=\"fill:none;stroke:#ffffff;stroke-linecap:round;\"/>\n     </g>\n     <g id=\"text_6\">\n      <!-- 1.0 -->\n      <defs>\n       <path d=\"M 12.40625 8.296875 \nL 28.515625 8.296875 \nL 28.515625 63.921875 \nL 10.984375 60.40625 \nL 10.984375 69.390625 \nL 28.421875 72.90625 \nL 38.28125 72.90625 \nL 38.28125 8.296875 \nL 54.390625 8.296875 \nL 54.390625 0 \nL 12.40625 0 \nz\n\" id=\"DejaVuSans-49\"/>\n      </defs>\n      <g style=\"fill:#262626;\" transform=\"translate(400.668082 542.076406)scale(0.11 -0.11)\">\n       <use xlink:href=\"#DejaVuSans-49\"/>\n       <use x=\"63.623047\" xlink:href=\"#DejaVuSans-46\"/>\n       <use x=\"95.410156\" xlink:href=\"#DejaVuSans-48\"/>\n      </g>\n     </g>\n    </g>\n    <g id=\"text_7\">\n     <!-- epoch -->\n     <defs>\n      <path d=\"M 56.203125 29.59375 \nL 56.203125 25.203125 \nL 14.890625 25.203125 \nQ 15.484375 15.921875 20.484375 11.0625 \nQ 25.484375 6.203125 34.421875 6.203125 \nQ 39.59375 6.203125 44.453125 7.46875 \nQ 49.3125 8.734375 54.109375 11.28125 \nL 54.109375 2.78125 \nQ 49.265625 0.734375 44.1875 -0.34375 \nQ 39.109375 -1.421875 33.890625 -1.421875 \nQ 20.796875 -1.421875 13.15625 6.1875 \nQ 5.515625 13.8125 5.515625 26.8125 \nQ 5.515625 40.234375 12.765625 48.109375 \nQ 20.015625 56 32.328125 56 \nQ 43.359375 56 49.78125 48.890625 \nQ 56.203125 41.796875 56.203125 29.59375 \nz\nM 47.21875 32.234375 \nQ 47.125 39.59375 43.09375 43.984375 \nQ 39.0625 48.390625 32.421875 48.390625 \nQ 24.90625 48.390625 20.390625 44.140625 \nQ 15.875 39.890625 15.1875 32.171875 \nz\n\" id=\"DejaVuSans-101\"/>\n      <path d=\"M 18.109375 8.203125 \nL 18.109375 -20.796875 \nL 9.078125 -20.796875 \nL 9.078125 54.6875 \nL 18.109375 54.6875 \nL 18.109375 46.390625 \nQ 20.953125 51.265625 25.265625 53.625 \nQ 29.59375 56 35.59375 56 \nQ 45.5625 56 51.78125 48.09375 \nQ 58.015625 40.1875 58.015625 27.296875 \nQ 58.015625 14.40625 51.78125 6.484375 \nQ 45.5625 -1.421875 35.59375 -1.421875 \nQ 29.59375 -1.421875 25.265625 0.953125 \nQ 20.953125 3.328125 18.109375 8.203125 \nz\nM 48.6875 27.296875 \nQ 48.6875 37.203125 44.609375 42.84375 \nQ 40.53125 48.484375 33.40625 48.484375 \nQ 26.265625 48.484375 22.1875 42.84375 \nQ 18.109375 37.203125 18.109375 27.296875 \nQ 18.109375 17.390625 22.1875 11.75 \nQ 26.265625 6.109375 33.40625 6.109375 \nQ 40.53125 6.109375 44.609375 11.75 \nQ 48.6875 17.390625 48.6875 27.296875 \nz\n\" id=\"DejaVuSans-112\"/>\n      <path d=\"M 30.609375 48.390625 \nQ 23.390625 48.390625 19.1875 42.75 \nQ 14.984375 37.109375 14.984375 27.296875 \nQ 14.984375 17.484375 19.15625 11.84375 \nQ 23.34375 6.203125 30.609375 6.203125 \nQ 37.796875 6.203125 41.984375 11.859375 \nQ 46.1875 17.53125 46.1875 27.296875 \nQ 46.1875 37.015625 41.984375 42.703125 \nQ 37.796875 48.390625 30.609375 48.390625 \nz\nM 30.609375 56 \nQ 42.328125 56 49.015625 48.375 \nQ 55.71875 40.765625 55.71875 27.296875 \nQ 55.71875 13.875 49.015625 6.21875 \nQ 42.328125 -1.421875 30.609375 -1.421875 \nQ 18.84375 -1.421875 12.171875 6.21875 \nQ 5.515625 13.875 5.515625 27.296875 \nQ 5.515625 40.765625 12.171875 48.375 \nQ 18.84375 56 30.609375 56 \nz\n\" id=\"DejaVuSans-111\"/>\n      <path d=\"M 48.78125 52.59375 \nL 48.78125 44.1875 \nQ 44.96875 46.296875 41.140625 47.34375 \nQ 37.3125 48.390625 33.40625 48.390625 \nQ 24.65625 48.390625 19.8125 42.84375 \nQ 14.984375 37.3125 14.984375 27.296875 \nQ 14.984375 17.28125 19.8125 11.734375 \nQ 24.65625 6.203125 33.40625 6.203125 \nQ 37.3125 6.203125 41.140625 7.25 \nQ 44.96875 8.296875 48.78125 10.40625 \nL 48.78125 2.09375 \nQ 45.015625 0.34375 40.984375 -0.53125 \nQ 36.96875 -1.421875 32.421875 -1.421875 \nQ 20.0625 -1.421875 12.78125 6.34375 \nQ 5.515625 14.109375 5.515625 27.296875 \nQ 5.515625 40.671875 12.859375 48.328125 \nQ 20.21875 56 33.015625 56 \nQ 37.15625 56 41.109375 55.140625 \nQ 45.0625 54.296875 48.78125 52.59375 \nz\n\" id=\"DejaVuSans-99\"/>\n      <path d=\"M 54.890625 33.015625 \nL 54.890625 0 \nL 45.90625 0 \nL 45.90625 32.71875 \nQ 45.90625 40.484375 42.875 44.328125 \nQ 39.84375 48.1875 33.796875 48.1875 \nQ 26.515625 48.1875 22.3125 43.546875 \nQ 18.109375 38.921875 18.109375 30.90625 \nL 18.109375 0 \nL 9.078125 0 \nL 9.078125 75.984375 \nL 18.109375 75.984375 \nL 18.109375 46.1875 \nQ 21.34375 51.125 25.703125 53.5625 \nQ 30.078125 56 35.796875 56 \nQ 45.21875 56 50.046875 50.171875 \nQ 54.890625 44.34375 54.890625 33.015625 \nz\n\" id=\"DejaVuSans-104\"/>\n     </defs>\n     <g style=\"fill:#262626;\" transform=\"translate(219.129688 557.482188)scale(0.12 -0.12)\">\n      <use xlink:href=\"#DejaVuSans-101\"/>\n      <use x=\"61.523438\" xlink:href=\"#DejaVuSans-112\"/>\n      <use x=\"125\" xlink:href=\"#DejaVuSans-111\"/>\n      <use x=\"186.181641\" xlink:href=\"#DejaVuSans-99\"/>\n      <use x=\"241.162109\" xlink:href=\"#DejaVuSans-104\"/>\n     </g>\n    </g>\n   </g>\n   <g id=\"matplotlib.axis_2\">\n    <g id=\"ytick_1\">\n     <g id=\"line2d_7\">\n      <path clip-path=\"url(#p8682b637ca)\" d=\"M 48.190938 462.459543 \nL 426.615938 462.459543 \n\" style=\"fill:none;stroke:#ffffff;stroke-linecap:round;\"/>\n     </g>\n     <g id=\"text_8\">\n      <!-- 0.898 -->\n      <defs>\n       <path d=\"M 10.984375 1.515625 \nL 10.984375 10.5 \nQ 14.703125 8.734375 18.5 7.8125 \nQ 22.3125 6.890625 25.984375 6.890625 \nQ 35.75 6.890625 40.890625 13.453125 \nQ 46.046875 20.015625 46.78125 33.40625 \nQ 43.953125 29.203125 39.59375 26.953125 \nQ 35.25 24.703125 29.984375 24.703125 \nQ 19.046875 24.703125 12.671875 31.3125 \nQ 6.296875 37.9375 6.296875 49.421875 \nQ 6.296875 60.640625 12.9375 67.421875 \nQ 19.578125 74.21875 30.609375 74.21875 \nQ 43.265625 74.21875 49.921875 64.515625 \nQ 56.59375 54.828125 56.59375 36.375 \nQ 56.59375 19.140625 48.40625 8.859375 \nQ 40.234375 -1.421875 26.421875 -1.421875 \nQ 22.703125 -1.421875 18.890625 -0.6875 \nQ 15.09375 0.046875 10.984375 1.515625 \nz\nM 30.609375 32.421875 \nQ 37.25 32.421875 41.125 36.953125 \nQ 45.015625 41.5 45.015625 49.421875 \nQ 45.015625 57.28125 41.125 61.84375 \nQ 37.25 66.40625 30.609375 66.40625 \nQ 23.96875 66.40625 20.09375 61.84375 \nQ 16.21875 57.28125 16.21875 49.421875 \nQ 16.21875 41.5 20.09375 36.953125 \nQ 23.96875 32.421875 30.609375 32.421875 \nz\n\" id=\"DejaVuSans-57\"/>\n      </defs>\n      <g style=\"fill:#262626;\" transform=\"translate(7.2 466.638684)scale(0.11 -0.11)\">\n       <use xlink:href=\"#DejaVuSans-48\"/>\n       <use x=\"63.623047\" xlink:href=\"#DejaVuSans-46\"/>\n       <use x=\"95.410156\" xlink:href=\"#DejaVuSans-56\"/>\n       <use x=\"159.033203\" xlink:href=\"#DejaVuSans-57\"/>\n       <use x=\"222.65625\" xlink:href=\"#DejaVuSans-56\"/>\n      </g>\n     </g>\n    </g>\n    <g id=\"ytick_2\">\n     <g id=\"line2d_8\">\n      <path clip-path=\"url(#p8682b637ca)\" d=\"M 48.190938 389.66653 \nL 426.615938 389.66653 \n\" style=\"fill:none;stroke:#ffffff;stroke-linecap:round;\"/>\n     </g>\n     <g id=\"text_9\">\n      <!-- 0.899 -->\n      <g style=\"fill:#262626;\" transform=\"translate(7.2 393.84567)scale(0.11 -0.11)\">\n       <use xlink:href=\"#DejaVuSans-48\"/>\n       <use x=\"63.623047\" xlink:href=\"#DejaVuSans-46\"/>\n       <use x=\"95.410156\" xlink:href=\"#DejaVuSans-56\"/>\n       <use x=\"159.033203\" xlink:href=\"#DejaVuSans-57\"/>\n       <use x=\"222.65625\" xlink:href=\"#DejaVuSans-57\"/>\n      </g>\n     </g>\n    </g>\n    <g id=\"ytick_3\">\n     <g id=\"line2d_9\">\n      <path clip-path=\"url(#p8682b637ca)\" d=\"M 48.190938 316.873516 \nL 426.615938 316.873516 \n\" style=\"fill:none;stroke:#ffffff;stroke-linecap:round;\"/>\n     </g>\n     <g id=\"text_10\">\n      <!-- 0.900 -->\n      <g style=\"fill:#262626;\" transform=\"translate(7.2 321.052657)scale(0.11 -0.11)\">\n       <use xlink:href=\"#DejaVuSans-48\"/>\n       <use x=\"63.623047\" xlink:href=\"#DejaVuSans-46\"/>\n       <use x=\"95.410156\" xlink:href=\"#DejaVuSans-57\"/>\n       <use x=\"159.033203\" xlink:href=\"#DejaVuSans-48\"/>\n       <use x=\"222.65625\" xlink:href=\"#DejaVuSans-48\"/>\n      </g>\n     </g>\n    </g>\n    <g id=\"ytick_4\">\n     <g id=\"line2d_10\">\n      <path clip-path=\"url(#p8682b637ca)\" d=\"M 48.190938 244.080503 \nL 426.615938 244.080503 \n\" style=\"fill:none;stroke:#ffffff;stroke-linecap:round;\"/>\n     </g>\n     <g id=\"text_11\">\n      <!-- 0.901 -->\n      <g style=\"fill:#262626;\" transform=\"translate(7.2 248.259643)scale(0.11 -0.11)\">\n       <use xlink:href=\"#DejaVuSans-48\"/>\n       <use x=\"63.623047\" xlink:href=\"#DejaVuSans-46\"/>\n       <use x=\"95.410156\" xlink:href=\"#DejaVuSans-57\"/>\n       <use x=\"159.033203\" xlink:href=\"#DejaVuSans-48\"/>\n       <use x=\"222.65625\" xlink:href=\"#DejaVuSans-49\"/>\n      </g>\n     </g>\n    </g>\n    <g id=\"ytick_5\">\n     <g id=\"line2d_11\">\n      <path clip-path=\"url(#p8682b637ca)\" d=\"M 48.190938 171.287489 \nL 426.615938 171.287489 \n\" style=\"fill:none;stroke:#ffffff;stroke-linecap:round;\"/>\n     </g>\n     <g id=\"text_12\">\n      <!-- 0.902 -->\n      <g style=\"fill:#262626;\" transform=\"translate(7.2 175.46663)scale(0.11 -0.11)\">\n       <use xlink:href=\"#DejaVuSans-48\"/>\n       <use x=\"63.623047\" xlink:href=\"#DejaVuSans-46\"/>\n       <use x=\"95.410156\" xlink:href=\"#DejaVuSans-57\"/>\n       <use x=\"159.033203\" xlink:href=\"#DejaVuSans-48\"/>\n       <use x=\"222.65625\" xlink:href=\"#DejaVuSans-50\"/>\n      </g>\n     </g>\n    </g>\n    <g id=\"ytick_6\">\n     <g id=\"line2d_12\">\n      <path clip-path=\"url(#p8682b637ca)\" d=\"M 48.190938 98.494475 \nL 426.615938 98.494475 \n\" style=\"fill:none;stroke:#ffffff;stroke-linecap:round;\"/>\n     </g>\n     <g id=\"text_13\">\n      <!-- 0.903 -->\n      <defs>\n       <path d=\"M 40.578125 39.3125 \nQ 47.65625 37.796875 51.625 33 \nQ 55.609375 28.21875 55.609375 21.1875 \nQ 55.609375 10.40625 48.1875 4.484375 \nQ 40.765625 -1.421875 27.09375 -1.421875 \nQ 22.515625 -1.421875 17.65625 -0.515625 \nQ 12.796875 0.390625 7.625 2.203125 \nL 7.625 11.71875 \nQ 11.71875 9.328125 16.59375 8.109375 \nQ 21.484375 6.890625 26.8125 6.890625 \nQ 36.078125 6.890625 40.9375 10.546875 \nQ 45.796875 14.203125 45.796875 21.1875 \nQ 45.796875 27.640625 41.28125 31.265625 \nQ 36.765625 34.90625 28.71875 34.90625 \nL 20.21875 34.90625 \nL 20.21875 43.015625 \nL 29.109375 43.015625 \nQ 36.375 43.015625 40.234375 45.921875 \nQ 44.09375 48.828125 44.09375 54.296875 \nQ 44.09375 59.90625 40.109375 62.90625 \nQ 36.140625 65.921875 28.71875 65.921875 \nQ 24.65625 65.921875 20.015625 65.03125 \nQ 15.375 64.15625 9.8125 62.3125 \nL 9.8125 71.09375 \nQ 15.4375 72.65625 20.34375 73.4375 \nQ 25.25 74.21875 29.59375 74.21875 \nQ 40.828125 74.21875 47.359375 69.109375 \nQ 53.90625 64.015625 53.90625 55.328125 \nQ 53.90625 49.265625 50.4375 45.09375 \nQ 46.96875 40.921875 40.578125 39.3125 \nz\n\" id=\"DejaVuSans-51\"/>\n      </defs>\n      <g style=\"fill:#262626;\" transform=\"translate(7.2 102.673616)scale(0.11 -0.11)\">\n       <use xlink:href=\"#DejaVuSans-48\"/>\n       <use x=\"63.623047\" xlink:href=\"#DejaVuSans-46\"/>\n       <use x=\"95.410156\" xlink:href=\"#DejaVuSans-57\"/>\n       <use x=\"159.033203\" xlink:href=\"#DejaVuSans-48\"/>\n       <use x=\"222.65625\" xlink:href=\"#DejaVuSans-51\"/>\n      </g>\n     </g>\n    </g>\n    <g id=\"ytick_7\">\n     <g id=\"line2d_13\">\n      <path clip-path=\"url(#p8682b637ca)\" d=\"M 48.190938 25.701462 \nL 426.615938 25.701462 \n\" style=\"fill:none;stroke:#ffffff;stroke-linecap:round;\"/>\n     </g>\n     <g id=\"text_14\">\n      <!-- 0.904 -->\n      <g style=\"fill:#262626;\" transform=\"translate(7.2 29.880602)scale(0.11 -0.11)\">\n       <use xlink:href=\"#DejaVuSans-48\"/>\n       <use x=\"63.623047\" xlink:href=\"#DejaVuSans-46\"/>\n       <use x=\"95.410156\" xlink:href=\"#DejaVuSans-57\"/>\n       <use x=\"159.033203\" xlink:href=\"#DejaVuSans-48\"/>\n       <use x=\"222.65625\" xlink:href=\"#DejaVuSans-52\"/>\n      </g>\n     </g>\n    </g>\n   </g>\n   <g id=\"line2d_14\">\n    <path clip-path=\"url(#p8682b637ca)\" d=\"M 65.392074 501.404489 \nL 409.414801 70.70032 \n\" style=\"fill:none;stroke:#4c72b0;stroke-linecap:round;stroke-width:1.5;\"/>\n   </g>\n   <g id=\"line2d_15\">\n    <path clip-path=\"url(#p8682b637ca)\" d=\"M 65.392074 45.131761 \nL 409.414801 45.131761 \n\" style=\"fill:none;stroke:#dd8452;stroke-linecap:round;stroke-width:1.5;\"/>\n   </g>\n   <g id=\"patch_3\">\n    <path d=\"M 48.190938 524.218125 \nL 48.190938 22.318125 \n\" style=\"fill:none;stroke:#ffffff;stroke-linecap:square;stroke-linejoin:miter;stroke-width:1.25;\"/>\n   </g>\n   <g id=\"patch_4\">\n    <path d=\"M 426.615938 524.218125 \nL 426.615938 22.318125 \n\" style=\"fill:none;stroke:#ffffff;stroke-linecap:square;stroke-linejoin:miter;stroke-width:1.25;\"/>\n   </g>\n   <g id=\"patch_5\">\n    <path d=\"M 48.190938 524.218125 \nL 426.615938 524.218125 \n\" style=\"fill:none;stroke:#ffffff;stroke-linecap:square;stroke-linejoin:miter;stroke-width:1.25;\"/>\n   </g>\n   <g id=\"patch_6\">\n    <path d=\"M 48.190938 22.318125 \nL 426.615938 22.318125 \n\" style=\"fill:none;stroke:#ffffff;stroke-linecap:square;stroke-linejoin:miter;stroke-width:1.25;\"/>\n   </g>\n   <g id=\"text_15\">\n    <!-- accuracy -->\n    <defs>\n     <path d=\"M 34.28125 27.484375 \nQ 23.390625 27.484375 19.1875 25 \nQ 14.984375 22.515625 14.984375 16.5 \nQ 14.984375 11.71875 18.140625 8.90625 \nQ 21.296875 6.109375 26.703125 6.109375 \nQ 34.1875 6.109375 38.703125 11.40625 \nQ 43.21875 16.703125 43.21875 25.484375 \nL 43.21875 27.484375 \nz\nM 52.203125 31.203125 \nL 52.203125 0 \nL 43.21875 0 \nL 43.21875 8.296875 \nQ 40.140625 3.328125 35.546875 0.953125 \nQ 30.953125 -1.421875 24.3125 -1.421875 \nQ 15.921875 -1.421875 10.953125 3.296875 \nQ 6 8.015625 6 15.921875 \nQ 6 25.140625 12.171875 29.828125 \nQ 18.359375 34.515625 30.609375 34.515625 \nL 43.21875 34.515625 \nL 43.21875 35.40625 \nQ 43.21875 41.609375 39.140625 45 \nQ 35.0625 48.390625 27.6875 48.390625 \nQ 23 48.390625 18.546875 47.265625 \nQ 14.109375 46.140625 10.015625 43.890625 \nL 10.015625 52.203125 \nQ 14.9375 54.109375 19.578125 55.046875 \nQ 24.21875 56 28.609375 56 \nQ 40.484375 56 46.34375 49.84375 \nQ 52.203125 43.703125 52.203125 31.203125 \nz\n\" id=\"DejaVuSans-97\"/>\n     <path d=\"M 8.5 21.578125 \nL 8.5 54.6875 \nL 17.484375 54.6875 \nL 17.484375 21.921875 \nQ 17.484375 14.15625 20.5 10.265625 \nQ 23.53125 6.390625 29.59375 6.390625 \nQ 36.859375 6.390625 41.078125 11.03125 \nQ 45.3125 15.671875 45.3125 23.6875 \nL 45.3125 54.6875 \nL 54.296875 54.6875 \nL 54.296875 0 \nL 45.3125 0 \nL 45.3125 8.40625 \nQ 42.046875 3.421875 37.71875 1 \nQ 33.40625 -1.421875 27.6875 -1.421875 \nQ 18.265625 -1.421875 13.375 4.4375 \nQ 8.5 10.296875 8.5 21.578125 \nz\nM 31.109375 56 \nz\n\" id=\"DejaVuSans-117\"/>\n     <path d=\"M 41.109375 46.296875 \nQ 39.59375 47.171875 37.8125 47.578125 \nQ 36.03125 48 33.890625 48 \nQ 26.265625 48 22.1875 43.046875 \nQ 18.109375 38.09375 18.109375 28.8125 \nL 18.109375 0 \nL 9.078125 0 \nL 9.078125 54.6875 \nL 18.109375 54.6875 \nL 18.109375 46.1875 \nQ 20.953125 51.171875 25.484375 53.578125 \nQ 30.03125 56 36.53125 56 \nQ 37.453125 56 38.578125 55.875 \nQ 39.703125 55.765625 41.0625 55.515625 \nz\n\" id=\"DejaVuSans-114\"/>\n     <path d=\"M 32.171875 -5.078125 \nQ 28.375 -14.84375 24.75 -17.8125 \nQ 21.140625 -20.796875 15.09375 -20.796875 \nL 7.90625 -20.796875 \nL 7.90625 -13.28125 \nL 13.1875 -13.28125 \nQ 16.890625 -13.28125 18.9375 -11.515625 \nQ 21 -9.765625 23.484375 -3.21875 \nL 25.09375 0.875 \nL 2.984375 54.6875 \nL 12.5 54.6875 \nL 29.59375 11.921875 \nL 46.6875 54.6875 \nL 56.203125 54.6875 \nz\n\" id=\"DejaVuSans-121\"/>\n    </defs>\n    <g style=\"fill:#262626;\" transform=\"translate(210.332188 16.318125)scale(0.12 -0.12)\">\n     <use xlink:href=\"#DejaVuSans-97\"/>\n     <use x=\"61.279297\" xlink:href=\"#DejaVuSans-99\"/>\n     <use x=\"116.259766\" xlink:href=\"#DejaVuSans-99\"/>\n     <use x=\"171.240234\" xlink:href=\"#DejaVuSans-117\"/>\n     <use x=\"234.619141\" xlink:href=\"#DejaVuSans-114\"/>\n     <use x=\"275.732422\" xlink:href=\"#DejaVuSans-97\"/>\n     <use x=\"337.011719\" xlink:href=\"#DejaVuSans-99\"/>\n     <use x=\"391.992188\" xlink:href=\"#DejaVuSans-121\"/>\n    </g>\n   </g>\n   <g id=\"legend_1\">\n    <g id=\"patch_7\">\n     <path d=\"M 329.558125 291.064062 \nL 418.915938 291.064062 \nQ 421.115938 291.064062 421.115938 288.864062 \nL 421.115938 257.672187 \nQ 421.115938 255.472187 418.915938 255.472187 \nL 329.558125 255.472187 \nQ 327.358125 255.472187 327.358125 257.672187 \nL 327.358125 288.864062 \nQ 327.358125 291.064062 329.558125 291.064062 \nz\n\" style=\"fill:#eaeaf2;opacity:0.8;stroke:#cccccc;stroke-linejoin:miter;\"/>\n    </g>\n    <g id=\"line2d_16\">\n     <path d=\"M 331.758125 264.380469 \nL 353.758125 264.380469 \n\" style=\"fill:none;stroke:#4c72b0;stroke-linecap:round;stroke-width:1.5;\"/>\n    </g>\n    <g id=\"line2d_17\"/>\n    <g id=\"text_16\">\n     <!-- training -->\n     <defs>\n      <path d=\"M 18.3125 70.21875 \nL 18.3125 54.6875 \nL 36.8125 54.6875 \nL 36.8125 47.703125 \nL 18.3125 47.703125 \nL 18.3125 18.015625 \nQ 18.3125 11.328125 20.140625 9.421875 \nQ 21.96875 7.515625 27.59375 7.515625 \nL 36.8125 7.515625 \nL 36.8125 0 \nL 27.59375 0 \nQ 17.1875 0 13.234375 3.875 \nQ 9.28125 7.765625 9.28125 18.015625 \nL 9.28125 47.703125 \nL 2.6875 47.703125 \nL 2.6875 54.6875 \nL 9.28125 54.6875 \nL 9.28125 70.21875 \nz\n\" id=\"DejaVuSans-116\"/>\n      <path d=\"M 9.421875 54.6875 \nL 18.40625 54.6875 \nL 18.40625 0 \nL 9.421875 0 \nz\nM 9.421875 75.984375 \nL 18.40625 75.984375 \nL 18.40625 64.59375 \nL 9.421875 64.59375 \nz\n\" id=\"DejaVuSans-105\"/>\n      <path d=\"M 54.890625 33.015625 \nL 54.890625 0 \nL 45.90625 0 \nL 45.90625 32.71875 \nQ 45.90625 40.484375 42.875 44.328125 \nQ 39.84375 48.1875 33.796875 48.1875 \nQ 26.515625 48.1875 22.3125 43.546875 \nQ 18.109375 38.921875 18.109375 30.90625 \nL 18.109375 0 \nL 9.078125 0 \nL 9.078125 54.6875 \nL 18.109375 54.6875 \nL 18.109375 46.1875 \nQ 21.34375 51.125 25.703125 53.5625 \nQ 30.078125 56 35.796875 56 \nQ 45.21875 56 50.046875 50.171875 \nQ 54.890625 44.34375 54.890625 33.015625 \nz\n\" id=\"DejaVuSans-110\"/>\n      <path d=\"M 45.40625 27.984375 \nQ 45.40625 37.75 41.375 43.109375 \nQ 37.359375 48.484375 30.078125 48.484375 \nQ 22.859375 48.484375 18.828125 43.109375 \nQ 14.796875 37.75 14.796875 27.984375 \nQ 14.796875 18.265625 18.828125 12.890625 \nQ 22.859375 7.515625 30.078125 7.515625 \nQ 37.359375 7.515625 41.375 12.890625 \nQ 45.40625 18.265625 45.40625 27.984375 \nz\nM 54.390625 6.78125 \nQ 54.390625 -7.171875 48.1875 -13.984375 \nQ 42 -20.796875 29.203125 -20.796875 \nQ 24.46875 -20.796875 20.265625 -20.09375 \nQ 16.0625 -19.390625 12.109375 -17.921875 \nL 12.109375 -9.1875 \nQ 16.0625 -11.328125 19.921875 -12.34375 \nQ 23.78125 -13.375 27.78125 -13.375 \nQ 36.625 -13.375 41.015625 -8.765625 \nQ 45.40625 -4.15625 45.40625 5.171875 \nL 45.40625 9.625 \nQ 42.625 4.78125 38.28125 2.390625 \nQ 33.9375 0 27.875 0 \nQ 17.828125 0 11.671875 7.65625 \nQ 5.515625 15.328125 5.515625 27.984375 \nQ 5.515625 40.671875 11.671875 48.328125 \nQ 17.828125 56 27.875 56 \nQ 33.9375 56 38.28125 53.609375 \nQ 42.625 51.21875 45.40625 46.390625 \nL 45.40625 54.6875 \nL 54.390625 54.6875 \nz\n\" id=\"DejaVuSans-103\"/>\n     </defs>\n     <g style=\"fill:#262626;\" transform=\"translate(362.558125 268.230469)scale(0.11 -0.11)\">\n      <use xlink:href=\"#DejaVuSans-116\"/>\n      <use x=\"39.208984\" xlink:href=\"#DejaVuSans-114\"/>\n      <use x=\"80.322266\" xlink:href=\"#DejaVuSans-97\"/>\n      <use x=\"141.601562\" xlink:href=\"#DejaVuSans-105\"/>\n      <use x=\"169.384766\" xlink:href=\"#DejaVuSans-110\"/>\n      <use x=\"232.763672\" xlink:href=\"#DejaVuSans-105\"/>\n      <use x=\"260.546875\" xlink:href=\"#DejaVuSans-110\"/>\n      <use x=\"323.925781\" xlink:href=\"#DejaVuSans-103\"/>\n     </g>\n    </g>\n    <g id=\"line2d_18\">\n     <path d=\"M 331.758125 280.526406 \nL 353.758125 280.526406 \n\" style=\"fill:none;stroke:#dd8452;stroke-linecap:round;stroke-width:1.5;\"/>\n    </g>\n    <g id=\"line2d_19\"/>\n    <g id=\"text_17\">\n     <!-- validation -->\n     <defs>\n      <path d=\"M 2.984375 54.6875 \nL 12.5 54.6875 \nL 29.59375 8.796875 \nL 46.6875 54.6875 \nL 56.203125 54.6875 \nL 35.6875 0 \nL 23.484375 0 \nz\n\" id=\"DejaVuSans-118\"/>\n      <path d=\"M 9.421875 75.984375 \nL 18.40625 75.984375 \nL 18.40625 0 \nL 9.421875 0 \nz\n\" id=\"DejaVuSans-108\"/>\n      <path d=\"M 45.40625 46.390625 \nL 45.40625 75.984375 \nL 54.390625 75.984375 \nL 54.390625 0 \nL 45.40625 0 \nL 45.40625 8.203125 \nQ 42.578125 3.328125 38.25 0.953125 \nQ 33.9375 -1.421875 27.875 -1.421875 \nQ 17.96875 -1.421875 11.734375 6.484375 \nQ 5.515625 14.40625 5.515625 27.296875 \nQ 5.515625 40.1875 11.734375 48.09375 \nQ 17.96875 56 27.875 56 \nQ 33.9375 56 38.25 53.625 \nQ 42.578125 51.265625 45.40625 46.390625 \nz\nM 14.796875 27.296875 \nQ 14.796875 17.390625 18.875 11.75 \nQ 22.953125 6.109375 30.078125 6.109375 \nQ 37.203125 6.109375 41.296875 11.75 \nQ 45.40625 17.390625 45.40625 27.296875 \nQ 45.40625 37.203125 41.296875 42.84375 \nQ 37.203125 48.484375 30.078125 48.484375 \nQ 22.953125 48.484375 18.875 42.84375 \nQ 14.796875 37.203125 14.796875 27.296875 \nz\n\" id=\"DejaVuSans-100\"/>\n     </defs>\n     <g style=\"fill:#262626;\" transform=\"translate(362.558125 284.376406)scale(0.11 -0.11)\">\n      <use xlink:href=\"#DejaVuSans-118\"/>\n      <use x=\"59.179688\" xlink:href=\"#DejaVuSans-97\"/>\n      <use x=\"120.458984\" xlink:href=\"#DejaVuSans-108\"/>\n      <use x=\"148.242188\" xlink:href=\"#DejaVuSans-105\"/>\n      <use x=\"176.025391\" xlink:href=\"#DejaVuSans-100\"/>\n      <use x=\"239.501953\" xlink:href=\"#DejaVuSans-97\"/>\n      <use x=\"300.78125\" xlink:href=\"#DejaVuSans-116\"/>\n      <use x=\"339.990234\" xlink:href=\"#DejaVuSans-105\"/>\n      <use x=\"367.773438\" xlink:href=\"#DejaVuSans-111\"/>\n      <use x=\"428.955078\" xlink:href=\"#DejaVuSans-110\"/>\n     </g>\n    </g>\n   </g>\n  </g>\n  <g id=\"axes_2\">\n   <g id=\"patch_8\">\n    <path d=\"M 471.290937 524.218125 \nL 849.715937 524.218125 \nL 849.715937 22.318125 \nL 471.290937 22.318125 \nz\n\" style=\"fill:#eaeaf2;\"/>\n   </g>\n   <g id=\"matplotlib.axis_3\">\n    <g id=\"xtick_7\">\n     <g id=\"line2d_20\">\n      <path clip-path=\"url(#pa962d5fad7)\" d=\"M 488.492074 524.218125 \nL 488.492074 22.318125 \n\" style=\"fill:none;stroke:#ffffff;stroke-linecap:round;\"/>\n     </g>\n     <g id=\"text_18\">\n      <!-- 0.0 -->\n      <g style=\"fill:#262626;\" transform=\"translate(479.745355 542.076406)scale(0.11 -0.11)\">\n       <use xlink:href=\"#DejaVuSans-48\"/>\n       <use x=\"63.623047\" xlink:href=\"#DejaVuSans-46\"/>\n       <use x=\"95.410156\" xlink:href=\"#DejaVuSans-48\"/>\n      </g>\n     </g>\n    </g>\n    <g id=\"xtick_8\">\n     <g id=\"line2d_21\">\n      <path clip-path=\"url(#pa962d5fad7)\" d=\"M 557.296619 524.218125 \nL 557.296619 22.318125 \n\" style=\"fill:none;stroke:#ffffff;stroke-linecap:round;\"/>\n     </g>\n     <g id=\"text_19\">\n      <!-- 0.2 -->\n      <g style=\"fill:#262626;\" transform=\"translate(548.549901 542.076406)scale(0.11 -0.11)\">\n       <use xlink:href=\"#DejaVuSans-48\"/>\n       <use x=\"63.623047\" xlink:href=\"#DejaVuSans-46\"/>\n       <use x=\"95.410156\" xlink:href=\"#DejaVuSans-50\"/>\n      </g>\n     </g>\n    </g>\n    <g id=\"xtick_9\">\n     <g id=\"line2d_22\">\n      <path clip-path=\"url(#pa962d5fad7)\" d=\"M 626.101165 524.218125 \nL 626.101165 22.318125 \n\" style=\"fill:none;stroke:#ffffff;stroke-linecap:round;\"/>\n     </g>\n     <g id=\"text_20\">\n      <!-- 0.4 -->\n      <g style=\"fill:#262626;\" transform=\"translate(617.354446 542.076406)scale(0.11 -0.11)\">\n       <use xlink:href=\"#DejaVuSans-48\"/>\n       <use x=\"63.623047\" xlink:href=\"#DejaVuSans-46\"/>\n       <use x=\"95.410156\" xlink:href=\"#DejaVuSans-52\"/>\n      </g>\n     </g>\n    </g>\n    <g id=\"xtick_10\">\n     <g id=\"line2d_23\">\n      <path clip-path=\"url(#pa962d5fad7)\" d=\"M 694.90571 524.218125 \nL 694.90571 22.318125 \n\" style=\"fill:none;stroke:#ffffff;stroke-linecap:round;\"/>\n     </g>\n     <g id=\"text_21\">\n      <!-- 0.6 -->\n      <g style=\"fill:#262626;\" transform=\"translate(686.158991 542.076406)scale(0.11 -0.11)\">\n       <use xlink:href=\"#DejaVuSans-48\"/>\n       <use x=\"63.623047\" xlink:href=\"#DejaVuSans-46\"/>\n       <use x=\"95.410156\" xlink:href=\"#DejaVuSans-54\"/>\n      </g>\n     </g>\n    </g>\n    <g id=\"xtick_11\">\n     <g id=\"line2d_24\">\n      <path clip-path=\"url(#pa962d5fad7)\" d=\"M 763.710256 524.218125 \nL 763.710256 22.318125 \n\" style=\"fill:none;stroke:#ffffff;stroke-linecap:round;\"/>\n     </g>\n     <g id=\"text_22\">\n      <!-- 0.8 -->\n      <g style=\"fill:#262626;\" transform=\"translate(754.963537 542.076406)scale(0.11 -0.11)\">\n       <use xlink:href=\"#DejaVuSans-48\"/>\n       <use x=\"63.623047\" xlink:href=\"#DejaVuSans-46\"/>\n       <use x=\"95.410156\" xlink:href=\"#DejaVuSans-56\"/>\n      </g>\n     </g>\n    </g>\n    <g id=\"xtick_12\">\n     <g id=\"line2d_25\">\n      <path clip-path=\"url(#pa962d5fad7)\" d=\"M 832.514801 524.218125 \nL 832.514801 22.318125 \n\" style=\"fill:none;stroke:#ffffff;stroke-linecap:round;\"/>\n     </g>\n     <g id=\"text_23\">\n      <!-- 1.0 -->\n      <g style=\"fill:#262626;\" transform=\"translate(823.768082 542.076406)scale(0.11 -0.11)\">\n       <use xlink:href=\"#DejaVuSans-49\"/>\n       <use x=\"63.623047\" xlink:href=\"#DejaVuSans-46\"/>\n       <use x=\"95.410156\" xlink:href=\"#DejaVuSans-48\"/>\n      </g>\n     </g>\n    </g>\n    <g id=\"text_24\">\n     <!-- epoch -->\n     <g style=\"fill:#262626;\" transform=\"translate(642.229688 557.482188)scale(0.12 -0.12)\">\n      <use xlink:href=\"#DejaVuSans-101\"/>\n      <use x=\"61.523438\" xlink:href=\"#DejaVuSans-112\"/>\n      <use x=\"125\" xlink:href=\"#DejaVuSans-111\"/>\n      <use x=\"186.181641\" xlink:href=\"#DejaVuSans-99\"/>\n      <use x=\"241.162109\" xlink:href=\"#DejaVuSans-104\"/>\n     </g>\n    </g>\n   </g>\n   <g id=\"matplotlib.axis_4\">\n    <g id=\"ytick_8\">\n     <g id=\"line2d_26\">\n      <path clip-path=\"url(#pa962d5fad7)\" d=\"M 471.290937 496.667391 \nL 849.715937 496.667391 \n\" style=\"fill:none;stroke:#ffffff;stroke-linecap:round;\"/>\n     </g>\n     <g id=\"text_25\">\n      <!-- 0.45 -->\n      <defs>\n       <path d=\"M 10.796875 72.90625 \nL 49.515625 72.90625 \nL 49.515625 64.59375 \nL 19.828125 64.59375 \nL 19.828125 46.734375 \nQ 21.96875 47.46875 24.109375 47.828125 \nQ 26.265625 48.1875 28.421875 48.1875 \nQ 40.625 48.1875 47.75 41.5 \nQ 54.890625 34.8125 54.890625 23.390625 \nQ 54.890625 11.625 47.5625 5.09375 \nQ 40.234375 -1.421875 26.90625 -1.421875 \nQ 22.3125 -1.421875 17.546875 -0.640625 \nQ 12.796875 0.140625 7.71875 1.703125 \nL 7.71875 11.625 \nQ 12.109375 9.234375 16.796875 8.0625 \nQ 21.484375 6.890625 26.703125 6.890625 \nQ 35.15625 6.890625 40.078125 11.328125 \nQ 45.015625 15.765625 45.015625 23.390625 \nQ 45.015625 31 40.078125 35.4375 \nQ 35.15625 39.890625 26.703125 39.890625 \nQ 22.75 39.890625 18.8125 39.015625 \nQ 14.890625 38.140625 10.796875 36.28125 \nz\n\" id=\"DejaVuSans-53\"/>\n      </defs>\n      <g style=\"fill:#262626;\" transform=\"translate(437.29875 500.846532)scale(0.11 -0.11)\">\n       <use xlink:href=\"#DejaVuSans-48\"/>\n       <use x=\"63.623047\" xlink:href=\"#DejaVuSans-46\"/>\n       <use x=\"95.410156\" xlink:href=\"#DejaVuSans-52\"/>\n       <use x=\"159.033203\" xlink:href=\"#DejaVuSans-53\"/>\n      </g>\n     </g>\n    </g>\n    <g id=\"ytick_9\">\n     <g id=\"line2d_27\">\n      <path clip-path=\"url(#pa962d5fad7)\" d=\"M 471.290937 429.045177 \nL 849.715937 429.045177 \n\" style=\"fill:none;stroke:#ffffff;stroke-linecap:round;\"/>\n     </g>\n     <g id=\"text_26\">\n      <!-- 0.50 -->\n      <g style=\"fill:#262626;\" transform=\"translate(437.29875 433.224318)scale(0.11 -0.11)\">\n       <use xlink:href=\"#DejaVuSans-48\"/>\n       <use x=\"63.623047\" xlink:href=\"#DejaVuSans-46\"/>\n       <use x=\"95.410156\" xlink:href=\"#DejaVuSans-53\"/>\n       <use x=\"159.033203\" xlink:href=\"#DejaVuSans-48\"/>\n      </g>\n     </g>\n    </g>\n    <g id=\"ytick_10\">\n     <g id=\"line2d_28\">\n      <path clip-path=\"url(#pa962d5fad7)\" d=\"M 471.290937 361.422963 \nL 849.715937 361.422963 \n\" style=\"fill:none;stroke:#ffffff;stroke-linecap:round;\"/>\n     </g>\n     <g id=\"text_27\">\n      <!-- 0.55 -->\n      <g style=\"fill:#262626;\" transform=\"translate(437.29875 365.602104)scale(0.11 -0.11)\">\n       <use xlink:href=\"#DejaVuSans-48\"/>\n       <use x=\"63.623047\" xlink:href=\"#DejaVuSans-46\"/>\n       <use x=\"95.410156\" xlink:href=\"#DejaVuSans-53\"/>\n       <use x=\"159.033203\" xlink:href=\"#DejaVuSans-53\"/>\n      </g>\n     </g>\n    </g>\n    <g id=\"ytick_11\">\n     <g id=\"line2d_29\">\n      <path clip-path=\"url(#pa962d5fad7)\" d=\"M 471.290937 293.800749 \nL 849.715937 293.800749 \n\" style=\"fill:none;stroke:#ffffff;stroke-linecap:round;\"/>\n     </g>\n     <g id=\"text_28\">\n      <!-- 0.60 -->\n      <g style=\"fill:#262626;\" transform=\"translate(437.29875 297.97989)scale(0.11 -0.11)\">\n       <use xlink:href=\"#DejaVuSans-48\"/>\n       <use x=\"63.623047\" xlink:href=\"#DejaVuSans-46\"/>\n       <use x=\"95.410156\" xlink:href=\"#DejaVuSans-54\"/>\n       <use x=\"159.033203\" xlink:href=\"#DejaVuSans-48\"/>\n      </g>\n     </g>\n    </g>\n    <g id=\"ytick_12\">\n     <g id=\"line2d_30\">\n      <path clip-path=\"url(#pa962d5fad7)\" d=\"M 471.290937 226.178535 \nL 849.715937 226.178535 \n\" style=\"fill:none;stroke:#ffffff;stroke-linecap:round;\"/>\n     </g>\n     <g id=\"text_29\">\n      <!-- 0.65 -->\n      <g style=\"fill:#262626;\" transform=\"translate(437.29875 230.357676)scale(0.11 -0.11)\">\n       <use xlink:href=\"#DejaVuSans-48\"/>\n       <use x=\"63.623047\" xlink:href=\"#DejaVuSans-46\"/>\n       <use x=\"95.410156\" xlink:href=\"#DejaVuSans-54\"/>\n       <use x=\"159.033203\" xlink:href=\"#DejaVuSans-53\"/>\n      </g>\n     </g>\n    </g>\n    <g id=\"ytick_13\">\n     <g id=\"line2d_31\">\n      <path clip-path=\"url(#pa962d5fad7)\" d=\"M 471.290937 158.556321 \nL 849.715937 158.556321 \n\" style=\"fill:none;stroke:#ffffff;stroke-linecap:round;\"/>\n     </g>\n     <g id=\"text_30\">\n      <!-- 0.70 -->\n      <defs>\n       <path d=\"M 8.203125 72.90625 \nL 55.078125 72.90625 \nL 55.078125 68.703125 \nL 28.609375 0 \nL 18.3125 0 \nL 43.21875 64.59375 \nL 8.203125 64.59375 \nz\n\" id=\"DejaVuSans-55\"/>\n      </defs>\n      <g style=\"fill:#262626;\" transform=\"translate(437.29875 162.735462)scale(0.11 -0.11)\">\n       <use xlink:href=\"#DejaVuSans-48\"/>\n       <use x=\"63.623047\" xlink:href=\"#DejaVuSans-46\"/>\n       <use x=\"95.410156\" xlink:href=\"#DejaVuSans-55\"/>\n       <use x=\"159.033203\" xlink:href=\"#DejaVuSans-48\"/>\n      </g>\n     </g>\n    </g>\n    <g id=\"ytick_14\">\n     <g id=\"line2d_32\">\n      <path clip-path=\"url(#pa962d5fad7)\" d=\"M 471.290937 90.934107 \nL 849.715937 90.934107 \n\" style=\"fill:none;stroke:#ffffff;stroke-linecap:round;\"/>\n     </g>\n     <g id=\"text_31\">\n      <!-- 0.75 -->\n      <g style=\"fill:#262626;\" transform=\"translate(437.29875 95.113248)scale(0.11 -0.11)\">\n       <use xlink:href=\"#DejaVuSans-48\"/>\n       <use x=\"63.623047\" xlink:href=\"#DejaVuSans-46\"/>\n       <use x=\"95.410156\" xlink:href=\"#DejaVuSans-55\"/>\n       <use x=\"159.033203\" xlink:href=\"#DejaVuSans-53\"/>\n      </g>\n     </g>\n    </g>\n    <g id=\"ytick_15\">\n     <g id=\"line2d_33\">\n      <path clip-path=\"url(#pa962d5fad7)\" d=\"M 471.290937 23.311893 \nL 849.715937 23.311893 \n\" style=\"fill:none;stroke:#ffffff;stroke-linecap:round;\"/>\n     </g>\n     <g id=\"text_32\">\n      <!-- 0.80 -->\n      <g style=\"fill:#262626;\" transform=\"translate(437.29875 27.491034)scale(0.11 -0.11)\">\n       <use xlink:href=\"#DejaVuSans-48\"/>\n       <use x=\"63.623047\" xlink:href=\"#DejaVuSans-46\"/>\n       <use x=\"95.410156\" xlink:href=\"#DejaVuSans-56\"/>\n       <use x=\"159.033203\" xlink:href=\"#DejaVuSans-48\"/>\n      </g>\n     </g>\n    </g>\n   </g>\n   <g id=\"line2d_34\">\n    <path clip-path=\"url(#pa962d5fad7)\" d=\"M 488.492074 45.131761 \nL 832.514801 486.730814 \n\" style=\"fill:none;stroke:#4c72b0;stroke-linecap:round;stroke-width:1.5;\"/>\n   </g>\n   <g id=\"line2d_35\">\n    <path clip-path=\"url(#pa962d5fad7)\" d=\"M 488.492074 473.560553 \nL 832.514801 501.404489 \n\" style=\"fill:none;stroke:#dd8452;stroke-linecap:round;stroke-width:1.5;\"/>\n   </g>\n   <g id=\"patch_9\">\n    <path d=\"M 471.290937 524.218125 \nL 471.290937 22.318125 \n\" style=\"fill:none;stroke:#ffffff;stroke-linecap:square;stroke-linejoin:miter;stroke-width:1.25;\"/>\n   </g>\n   <g id=\"patch_10\">\n    <path d=\"M 849.715937 524.218125 \nL 849.715937 22.318125 \n\" style=\"fill:none;stroke:#ffffff;stroke-linecap:square;stroke-linejoin:miter;stroke-width:1.25;\"/>\n   </g>\n   <g id=\"patch_11\">\n    <path d=\"M 471.290937 524.218125 \nL 849.715937 524.218125 \n\" style=\"fill:none;stroke:#ffffff;stroke-linecap:square;stroke-linejoin:miter;stroke-width:1.25;\"/>\n   </g>\n   <g id=\"patch_12\">\n    <path d=\"M 471.290937 22.318125 \nL 849.715937 22.318125 \n\" style=\"fill:none;stroke:#ffffff;stroke-linecap:square;stroke-linejoin:miter;stroke-width:1.25;\"/>\n   </g>\n   <g id=\"text_33\">\n    <!-- Loss -->\n    <defs>\n     <path d=\"M 9.8125 72.90625 \nL 19.671875 72.90625 \nL 19.671875 8.296875 \nL 55.171875 8.296875 \nL 55.171875 0 \nL 9.8125 0 \nz\n\" id=\"DejaVuSans-76\"/>\n     <path d=\"M 44.28125 53.078125 \nL 44.28125 44.578125 \nQ 40.484375 46.53125 36.375 47.5 \nQ 32.28125 48.484375 27.875 48.484375 \nQ 21.1875 48.484375 17.84375 46.4375 \nQ 14.5 44.390625 14.5 40.28125 \nQ 14.5 37.15625 16.890625 35.375 \nQ 19.28125 33.59375 26.515625 31.984375 \nL 29.59375 31.296875 \nQ 39.15625 29.25 43.1875 25.515625 \nQ 47.21875 21.78125 47.21875 15.09375 \nQ 47.21875 7.46875 41.1875 3.015625 \nQ 35.15625 -1.421875 24.609375 -1.421875 \nQ 20.21875 -1.421875 15.453125 -0.5625 \nQ 10.6875 0.296875 5.421875 2 \nL 5.421875 11.28125 \nQ 10.40625 8.6875 15.234375 7.390625 \nQ 20.0625 6.109375 24.8125 6.109375 \nQ 31.15625 6.109375 34.5625 8.28125 \nQ 37.984375 10.453125 37.984375 14.40625 \nQ 37.984375 18.0625 35.515625 20.015625 \nQ 33.0625 21.96875 24.703125 23.78125 \nL 21.578125 24.515625 \nQ 13.234375 26.265625 9.515625 29.90625 \nQ 5.8125 33.546875 5.8125 39.890625 \nQ 5.8125 47.609375 11.28125 51.796875 \nQ 16.75 56 26.8125 56 \nQ 31.78125 56 36.171875 55.265625 \nQ 40.578125 54.546875 44.28125 53.078125 \nz\n\" id=\"DejaVuSans-115\"/>\n    </defs>\n    <g style=\"fill:#262626;\" transform=\"translate(647.342813 16.318125)scale(0.12 -0.12)\">\n     <use xlink:href=\"#DejaVuSans-76\"/>\n     <use x=\"53.962891\" xlink:href=\"#DejaVuSans-111\"/>\n     <use x=\"115.144531\" xlink:href=\"#DejaVuSans-115\"/>\n     <use x=\"167.244141\" xlink:href=\"#DejaVuSans-115\"/>\n    </g>\n   </g>\n   <g id=\"legend_2\">\n    <g id=\"patch_13\">\n     <path d=\"M 752.658125 291.064062 \nL 842.015937 291.064062 \nQ 844.215937 291.064062 844.215937 288.864062 \nL 844.215937 257.672187 \nQ 844.215937 255.472187 842.015937 255.472187 \nL 752.658125 255.472187 \nQ 750.458125 255.472187 750.458125 257.672187 \nL 750.458125 288.864062 \nQ 750.458125 291.064062 752.658125 291.064062 \nz\n\" style=\"fill:#eaeaf2;opacity:0.8;stroke:#cccccc;stroke-linejoin:miter;\"/>\n    </g>\n    <g id=\"line2d_36\">\n     <path d=\"M 754.858125 264.380469 \nL 776.858125 264.380469 \n\" style=\"fill:none;stroke:#4c72b0;stroke-linecap:round;stroke-width:1.5;\"/>\n    </g>\n    <g id=\"line2d_37\"/>\n    <g id=\"text_34\">\n     <!-- training -->\n     <g style=\"fill:#262626;\" transform=\"translate(785.658125 268.230469)scale(0.11 -0.11)\">\n      <use xlink:href=\"#DejaVuSans-116\"/>\n      <use x=\"39.208984\" xlink:href=\"#DejaVuSans-114\"/>\n      <use x=\"80.322266\" xlink:href=\"#DejaVuSans-97\"/>\n      <use x=\"141.601562\" xlink:href=\"#DejaVuSans-105\"/>\n      <use x=\"169.384766\" xlink:href=\"#DejaVuSans-110\"/>\n      <use x=\"232.763672\" xlink:href=\"#DejaVuSans-105\"/>\n      <use x=\"260.546875\" xlink:href=\"#DejaVuSans-110\"/>\n      <use x=\"323.925781\" xlink:href=\"#DejaVuSans-103\"/>\n     </g>\n    </g>\n    <g id=\"line2d_38\">\n     <path d=\"M 754.858125 280.526406 \nL 776.858125 280.526406 \n\" style=\"fill:none;stroke:#dd8452;stroke-linecap:round;stroke-width:1.5;\"/>\n    </g>\n    <g id=\"line2d_39\"/>\n    <g id=\"text_35\">\n     <!-- validation -->\n     <g style=\"fill:#262626;\" transform=\"translate(785.658125 284.376406)scale(0.11 -0.11)\">\n      <use xlink:href=\"#DejaVuSans-118\"/>\n      <use x=\"59.179688\" xlink:href=\"#DejaVuSans-97\"/>\n      <use x=\"120.458984\" xlink:href=\"#DejaVuSans-108\"/>\n      <use x=\"148.242188\" xlink:href=\"#DejaVuSans-105\"/>\n      <use x=\"176.025391\" xlink:href=\"#DejaVuSans-100\"/>\n      <use x=\"239.501953\" xlink:href=\"#DejaVuSans-97\"/>\n      <use x=\"300.78125\" xlink:href=\"#DejaVuSans-116\"/>\n      <use x=\"339.990234\" xlink:href=\"#DejaVuSans-105\"/>\n      <use x=\"367.773438\" xlink:href=\"#DejaVuSans-111\"/>\n      <use x=\"428.955078\" xlink:href=\"#DejaVuSans-110\"/>\n     </g>\n    </g>\n   </g>\n  </g>\n </g>\n <defs>\n  <clipPath id=\"p8682b637ca\">\n   <rect height=\"501.9\" width=\"378.425\" x=\"48.190938\" y=\"22.318125\"/>\n  </clipPath>\n  <clipPath id=\"pa962d5fad7\">\n   <rect height=\"501.9\" width=\"378.425\" x=\"471.290937\" y=\"22.318125\"/>\n  </clipPath>\n </defs>\n</svg>\n"
          },
          "metadata": {
            "tags": [],
            "needs_background": "light"
          }
        },
        {
          "output_type": "stream",
          "text": [
            "accuracy\n",
            "\ttraining         \t (min:    0.897, max:    0.903, cur:    0.903)\n",
            "\tvalidation       \t (min:    0.904, max:    0.904, cur:    0.904)\n",
            "Loss\n",
            "\ttraining         \t (min:    0.457, max:    0.784, cur:    0.457)\n",
            "\tvalidation       \t (min:    0.446, max:    0.467, cur:    0.446)\n"
          ],
          "name": "stdout"
        },
        {
          "output_type": "execute_result",
          "data": {
            "text/plain": [
              "{'accuracy': [0.8974649906158447, 0.9033818244934082],\n",
              " 'loss': [0.7838663458824158, 0.4573471248149872],\n",
              " 'val_accuracy': [0.9037330746650696, 0.9037330746650696],\n",
              " 'val_loss': [0.46708524227142334, 0.44649738073349]}"
            ]
          },
          "metadata": {
            "tags": []
          },
          "execution_count": 29
        }
      ]
    },
    {
      "cell_type": "markdown",
      "metadata": {
        "id": "JS_GvoLOTkpG"
      },
      "source": [
        "# Model Evaluation"
      ]
    },
    {
      "cell_type": "code",
      "metadata": {
        "colab": {
          "base_uri": "https://localhost:8080/"
        },
        "id": "WWv_aFewTrdP",
        "outputId": "9017350e-93f1-4cb2-848c-6a19b4eab7fa"
      },
      "source": [
        "loss, accuracy = model.evaluate(x_test, np.array(y_test), verbose=0)\n",
        "print(f\"Loss after model evaluation: {loss:.3f}\")\n",
        "print(f\"Accuracy after model evaluation: {accuracy:.3f}\")"
      ],
      "execution_count": 30,
      "outputs": [
        {
          "output_type": "stream",
          "text": [
            "Loss after model evaluation: 0.448\n",
            "Accuracy after model evaluation: 0.903\n"
          ],
          "name": "stdout"
        }
      ]
    },
    {
      "cell_type": "markdown",
      "metadata": {
        "id": "WrCpcGLgUY0m"
      },
      "source": [
        "# Model Precition\n"
      ]
    },
    {
      "cell_type": "code",
      "metadata": {
        "colab": {
          "base_uri": "https://localhost:8080/"
        },
        "id": "XgFXvzkgUSyy",
        "outputId": "76ae41fc-8312-4eb6-a6f1-c77d3e663976"
      },
      "source": [
        "pred = model.predict(x_test)\n",
        "# get np.argmaax to return an index of the maximum value in array\n",
        "y_pred = np.argmax(pred, axis=1)\n",
        "y_pred[1]"
      ],
      "execution_count": 31,
      "outputs": [
        {
          "output_type": "execute_result",
          "data": {
            "text/plain": [
              "array([ 4,  4,  4,  4,  4,  4,  4,  4,  4,  4,  4,  4,  4,  4,  4,  4,  4,\n",
              "        4,  4, 23,  4,  4,  4,  4,  4])"
            ]
          },
          "metadata": {
            "tags": []
          },
          "execution_count": 31
        }
      ]
    },
    {
      "cell_type": "markdown",
      "metadata": {
        "id": "7JX1bQTVUHpH"
      },
      "source": [
        "# Model Validation\n",
        "  - Entity's true_vlaues & Predictions"
      ]
    },
    {
      "cell_type": "code",
      "metadata": {
        "colab": {
          "base_uri": "https://localhost:8080/"
        },
        "id": "SBSCLi2vVzut",
        "outputId": "abddb0cd-95be-41a1-9d0e-ef90f0ea6116"
      },
      "source": [
        "# store model evaluation into index variable\n",
        "index = np.random.randint(0, x_test.shape[0])\n",
        "# store prediction into predictions variable\n",
        "predictions = model.predict(np.array([x_test[index]]))\n",
        "# define one-hot encoding for predictions - get an index of the maximum value\n",
        "predictions = np.argmax(predictions, axis=-1)\n",
        "# store true values that model evaluates\n",
        "y_true = np.argmax(np.array(y_test), axis=-1)[index]\n",
        "# define table with columns name\n",
        "print(\"{:15} {:5}\\t {}\\n\".format(\"words\", \"True_Values\", \"Predictions\"))\n",
        "print(\"--\"*30)\n",
        "# iterate over each words, true values and predictions\n",
        "for word, true_values, prediction in zip(x_test[index], y_true, predictions[0]):\n",
        "    print(\"{:15} {:10}\\t{}\".format(words[word-1], tags[true_values], tags[prediction]))"
      ],
      "execution_count": 37,
      "outputs": [
        {
          "output_type": "stream",
          "text": [
            "words           True_Values\t Predictions\n",
            "\n",
            "------------------------------------------------------------\n",
            "show            O         \tO\n",
            "me              O         \tO\n",
            "an              O         \tO\n",
            "oscar           B-RATINGS_AVERAGE\tO\n",
            "winning         I-RATINGS_AVERAGE\tO\n",
            "science         B-GENRE   \tO\n",
            "fiction         I-GENRE   \tO\n",
            "movie           O         \tO\n",
            "vance           O         \tO\n",
            "vance           O         \tO\n",
            "vance           O         \tO\n",
            "vance           O         \tO\n",
            "vance           O         \tO\n",
            "vance           O         \tO\n",
            "vance           O         \tO\n",
            "vance           O         \tO\n",
            "vance           O         \tO\n",
            "vance           O         \tO\n",
            "vance           O         \tO\n",
            "vance           O         \tO\n",
            "vance           O         \tO\n",
            "vance           O         \tO\n",
            "vance           O         \tO\n",
            "vance           O         \tO\n",
            "vance           O         \tO\n",
            "vance           O         \tO\n",
            "vance           O         \tO\n",
            "vance           O         \tO\n",
            "vance           O         \tO\n",
            "vance           O         \tO\n",
            "vance           O         \tO\n",
            "vance           O         \tO\n",
            "vance           O         \tO\n",
            "vance           O         \tO\n",
            "vance           O         \tO\n",
            "vance           O         \tO\n",
            "vance           O         \tO\n",
            "vance           O         \tO\n"
          ],
          "name": "stdout"
        }
      ]
    },
    {
      "cell_type": "code",
      "metadata": {
        "id": "sWYNW7sWoebJ"
      },
      "source": [
        ""
      ],
      "execution_count": null,
      "outputs": []
    }
  ]
}
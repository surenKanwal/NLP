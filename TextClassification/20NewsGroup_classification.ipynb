{
 "cells": [
  {
   "cell_type": "markdown",
   "id": "amended-amateur",
   "metadata": {},
   "source": [
    "# Importing required package"
   ]
  },
  {
   "cell_type": "code",
   "execution_count": 1,
   "id": "hungry-medicare",
   "metadata": {},
   "outputs": [],
   "source": [
    "import os\n",
    "import time \n",
    "import nltk\n",
    "import random\n",
    "import numpy as np\n",
    "import pandas as pd\n",
    "import matplotlib.pyplot as plt\n",
    "from columnar import columnar\n",
    "from pprint import pprint\n",
    "from sklearn.svm import SVC\n",
    "from sklearn.utils import shuffle\n",
    "from sklearn.datasets import load_files\n",
    "from sklearn.pipeline import Pipeline\n",
    "from sklearn.naive_bayes import MultinomialNB\n",
    "from sklearn.neural_network import MLPClassifier\n",
    "from sklearn.datasets import fetch_20newsgroups\n",
    "from sklearn.metrics import classification_report, confusion_matrix\n",
    "from sklearn.model_selection import cross_val_score, RepeatedStratifiedKFold\n",
    "from sklearn.feature_extraction.text import CountVectorizer, TfidfTransformer"
   ]
  },
  {
   "cell_type": "markdown",
   "id": "falling-animation",
   "metadata": {},
   "source": [
    "# Loading Data"
   ]
  },
  {
   "cell_type": "code",
   "execution_count": 2,
   "id": "stuffed-literature",
   "metadata": {},
   "outputs": [
    {
     "name": "stdout",
     "output_type": "stream",
     "text": [
      "Training target_name:\n",
      " ['alt.atheism', 'comp.graphics', 'sci.space', 'talk.politics.misc', 'talk.religion.misc']\n",
      "Taining data:  2499\n",
      "Testing data:  1663\n"
     ]
    }
   ],
   "source": [
    "# list of categories for training model\n",
    "categories = ['alt.atheism', 'talk.religion.misc', 'talk.politics.misc', 'comp.graphics', 'sci.space']\n",
    "train_data = fetch_20newsgroups(subset='train', categories=categories, shuffle=True, remove=['headers', 'footers', 'quotes'], random_state=42)\n",
    "test_data = fetch_20newsgroups(subset='test', categories=categories, shuffle=True, remove=['headers', 'footers', 'quotes'], random_state=42)\n",
    "# display\n",
    "print(\"Training target_name:\\n\", train_data.target_names)\n",
    "print(\"Taining data: \", len(train_data['data']))\n",
    "print(\"Testing data: \", len(test_data['data']))"
   ]
  },
  {
   "cell_type": "code",
   "execution_count": 3,
   "id": "violent-template",
   "metadata": {},
   "outputs": [
    {
     "name": "stdout",
     "output_type": "stream",
     "text": [
      "------------ Training data --------------------\n",
      "[('alt.atheism', 480), ('comp.graphics', 584), ('sci.space', 593), ('talk.politics.misc', 465), ('talk.religion.misc', 377)]\n",
      "---Train frequency table---\n",
      "[[  0 480]\n",
      " [  1 584]\n",
      " [  2 593]\n",
      " [  3 465]\n",
      " [  4 377]]\n",
      "\n",
      "-------------- Test data ---------------------\n",
      "[('alt.atheism', 319), ('comp.graphics', 389), ('sci.space', 394), ('talk.politics.misc', 310), ('talk.religion.misc', 251)]\n",
      "---Test frequency table---\n",
      "[[  0 319]\n",
      " [  1 389]\n",
      " [  2 394]\n",
      " [  3 310]\n",
      " [  4 251]]\n"
     ]
    }
   ],
   "source": [
    "print(\"------------ Training data --------------------\")\n",
    "# Count by target_names - training data\n",
    "target, count_target = np.unique(train_data.target, return_counts=True)\n",
    "train_target_name = np.array(train_data.target_names)\n",
    "print(list(zip(train_target_name, count_target)))\n",
    "print(\"---Train frequency table---\") # blank line\n",
    "print(np.vstack((target, count_target)).T)\n",
    "print() # blank line\n",
    "print(\"-------------- Test data ---------------------\")\n",
    "# Count by target_names - test data\n",
    "test_target, test_count_target = np.unique(test_data.target, return_counts=True)\n",
    "test_target_name = np.array(test_data.target_names)\n",
    "print(list(zip(test_target_name, test_count_target)))\n",
    "print(\"---Test frequency table---\") # blank line\n",
    "print(np.vstack((test_target, test_count_target)).T)"
   ]
  },
  {
   "cell_type": "markdown",
   "id": "injured-antarctica",
   "metadata": {},
   "source": [
    "# Data processing\n",
    "    - Tokenize\n",
    "    - Converting words in lower cases\n",
    "    - Removing stopwords\n",
    "    - Stemming\n",
    "    - Lemmatizing\n",
    "    - Converting into Vector"
   ]
  },
  {
   "cell_type": "code",
   "execution_count": null,
   "id": "trained-retailer",
   "metadata": {},
   "outputs": [],
   "source": []
  },
  {
   "cell_type": "code",
   "execution_count": null,
   "id": "knowing-power",
   "metadata": {},
   "outputs": [],
   "source": []
  },
  {
   "cell_type": "code",
   "execution_count": null,
   "id": "pleasant-crack",
   "metadata": {},
   "outputs": [],
   "source": []
  },
  {
   "cell_type": "code",
   "execution_count": null,
   "id": "immune-enough",
   "metadata": {},
   "outputs": [],
   "source": []
  },
  {
   "cell_type": "code",
   "execution_count": null,
   "id": "future-moisture",
   "metadata": {},
   "outputs": [],
   "source": []
  },
  {
   "cell_type": "code",
   "execution_count": null,
   "id": "indirect-devil",
   "metadata": {},
   "outputs": [],
   "source": []
  },
  {
   "cell_type": "code",
   "execution_count": null,
   "id": "weird-logistics",
   "metadata": {},
   "outputs": [],
   "source": []
  },
  {
   "cell_type": "code",
   "execution_count": null,
   "id": "radio-conviction",
   "metadata": {},
   "outputs": [],
   "source": []
  },
  {
   "cell_type": "code",
   "execution_count": null,
   "id": "accomplished-explorer",
   "metadata": {},
   "outputs": [],
   "source": []
  },
  {
   "cell_type": "code",
   "execution_count": null,
   "id": "little-tackle",
   "metadata": {},
   "outputs": [],
   "source": []
  },
  {
   "cell_type": "code",
   "execution_count": null,
   "id": "wound-wheel",
   "metadata": {},
   "outputs": [],
   "source": []
  }
 ],
 "metadata": {
  "kernelspec": {
   "display_name": "Python 3",
   "language": "python",
   "name": "python3"
  },
  "language_info": {
   "codemirror_mode": {
    "name": "ipython",
    "version": 3
   },
   "file_extension": ".py",
   "mimetype": "text/x-python",
   "name": "python",
   "nbconvert_exporter": "python",
   "pygments_lexer": "ipython3",
   "version": "3.7.6"
  }
 },
 "nbformat": 4,
 "nbformat_minor": 5
}
